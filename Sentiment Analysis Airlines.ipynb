{
 "cells": [
  {
   "cell_type": "markdown",
   "id": "adfa1236",
   "metadata": {},
   "source": [
    "# Sentiment analysis of tweets\n",
    "\n",
    "Predict whether a tweet is positive, negative or neutral."
   ]
  },
  {
   "cell_type": "code",
   "execution_count": 57,
   "id": "1168cf6a",
   "metadata": {},
   "outputs": [],
   "source": [
    "import pandas as pd\n",
    "import numpy as np\n",
    "\n",
    "import matplotlib.pyplot as plt\n",
    "import seaborn as sns\n",
    "\n",
    "import ast\n",
    "import datetime\n",
    "\n",
    "import re\n",
    "\n",
    "from nltk.corpus import stopwords\n",
    "\n",
    "# Stemming\n",
    "from nltk.stem import PorterStemmer\n",
    "\n",
    "from sklearn.model_selection import train_test_split\n",
    "\n",
    "# pipeline\n",
    "from sklearn.pipeline import Pipeline\n",
    "from sklearn.base import BaseEstimator, TransformerMixin\n",
    "\n",
    "# cleaning geographical data\n",
    "import geotext\n",
    "import nltk\n",
    "\n",
    "# vectorisor\n",
    "from sklearn.feature_extraction.text import TfidfVectorizer\n",
    "\n",
    "# models\n",
    "from sklearn.naive_bayes import BernoulliNB\n",
    "from sklearn.linear_model import LogisticRegression\n",
    "from sklearn.svm import LinearSVC\n",
    "from sklearn.ensemble import RandomForestClassifier\n",
    "\n",
    "# metrics\n",
    "from sklearn.metrics import confusion_matrix, classification_report, cohen_kappa_score, roc_auc_score, roc_curve\n",
    "\n",
    "# multiclass\n",
    "from sklearn.multiclass import OneVsRestClassifier\n",
    "\n",
    "# hyperparameter tuning\n",
    "from sklearn.model_selection import GridSearchCV"
   ]
  },
  {
   "cell_type": "code",
   "execution_count": 9,
   "id": "5181a040",
   "metadata": {},
   "outputs": [],
   "source": [
    "pd.set_option('display.max_rows', None,'max.columns', None,'display.max_colwidth', 200)\n",
    "pd.set_option('display.float_format', lambda x: '%.3f' % x)"
   ]
  },
  {
   "cell_type": "code",
   "execution_count": 10,
   "id": "69c2b9f3",
   "metadata": {},
   "outputs": [
    {
     "data": {
      "text/html": [
       "<div>\n",
       "<style scoped>\n",
       "    .dataframe tbody tr th:only-of-type {\n",
       "        vertical-align: middle;\n",
       "    }\n",
       "\n",
       "    .dataframe tbody tr th {\n",
       "        vertical-align: top;\n",
       "    }\n",
       "\n",
       "    .dataframe thead th {\n",
       "        text-align: right;\n",
       "    }\n",
       "</style>\n",
       "<table border=\"1\" class=\"dataframe\">\n",
       "  <thead>\n",
       "    <tr style=\"text-align: right;\">\n",
       "      <th></th>\n",
       "      <th>tweet_id</th>\n",
       "      <th>airline_sentiment</th>\n",
       "      <th>airline_sentiment_confidence</th>\n",
       "      <th>negativereason</th>\n",
       "      <th>negativereason_confidence</th>\n",
       "      <th>airline</th>\n",
       "      <th>airline_sentiment_gold</th>\n",
       "      <th>name</th>\n",
       "      <th>negativereason_gold</th>\n",
       "      <th>retweet_count</th>\n",
       "      <th>text</th>\n",
       "      <th>tweet_coord</th>\n",
       "      <th>tweet_created</th>\n",
       "      <th>tweet_location</th>\n",
       "      <th>user_timezone</th>\n",
       "    </tr>\n",
       "  </thead>\n",
       "  <tbody>\n",
       "    <tr>\n",
       "      <th>0</th>\n",
       "      <td>570306133677760513</td>\n",
       "      <td>neutral</td>\n",
       "      <td>1.000</td>\n",
       "      <td>NaN</td>\n",
       "      <td>NaN</td>\n",
       "      <td>Virgin America</td>\n",
       "      <td>NaN</td>\n",
       "      <td>cairdin</td>\n",
       "      <td>NaN</td>\n",
       "      <td>0</td>\n",
       "      <td>@VirginAmerica What @dhepburn said.</td>\n",
       "      <td>NaN</td>\n",
       "      <td>2015-02-24 11:35:52 -0800</td>\n",
       "      <td>NaN</td>\n",
       "      <td>Eastern Time (US &amp; Canada)</td>\n",
       "    </tr>\n",
       "    <tr>\n",
       "      <th>1</th>\n",
       "      <td>570301130888122368</td>\n",
       "      <td>positive</td>\n",
       "      <td>0.349</td>\n",
       "      <td>NaN</td>\n",
       "      <td>0.000</td>\n",
       "      <td>Virgin America</td>\n",
       "      <td>NaN</td>\n",
       "      <td>jnardino</td>\n",
       "      <td>NaN</td>\n",
       "      <td>0</td>\n",
       "      <td>@VirginAmerica plus you've added commercials to the experience... tacky.</td>\n",
       "      <td>NaN</td>\n",
       "      <td>2015-02-24 11:15:59 -0800</td>\n",
       "      <td>NaN</td>\n",
       "      <td>Pacific Time (US &amp; Canada)</td>\n",
       "    </tr>\n",
       "    <tr>\n",
       "      <th>2</th>\n",
       "      <td>570301083672813571</td>\n",
       "      <td>neutral</td>\n",
       "      <td>0.684</td>\n",
       "      <td>NaN</td>\n",
       "      <td>NaN</td>\n",
       "      <td>Virgin America</td>\n",
       "      <td>NaN</td>\n",
       "      <td>yvonnalynn</td>\n",
       "      <td>NaN</td>\n",
       "      <td>0</td>\n",
       "      <td>@VirginAmerica I didn't today... Must mean I need to take another trip!</td>\n",
       "      <td>NaN</td>\n",
       "      <td>2015-02-24 11:15:48 -0800</td>\n",
       "      <td>Lets Play</td>\n",
       "      <td>Central Time (US &amp; Canada)</td>\n",
       "    </tr>\n",
       "  </tbody>\n",
       "</table>\n",
       "</div>"
      ],
      "text/plain": [
       "             tweet_id airline_sentiment  airline_sentiment_confidence  \\\n",
       "0  570306133677760513           neutral                         1.000   \n",
       "1  570301130888122368          positive                         0.349   \n",
       "2  570301083672813571           neutral                         0.684   \n",
       "\n",
       "  negativereason  negativereason_confidence         airline  \\\n",
       "0            NaN                        NaN  Virgin America   \n",
       "1            NaN                      0.000  Virgin America   \n",
       "2            NaN                        NaN  Virgin America   \n",
       "\n",
       "  airline_sentiment_gold        name negativereason_gold  retweet_count  \\\n",
       "0                    NaN     cairdin                 NaN              0   \n",
       "1                    NaN    jnardino                 NaN              0   \n",
       "2                    NaN  yvonnalynn                 NaN              0   \n",
       "\n",
       "                                                                       text  \\\n",
       "0                                       @VirginAmerica What @dhepburn said.   \n",
       "1  @VirginAmerica plus you've added commercials to the experience... tacky.   \n",
       "2   @VirginAmerica I didn't today... Must mean I need to take another trip!   \n",
       "\n",
       "  tweet_coord              tweet_created tweet_location  \\\n",
       "0         NaN  2015-02-24 11:35:52 -0800            NaN   \n",
       "1         NaN  2015-02-24 11:15:59 -0800            NaN   \n",
       "2         NaN  2015-02-24 11:15:48 -0800      Lets Play   \n",
       "\n",
       "                user_timezone  \n",
       "0  Eastern Time (US & Canada)  \n",
       "1  Pacific Time (US & Canada)  \n",
       "2  Central Time (US & Canada)  "
      ]
     },
     "execution_count": 10,
     "metadata": {},
     "output_type": "execute_result"
    }
   ],
   "source": [
    "df = pd.read_csv('Tweets.csv')\n",
    "\n",
    "df.head(3)"
   ]
  },
  {
   "cell_type": "code",
   "execution_count": 11,
   "id": "8bc2632e",
   "metadata": {},
   "outputs": [
    {
     "data": {
      "text/plain": [
       "tweet_id                            0\n",
       "airline_sentiment                   0\n",
       "airline_sentiment_confidence        0\n",
       "negativereason                   5462\n",
       "negativereason_confidence        4118\n",
       "airline                             0\n",
       "airline_sentiment_gold          14600\n",
       "name                                0\n",
       "negativereason_gold             14608\n",
       "retweet_count                       0\n",
       "text                                0\n",
       "tweet_coord                     13621\n",
       "tweet_created                       0\n",
       "tweet_location                   4733\n",
       "user_timezone                    4820\n",
       "dtype: int64"
      ]
     },
     "execution_count": 11,
     "metadata": {},
     "output_type": "execute_result"
    }
   ],
   "source": [
    "df.isnull().sum()"
   ]
  },
  {
   "cell_type": "code",
   "execution_count": 12,
   "id": "5fd60ef3",
   "metadata": {},
   "outputs": [],
   "source": [
    "# There are no missing values in the target column or the predictor variable"
   ]
  },
  {
   "cell_type": "code",
   "execution_count": 13,
   "id": "1b599ba4",
   "metadata": {},
   "outputs": [],
   "source": [
    "# train test split\n",
    "\n",
    "X = df['text']\n",
    "y = df['airline_sentiment']\n",
    "\n",
    "X_train, X_test, y_train, y_test = train_test_split(X,y, test_size=0.2, random_state=10)"
   ]
  },
  {
   "cell_type": "markdown",
   "id": "2c4430fc",
   "metadata": {},
   "source": [
    "# Clean all tweets"
   ]
  },
  {
   "cell_type": "code",
   "execution_count": 79,
   "id": "6bdd41e3",
   "metadata": {},
   "outputs": [],
   "source": [
    "global stopwords_list  \n",
    "\n",
    "stopwords_list = stopwords.words('english')"
   ]
  },
  {
   "cell_type": "code",
   "execution_count": 86,
   "id": "340d3a50",
   "metadata": {},
   "outputs": [],
   "source": [
    "class clean_tweet(BaseEstimator,TransformerMixin):\n",
    "    \n",
    "    def __init__(self):\n",
    "        print('init called')\n",
    "    \n",
    "    def fit(self,X,y=None):\n",
    "        print('fit called')\n",
    "        return self\n",
    "       \n",
    "    def transform(self, X, y = None):\n",
    "        \n",
    "        print('transform called')\n",
    "        \n",
    "        X_1 = X.copy()\n",
    "  \n",
    "        def clean_tweet_func(tweet):\n",
    "\n",
    "            if type(tweet) == float:\n",
    "                return \"\"\n",
    "\n",
    "            temp = tweet.lower()\n",
    "            temp = re.sub(\"'\", \"\", temp) # to avoid removing contractions in english\n",
    "            temp = re.sub(\"@[A-Za-z0-9_]+\",\"\", temp)\n",
    "            temp = re.sub(\"#[A-Za-z0-9_]+\",\"\", temp)\n",
    "            temp = re.sub(r'http\\S+', '', temp)\n",
    "            temp = re.sub('[()!?]', ' ', temp)\n",
    "            temp = re.sub('\\[.*?\\]',' ', temp)\n",
    "            temp = re.sub(\"[^a-z0-9]\",\" \", temp)\n",
    "            temp = temp.split()\n",
    "            temp = [w for w in temp if not w in stopwords_list]\n",
    "\n",
    "\n",
    "            #Instantiate stemming class\n",
    "            stemmer = PorterStemmer()\n",
    "\n",
    "            #Creating a list of stems of words in tweet\n",
    "            tweets_stem = []\n",
    "            for word in temp:\n",
    "                stem_word = stemmer.stem(word)\n",
    "                tweets_stem.append(stem_word)\n",
    "\n",
    "            tweets_stem = \" \".join(word for word in tweets_stem)\n",
    "\n",
    "            return tweets_stem\n",
    "        \n",
    "        X_1 = X_1.apply(lambda x: clean_tweet_func(x))\n",
    "        \n",
    "        return X_1\n"
   ]
  },
  {
   "cell_type": "code",
   "execution_count": 87,
   "id": "c5a333a7",
   "metadata": {},
   "outputs": [
    {
     "name": "stdout",
     "output_type": "stream",
     "text": [
      "init called\n"
     ]
    }
   ],
   "source": [
    "# build the pipeline\n",
    "\n",
    "text_transformer = Pipeline(steps = [('cleaner',clean_tweet()),\n",
    "                                    ('vectorize_text',TfidfVectorizer(ngram_range=(1,2), max_features=500000))])\n"
   ]
  },
  {
   "cell_type": "code",
   "execution_count": 88,
   "id": "295e693e",
   "metadata": {},
   "outputs": [
    {
     "name": "stdout",
     "output_type": "stream",
     "text": [
      "fit called\n",
      "transform called\n",
      "transform called\n"
     ]
    }
   ],
   "source": [
    "# fit the pipeline on train data\n",
    "\n",
    "text_transformer.fit(X_train)\n",
    "\n",
    "X_train_text_vectorised = text_transformer.transform(X_train)"
   ]
  },
  {
   "cell_type": "code",
   "execution_count": 89,
   "id": "4b66577c",
   "metadata": {},
   "outputs": [
    {
     "name": "stdout",
     "output_type": "stream",
     "text": [
      "transform called\n"
     ]
    }
   ],
   "source": [
    "# transform the test data with the pipeline\n",
    "\n",
    "X_test_text_vectorised = text_transformer.transform(X_test)"
   ]
  },
  {
   "cell_type": "code",
   "execution_count": 85,
   "id": "af6aaf1c",
   "metadata": {},
   "outputs": [],
   "source": [
    "# SMOTE on the training data\n",
    "\n",
    "from imblearn.over_sampling import SMOTE\n",
    "\n",
    "sm_model = SMOTE()\n",
    "X_train_res, y_train_res = sm_model.fit_resample(X_train_text_vectorised, y_train) "
   ]
  },
  {
   "cell_type": "code",
   "execution_count": 21,
   "id": "2dce234e",
   "metadata": {},
   "outputs": [
    {
     "data": {
      "text/plain": [
       "negative    7397\n",
       "positive    7397\n",
       "neutral     7397\n",
       "Name: airline_sentiment, dtype: int64"
      ]
     },
     "execution_count": 21,
     "metadata": {},
     "output_type": "execute_result"
    }
   ],
   "source": [
    "y_train_res.value_counts()"
   ]
  },
  {
   "cell_type": "markdown",
   "id": "344d51dc",
   "metadata": {},
   "source": [
    "# Predictive Modelling"
   ]
  },
  {
   "cell_type": "markdown",
   "id": "129ee232",
   "metadata": {},
   "source": [
    "## Naive Bayes"
   ]
  },
  {
   "cell_type": "code",
   "execution_count": 22,
   "id": "277f9d62",
   "metadata": {},
   "outputs": [],
   "source": [
    "BNBmodel = BernoulliNB()\n",
    "BNBmodel.fit(X_train_res, y_train_res)\n",
    "y_pred_train = BNBmodel.predict(X_train_res)"
   ]
  },
  {
   "cell_type": "code",
   "execution_count": 23,
   "id": "b47f53f2",
   "metadata": {},
   "outputs": [
    {
     "name": "stdout",
     "output_type": "stream",
     "text": [
      "              precision    recall  f1-score   support\n",
      "\n",
      "    negative       1.00      0.89      0.94      7397\n",
      "     neutral       0.85      0.99      0.91      7397\n",
      "    positive       0.97      0.92      0.94      7397\n",
      "\n",
      "    accuracy                           0.93     22191\n",
      "   macro avg       0.94      0.93      0.93     22191\n",
      "weighted avg       0.94      0.93      0.93     22191\n",
      "\n"
     ]
    }
   ],
   "source": [
    "print(classification_report(y_train_res,y_pred_train))"
   ]
  },
  {
   "cell_type": "code",
   "execution_count": 24,
   "id": "e3e18d50",
   "metadata": {
    "scrolled": true
   },
   "outputs": [
    {
     "name": "stdout",
     "output_type": "stream",
     "text": [
      "              precision    recall  f1-score   support\n",
      "\n",
      "    negative       0.92      0.69      0.79      1781\n",
      "     neutral       0.50      0.79      0.61       680\n",
      "    positive       0.61      0.68      0.64       467\n",
      "\n",
      "    accuracy                           0.71      2928\n",
      "   macro avg       0.68      0.72      0.68      2928\n",
      "weighted avg       0.77      0.71      0.72      2928\n",
      "\n"
     ]
    }
   ],
   "source": [
    "y_pred_test = BNBmodel.predict(X_test_text_vectorised)\n",
    "\n",
    "naive_bayes_classification_report = classification_report(y_test,y_pred_test, output_dict=True)\n",
    "\n",
    "print(classification_report(y_test,y_pred_test))"
   ]
  },
  {
   "cell_type": "code",
   "execution_count": 25,
   "id": "13ebf099",
   "metadata": {
    "scrolled": false
   },
   "outputs": [
    {
     "data": {
      "text/plain": [
       "<AxesSubplot:>"
      ]
     },
     "execution_count": 25,
     "metadata": {},
     "output_type": "execute_result"
    },
    {
     "data": {
      "image/png": "[encoded data removed]",
      "text/plain": [
       "<Figure size 864x288 with 4 Axes>"
      ]
     },
     "metadata": {
      "needs_background": "light"
     },
     "output_type": "display_data"
    }
   ],
   "source": [
    "# train results\n",
    "\n",
    "plt.figure(figsize = (12,4))\n",
    "\n",
    "plt.subplot(1,2,1)\n",
    "\n",
    "sns.heatmap(pd.DataFrame(classification_report(y_train_res,y_pred_train, output_dict= True)).iloc[:3,:3], annot= True)\n",
    "\n",
    "\n",
    "# test results\n",
    "plt.subplot(1,2,2)\n",
    "\n",
    "sns.heatmap(pd.DataFrame(classification_report(y_test,y_pred_test, output_dict= True)).iloc[:3,:3], annot= True)"
   ]
  },
  {
   "cell_type": "code",
   "execution_count": 26,
   "id": "c0435fb8",
   "metadata": {
    "scrolled": false
   },
   "outputs": [
    {
     "data": {
      "text/plain": [
       "Text(0.5, 0, 'Tweet Sentiment')"
      ]
     },
     "execution_count": 26,
     "metadata": {},
     "output_type": "execute_result"
    },
    {
     "data": {
      "image/png": "[encoded data removed]",
      "text/plain": [
       "<Figure size 432x288 with 1 Axes>"
      ]
     },
     "metadata": {
      "needs_background": "light"
     },
     "output_type": "display_data"
    }
   ],
   "source": [
    "# lets visualise where our missclassified samples are going\n",
    "\n",
    "pd.DataFrame(confusion_matrix(y_test,y_pred_test), index = ['negative','neutral', 'positive'],columns = ['negative','neutral', 'positive']).plot(kind = 'bar', stacked = True)\n",
    "\n",
    "plt.xlabel('Tweet Sentiment')"
   ]
  },
  {
   "cell_type": "markdown",
   "id": "31a60186",
   "metadata": {},
   "source": [
    "A large chunk of neutral reviews are clasified as negative."
   ]
  },
  {
   "cell_type": "code",
   "execution_count": 27,
   "id": "601500a7",
   "metadata": {
    "scrolled": true
   },
   "outputs": [
    {
     "data": {
      "text/plain": [
       "0.5264628022683961"
      ]
     },
     "execution_count": 27,
     "metadata": {},
     "output_type": "execute_result"
    }
   ],
   "source": [
    "cohen_kappa_score(y_test,y_pred_test)"
   ]
  },
  {
   "cell_type": "markdown",
   "id": "11ee459d",
   "metadata": {},
   "source": [
    "This indicates moderate agreement."
   ]
  },
  {
   "cell_type": "markdown",
   "id": "143fe4c9",
   "metadata": {},
   "source": [
    "## Logistic Regression"
   ]
  },
  {
   "cell_type": "code",
   "execution_count": 28,
   "id": "7f8bbd4f",
   "metadata": {},
   "outputs": [],
   "source": [
    "log_model = LogisticRegression(multi_class='ovr', solver='liblinear')\n",
    "log_model.fit(X_train_res, y_train_res)\n",
    "y_pred_train = log_model.predict(X_train_res)"
   ]
  },
  {
   "cell_type": "code",
   "execution_count": 29,
   "id": "90824b40",
   "metadata": {
    "scrolled": false
   },
   "outputs": [
    {
     "name": "stdout",
     "output_type": "stream",
     "text": [
      "              precision    recall  f1-score   support\n",
      "\n",
      "    negative       0.95      0.93      0.94      7397\n",
      "     neutral       0.86      0.94      0.90      7397\n",
      "    positive       0.95      0.88      0.91      7397\n",
      "\n",
      "    accuracy                           0.92     22191\n",
      "   macro avg       0.92      0.92      0.92     22191\n",
      "weighted avg       0.92      0.92      0.92     22191\n",
      "\n"
     ]
    }
   ],
   "source": [
    "print(classification_report(y_train_res,y_pred_train,zero_division=0))"
   ]
  },
  {
   "cell_type": "code",
   "execution_count": 30,
   "id": "571a6513",
   "metadata": {
    "scrolled": true
   },
   "outputs": [
    {
     "name": "stdout",
     "output_type": "stream",
     "text": [
      "              precision    recall  f1-score   support\n",
      "\n",
      "    negative       0.83      0.91      0.86      1781\n",
      "     neutral       0.73      0.51      0.60       680\n",
      "    positive       0.69      0.73      0.71       467\n",
      "\n",
      "    accuracy                           0.79      2928\n",
      "   macro avg       0.75      0.72      0.72      2928\n",
      "weighted avg       0.78      0.79      0.78      2928\n",
      "\n"
     ]
    }
   ],
   "source": [
    "y_pred_test = log_model.predict(X_test_text_vectorised)\n",
    "\n",
    "log_reg_classification_report = classification_report(y_test,y_pred_test, output_dict=True)\n",
    "\n",
    "print(classification_report(y_test,y_pred_test))"
   ]
  },
  {
   "cell_type": "code",
   "execution_count": 31,
   "id": "11ac981e",
   "metadata": {
    "scrolled": false
   },
   "outputs": [
    {
     "data": {
      "text/plain": [
       "<AxesSubplot:>"
      ]
     },
     "execution_count": 31,
     "metadata": {},
     "output_type": "execute_result"
    },
    {
     "data": {
      "image/png": "[encoded data removed]",
      "text/plain": [
       "<Figure size 864x288 with 4 Axes>"
      ]
     },
     "metadata": {
      "needs_background": "light"
     },
     "output_type": "display_data"
    }
   ],
   "source": [
    "# train results\n",
    "\n",
    "plt.figure(figsize = (12,4))\n",
    "\n",
    "plt.subplot(1,2,1)\n",
    "\n",
    "sns.heatmap(pd.DataFrame(classification_report(y_train_res,y_pred_train, output_dict= True)).iloc[:3,:3], annot= True,vmin=0 ,vmax=1)\n",
    "\n",
    "\n",
    "# test results\n",
    "plt.subplot(1,2,2)\n",
    "\n",
    "sns.heatmap(pd.DataFrame(classification_report(y_test,y_pred_test, output_dict= True)).iloc[:3,:3], annot= True,vmin=0 ,vmax=1)"
   ]
  },
  {
   "cell_type": "code",
   "execution_count": 32,
   "id": "c57b0571",
   "metadata": {
    "scrolled": false
   },
   "outputs": [
    {
     "data": {
      "text/plain": [
       "Text(0.5, 0, 'Tweet Sentiment')"
      ]
     },
     "execution_count": 32,
     "metadata": {},
     "output_type": "execute_result"
    },
    {
     "data": {
      "image/png": "[encoded data removed]",
      "text/plain": [
       "<Figure size 432x288 with 1 Axes>"
      ]
     },
     "metadata": {
      "needs_background": "light"
     },
     "output_type": "display_data"
    }
   ],
   "source": [
    "# lets visualise where our missclassified samples are going\n",
    "\n",
    "pd.DataFrame(confusion_matrix(y_test,y_pred_test), index = ['negative','neutral', 'positive'],columns = ['negative','neutral', 'positive']).plot(kind = 'bar', stacked = True)\n",
    "\n",
    "plt.xlabel('Tweet Sentiment')"
   ]
  },
  {
   "cell_type": "markdown",
   "id": "ae971ba3",
   "metadata": {},
   "source": [
    "A chunk of negative reviews are clasified as neutral."
   ]
  },
  {
   "cell_type": "code",
   "execution_count": 33,
   "id": "5dbfe608",
   "metadata": {
    "scrolled": true
   },
   "outputs": [
    {
     "data": {
      "text/plain": [
       "0.5969549791966816"
      ]
     },
     "execution_count": 33,
     "metadata": {},
     "output_type": "execute_result"
    }
   ],
   "source": [
    "cohen_kappa_score(y_test,y_pred_test)"
   ]
  },
  {
   "cell_type": "markdown",
   "id": "0b4a58e4",
   "metadata": {},
   "source": [
    "### SVM"
   ]
  },
  {
   "cell_type": "code",
   "execution_count": 648,
   "id": "ddcddee6",
   "metadata": {},
   "outputs": [],
   "source": [
    "SVCmodel = LinearSVC()\n",
    "SVCmodel.fit(X_train_res, y_train_res)\n",
    "y_pred_train = SVCmodel.predict(X_train_res)"
   ]
  },
  {
   "cell_type": "code",
   "execution_count": 649,
   "id": "7c776f98",
   "metadata": {
    "scrolled": true
   },
   "outputs": [
    {
     "name": "stdout",
     "output_type": "stream",
     "text": [
      "              precision    recall  f1-score   support\n",
      "\n",
      "    negative       1.00      1.00      1.00      7397\n",
      "     neutral       0.93      0.99      0.96      7397\n",
      "    positive       0.99      0.93      0.95      7397\n",
      "\n",
      "    accuracy                           0.97     22191\n",
      "   macro avg       0.97      0.97      0.97     22191\n",
      "weighted avg       0.97      0.97      0.97     22191\n",
      "\n"
     ]
    }
   ],
   "source": [
    "print(classification_report(y_train_res,y_pred_train, zero_division=0))"
   ]
  },
  {
   "cell_type": "code",
   "execution_count": 650,
   "id": "70559303",
   "metadata": {
    "scrolled": true
   },
   "outputs": [
    {
     "name": "stdout",
     "output_type": "stream",
     "text": [
      "              precision    recall  f1-score   support\n",
      "\n",
      "    negative       0.80      0.93      0.86      1781\n",
      "     neutral       0.72      0.45      0.56       680\n",
      "    positive       0.72      0.68      0.70       467\n",
      "\n",
      "    accuracy                           0.78      2928\n",
      "   macro avg       0.75      0.69      0.71      2928\n",
      "weighted avg       0.77      0.78      0.77      2928\n",
      "\n"
     ]
    }
   ],
   "source": [
    "y_pred_test = SVCmodel.predict(X_test_text_vectorised)\n",
    "\n",
    "svm_classification_report = classification_report(y_test,y_pred_test, output_dict=True)\n",
    "\n",
    "print(classification_report(y_test,y_pred_test))"
   ]
  },
  {
   "cell_type": "code",
   "execution_count": 613,
   "id": "54806e57",
   "metadata": {
    "scrolled": false
   },
   "outputs": [
    {
     "data": {
      "text/plain": [
       "<AxesSubplot:>"
      ]
     },
     "execution_count": 613,
     "metadata": {},
     "output_type": "execute_result"
    },
    {
     "data": {
      "image/png": "[encoded data removed]",
      "text/plain": [
       "<Figure size 864x288 with 4 Axes>"
      ]
     },
     "metadata": {
      "needs_background": "light"
     },
     "output_type": "display_data"
    }
   ],
   "source": [
    "# train results\n",
    "\n",
    "plt.figure(figsize = (12,4))\n",
    "\n",
    "plt.subplot(1,2,1)\n",
    "\n",
    "sns.heatmap(pd.DataFrame(classification_report(y_train_res,y_pred_train, output_dict= True)).iloc[:3,:3], annot= True,vmin=0 ,vmax=1)\n",
    "\n",
    "\n",
    "# test results\n",
    "plt.subplot(1,2,2)\n",
    "\n",
    "sns.heatmap(pd.DataFrame(classification_report(y_test,y_pred_test, output_dict= True)).iloc[:3,:3], annot= True,vmin=0 ,vmax=1)"
   ]
  },
  {
   "cell_type": "code",
   "execution_count": 614,
   "id": "6075f861",
   "metadata": {
    "scrolled": false
   },
   "outputs": [
    {
     "data": {
      "text/plain": [
       "Text(0.5, 0, 'Tweet Sentiment')"
      ]
     },
     "execution_count": 614,
     "metadata": {},
     "output_type": "execute_result"
    },
    {
     "data": {
      "image/png": "[encoded data removed]",
      "text/plain": [
       "<Figure size 432x288 with 1 Axes>"
      ]
     },
     "metadata": {
      "needs_background": "light"
     },
     "output_type": "display_data"
    }
   ],
   "source": [
    "# lets visualise where our missclassified samples are going\n",
    "\n",
    "pd.DataFrame(confusion_matrix(y_test,y_pred_test), index = ['negative','neutral', 'positive'],columns = ['negative','neutral', 'positive']).plot(kind = 'bar', stacked = True)\n",
    "\n",
    "plt.xlabel('Tweet Sentiment')"
   ]
  },
  {
   "cell_type": "markdown",
   "id": "8d14672c",
   "metadata": {},
   "source": [
    "SVM has classified a chunk of the negative class as neutral."
   ]
  },
  {
   "cell_type": "code",
   "execution_count": 615,
   "id": "e83bd160",
   "metadata": {
    "scrolled": true
   },
   "outputs": [
    {
     "data": {
      "text/plain": [
       "0.5713275960924296"
      ]
     },
     "execution_count": 615,
     "metadata": {},
     "output_type": "execute_result"
    }
   ],
   "source": [
    "cohen_kappa_score(y_test,y_pred_test)"
   ]
  },
  {
   "cell_type": "markdown",
   "id": "8ee88cd2",
   "metadata": {},
   "source": [
    "## Random Forest"
   ]
  },
  {
   "cell_type": "code",
   "execution_count": 399,
   "id": "81a7fded",
   "metadata": {},
   "outputs": [],
   "source": [
    "from sklearn.ensemble import RandomForestClassifier"
   ]
  },
  {
   "cell_type": "code",
   "execution_count": 63,
   "id": "dcd7f978",
   "metadata": {},
   "outputs": [],
   "source": [
    "rf_model = RandomForestClassifier(max_depth=15, n_estimators = 100)\n",
    "\n",
    "rf_model.fit(X_train_res, y_train_res)\n",
    "y_pred_train = rf_model.predict(X_train_res)"
   ]
  },
  {
   "cell_type": "code",
   "execution_count": 64,
   "id": "0550f442",
   "metadata": {},
   "outputs": [
    {
     "name": "stdout",
     "output_type": "stream",
     "text": [
      "              precision    recall  f1-score   support\n",
      "\n",
      "    negative       0.87      0.81      0.84      7397\n",
      "     neutral       0.71      0.83      0.77      7397\n",
      "    positive       0.87      0.79      0.83      7397\n",
      "\n",
      "    accuracy                           0.81     22191\n",
      "   macro avg       0.82      0.81      0.81     22191\n",
      "weighted avg       0.82      0.81      0.81     22191\n",
      "\n"
     ]
    }
   ],
   "source": [
    "print(classification_report(y_train_res,y_pred_train, zero_division=0))"
   ]
  },
  {
   "cell_type": "code",
   "execution_count": 647,
   "id": "fde67535",
   "metadata": {
    "scrolled": true
   },
   "outputs": [
    {
     "name": "stdout",
     "output_type": "stream",
     "text": [
      "              precision    recall  f1-score   support\n",
      "\n",
      "    negative       0.84      0.81      0.82      1781\n",
      "     neutral       0.56      0.62      0.59       680\n",
      "    positive       0.66      0.62      0.64       467\n",
      "\n",
      "    accuracy                           0.74      2928\n",
      "   macro avg       0.68      0.69      0.68      2928\n",
      "weighted avg       0.74      0.74      0.74      2928\n",
      "\n"
     ]
    }
   ],
   "source": [
    "y_pred_test = rf_model.predict(X_test_text_vectorised)\n",
    "\n",
    "rf_classification_report = classification_report(y_test,y_pred_test, output_dict=True)\n",
    "\n",
    "print(classification_report(y_test,y_pred_test))"
   ]
  },
  {
   "cell_type": "code",
   "execution_count": 619,
   "id": "bdf70285",
   "metadata": {
    "scrolled": false
   },
   "outputs": [
    {
     "data": {
      "text/plain": [
       "<AxesSubplot:>"
      ]
     },
     "execution_count": 619,
     "metadata": {},
     "output_type": "execute_result"
    },
    {
     "data": {
      "image/png": "[encoded data removed]",
      "text/plain": [
       "<Figure size 864x288 with 4 Axes>"
      ]
     },
     "metadata": {
      "needs_background": "light"
     },
     "output_type": "display_data"
    }
   ],
   "source": [
    "# train results\n",
    "\n",
    "plt.figure(figsize = (12,4))\n",
    "\n",
    "plt.subplot(1,2,1)\n",
    "\n",
    "sns.heatmap(pd.DataFrame(classification_report(y_train_res,y_pred_train, output_dict= True)).iloc[:3,:3], annot= True,vmin=0 ,vmax=1)\n",
    "\n",
    "\n",
    "# test results\n",
    "plt.subplot(1,2,2)\n",
    "\n",
    "sns.heatmap(pd.DataFrame(classification_report(y_test,y_pred_test, output_dict= True)).iloc[:3,:3], annot= True,vmin=0 ,vmax=1)"
   ]
  },
  {
   "cell_type": "code",
   "execution_count": 620,
   "id": "fdb56fcf",
   "metadata": {
    "scrolled": false
   },
   "outputs": [
    {
     "data": {
      "text/plain": [
       "Text(0.5, 0, 'Tweet Sentiment')"
      ]
     },
     "execution_count": 620,
     "metadata": {},
     "output_type": "execute_result"
    },
    {
     "data": {
      "image/png": "[encoded data removed]",
      "text/plain": [
       "<Figure size 432x288 with 1 Axes>"
      ]
     },
     "metadata": {
      "needs_background": "light"
     },
     "output_type": "display_data"
    }
   ],
   "source": [
    "# lets visualise where our missclassified samples are going\n",
    "\n",
    "pd.DataFrame(confusion_matrix(y_test,y_pred_test), index = ['negative','neutral', 'positive'],columns = ['negative','neutral', 'positive']).plot(kind = 'bar', stacked = True)\n",
    "\n",
    "plt.xlabel('Tweet Sentiment')"
   ]
  },
  {
   "cell_type": "markdown",
   "id": "86c6add4",
   "metadata": {},
   "source": [
    "A large chunk of neutral reviews are clasified as negative."
   ]
  },
  {
   "cell_type": "code",
   "execution_count": 621,
   "id": "7474db86",
   "metadata": {
    "scrolled": true
   },
   "outputs": [
    {
     "data": {
      "text/plain": [
       "0.5117125748802198"
      ]
     },
     "execution_count": 621,
     "metadata": {},
     "output_type": "execute_result"
    }
   ],
   "source": [
    "cohen_kappa_score(y_test,y_pred_test)"
   ]
  },
  {
   "cell_type": "markdown",
   "id": "96959993",
   "metadata": {},
   "source": [
    "# Visualise all model results"
   ]
  },
  {
   "cell_type": "code",
   "execution_count": 653,
   "id": "eb71b006",
   "metadata": {},
   "outputs": [],
   "source": [
    "results = pd.DataFrame([naive_bayes_classification_report['weighted avg'],\n",
    "             log_reg_classification_report['weighted avg'],\n",
    "             svm_classification_report['weighted avg'],\n",
    "             rf_classification_report['weighted avg']],index = ['naive_bayes',\n",
    "                                                                      'logistic_regression',\n",
    "                                                                      'svm', 'rf'])"
   ]
  },
  {
   "cell_type": "code",
   "execution_count": 665,
   "id": "b902cea6",
   "metadata": {},
   "outputs": [
    {
     "data": {
      "text/plain": [
       "Text(0, 0.5, 'Weighted Average Score')"
      ]
     },
     "execution_count": 665,
     "metadata": {},
     "output_type": "execute_result"
    },
    {
     "data": {
      "image/png": "[encoded data removed]",
      "text/plain": [
       "<Figure size 720x432 with 1 Axes>"
      ]
     },
     "metadata": {
      "needs_background": "light"
     },
     "output_type": "display_data"
    }
   ],
   "source": [
    "results.iloc[:,:3].transpose().plot(kind = 'bar',figsize = (10,6))\n",
    "\n",
    "plt.ylim([0,1])\n",
    "\n",
    "plt.ylabel('Weighted Average Score')"
   ]
  },
  {
   "cell_type": "markdown",
   "id": "98b58d05",
   "metadata": {},
   "source": [
    "# Logistic Regression \n",
    "\n",
    "### Reducing Overfit"
   ]
  },
  {
   "cell_type": "code",
   "execution_count": 36,
   "id": "1a6e3cb7",
   "metadata": {},
   "outputs": [
    {
     "name": "stdout",
     "output_type": "stream",
     "text": [
      "              precision    recall  f1-score   support\n",
      "\n",
      "    negative       0.95      0.93      0.94      7397\n",
      "     neutral       0.86      0.94      0.90      7397\n",
      "    positive       0.95      0.88      0.91      7397\n",
      "\n",
      "    accuracy                           0.92     22191\n",
      "   macro avg       0.92      0.92      0.92     22191\n",
      "weighted avg       0.92      0.92      0.92     22191\n",
      "\n"
     ]
    }
   ],
   "source": [
    "log_model_1 = LogisticRegression(multi_class='ovr', solver='liblinear',random_state = 10)\n",
    "\n",
    "log_model_1.fit(X_train_res, y_train_res)\n",
    "\n",
    "y_pred_train = log_model_1.predict(X_train_res)\n",
    "\n",
    "print(classification_report(y_train_res,y_pred_train,zero_division=0))"
   ]
  },
  {
   "cell_type": "code",
   "execution_count": 37,
   "id": "f3f8c9d7",
   "metadata": {},
   "outputs": [
    {
     "name": "stdout",
     "output_type": "stream",
     "text": [
      "              precision    recall  f1-score   support\n",
      "\n",
      "    negative       0.83      0.91      0.86      1781\n",
      "     neutral       0.73      0.51      0.60       680\n",
      "    positive       0.69      0.73      0.71       467\n",
      "\n",
      "    accuracy                           0.79      2928\n",
      "   macro avg       0.75      0.72      0.72      2928\n",
      "weighted avg       0.78      0.79      0.78      2928\n",
      "\n"
     ]
    }
   ],
   "source": [
    "y_pred_test = log_model_1.predict(X_test_text_vectorised)\n",
    "\n",
    "log_reg_1_classification_report = classification_report(y_test,y_pred_test, output_dict=True)\n",
    "\n",
    "print(classification_report(y_test,y_pred_test))"
   ]
  },
  {
   "cell_type": "code",
   "execution_count": 38,
   "id": "a9ce9045",
   "metadata": {},
   "outputs": [
    {
     "name": "stdout",
     "output_type": "stream",
     "text": [
      "0.8911259983761073\n"
     ]
    }
   ],
   "source": [
    "y_text_proba = log_model_1.predict_proba(X_test_text_vectorised)\n",
    "\n",
    "print(roc_auc_score(y_test,y_text_proba,multi_class='ovr'))"
   ]
  },
  {
   "cell_type": "code",
   "execution_count": 39,
   "id": "8604a5ef",
   "metadata": {},
   "outputs": [
    {
     "data": {
      "text/plain": [
       "array([[ 1.65358619, -2.50490237, -2.56109242],\n",
       "       [-2.23044689, -0.40795621, -1.1050261 ],\n",
       "       [ 0.47486558, -2.42870889, -0.58919544],\n",
       "       [ 3.64220621, -3.89969696, -3.29407306],\n",
       "       [ 3.74312583, -3.24625104, -3.66043942]])"
      ]
     },
     "execution_count": 39,
     "metadata": {},
     "output_type": "execute_result"
    }
   ],
   "source": [
    "n_classes = 3\n",
    "\n",
    "# classifier\n",
    "clf = OneVsRestClassifier(log_model_1)\n",
    "y_score = clf.fit(X_train_res, y_train_res).decision_function(X_test_text_vectorised)\n",
    "\n",
    "y_score[:5]"
   ]
  },
  {
   "cell_type": "code",
   "execution_count": 40,
   "id": "e023bac6",
   "metadata": {},
   "outputs": [
    {
     "name": "stderr",
     "output_type": "stream",
     "text": [
      "No handles with labels found to put in legend.\n"
     ]
    },
    {
     "name": "stdout",
     "output_type": "stream",
     "text": [
      "negative\n"
     ]
    },
    {
     "data": {
      "image/png": "[encoded data removed]",
      "text/plain": [
       "<Figure size 432x288 with 1 Axes>"
      ]
     },
     "metadata": {
      "needs_background": "light"
     },
     "output_type": "display_data"
    },
    {
     "name": "stderr",
     "output_type": "stream",
     "text": [
      "No handles with labels found to put in legend.\n"
     ]
    },
    {
     "name": "stdout",
     "output_type": "stream",
     "text": [
      "neutral\n"
     ]
    },
    {
     "data": {
      "image/png": "[encoded data removed]",
      "text/plain": [
       "<Figure size 432x288 with 1 Axes>"
      ]
     },
     "metadata": {
      "needs_background": "light"
     },
     "output_type": "display_data"
    },
    {
     "name": "stderr",
     "output_type": "stream",
     "text": [
      "No handles with labels found to put in legend.\n"
     ]
    },
    {
     "name": "stdout",
     "output_type": "stream",
     "text": [
      "positive\n"
     ]
    },
    {
     "data": {
      "image/png": "[encoded data removed]",
      "text/plain": [
       "<Figure size 432x288 with 1 Axes>"
      ]
     },
     "metadata": {
      "needs_background": "light"
     },
     "output_type": "display_data"
    }
   ],
   "source": [
    "n_classes = 3\n",
    "\n",
    "# classifier\n",
    "clf = OneVsRestClassifier(log_model_1)\n",
    "y_score = clf.fit(X_train_res, y_train_res).decision_function(X_test_text_vectorised)\n",
    "\n",
    "\n",
    "# Compute ROC curve and ROC area for each class\n",
    "fpr = dict()\n",
    "tpr = dict()\n",
    "roc_auc = dict()\n",
    "\n",
    "# calculate dummies once\n",
    "y_test_dummies = pd.get_dummies(y_test, drop_first=False).values\n",
    "for i in range(n_classes):\n",
    "    fpr[i], tpr[i], thresh = roc_curve(y_test_dummies[:, i], y_score[:, i])\n",
    "        \n",
    "        \n",
    "class_names = ['negative','neutral','positive']\n",
    "\n",
    "# Plot of a ROC curve for a specific class\n",
    "for i in range(n_classes):\n",
    "    plt.figure()\n",
    "    plt.plot(fpr[i], tpr[i])\n",
    "    plt.plot([0, 1], [0, 1], 'k--')\n",
    "    plt.xlim([0.0, 1.0])\n",
    "    plt.ylim([0.0, 1.05])\n",
    "    plt.xlabel('False Positive Rate')\n",
    "    plt.ylabel('True Positive Rate')\n",
    "    plt.title('Receiver operating characteristic example')\n",
    "    plt.legend(loc=\"lower right\")\n",
    "    print(class_names[i])\n",
    "    plt.show()"
   ]
  },
  {
   "cell_type": "code",
   "execution_count": 41,
   "id": "d25553a5",
   "metadata": {},
   "outputs": [
    {
     "data": {
      "text/plain": [
       "{'C': 1.0,\n",
       " 'class_weight': None,\n",
       " 'dual': False,\n",
       " 'fit_intercept': True,\n",
       " 'intercept_scaling': 1,\n",
       " 'l1_ratio': None,\n",
       " 'max_iter': 100,\n",
       " 'multi_class': 'ovr',\n",
       " 'n_jobs': None,\n",
       " 'penalty': 'l2',\n",
       " 'random_state': 10,\n",
       " 'solver': 'liblinear',\n",
       " 'tol': 0.0001,\n",
       " 'verbose': 0,\n",
       " 'warm_start': False}"
      ]
     },
     "execution_count": 41,
     "metadata": {},
     "output_type": "execute_result"
    }
   ],
   "source": [
    "log_model_1.get_params()"
   ]
  },
  {
   "cell_type": "code",
   "execution_count": 42,
   "id": "484bc7bd",
   "metadata": {},
   "outputs": [
    {
     "name": "stdout",
     "output_type": "stream",
     "text": [
      "Fitting 5 folds for each of 20 candidates, totalling 100 fits\n"
     ]
    },
    {
     "data": {
      "text/plain": [
       "GridSearchCV(cv=5,\n",
       "             estimator=LogisticRegression(multi_class='ovr', random_state=10,\n",
       "                                          solver='liblinear'),\n",
       "             n_jobs=-1,\n",
       "             param_grid=[{'C': array([1.00000000e-04, 2.63665090e-04, 6.95192796e-04, 1.83298071e-03,\n",
       "       4.83293024e-03, 1.27427499e-02, 3.35981829e-02, 8.85866790e-02,\n",
       "       2.33572147e-01, 6.15848211e-01, 1.62377674e+00, 4.28133240e+00,\n",
       "       1.12883789e+01, 2.97635144e+01, 7.84759970e+01, 2.06913808e+02,\n",
       "       5.45559478e+02, 1.43844989e+03, 3.79269019e+03, 1.00000000e+04])}],\n",
       "             verbose=True)"
      ]
     },
     "execution_count": 42,
     "metadata": {},
     "output_type": "execute_result"
    }
   ],
   "source": [
    "# grid search\n",
    "\n",
    "param_grid = [\n",
    "    {\n",
    "#     'l1_ratio' : [0.001,0.1,0.2,0.4,0.6,0.8,1],\n",
    "    'C' : np.logspace(-4, 4, 20)}]\n",
    "\n",
    "# Create grid search object\n",
    "\n",
    "grid_model = GridSearchCV(log_model_1, param_grid = param_grid, cv = 5, verbose=True, n_jobs=-1)\n",
    "\n",
    "# Fit on data\n",
    "\n",
    "grid_model.fit(X_train_res, y_train_res)"
   ]
  },
  {
   "cell_type": "code",
   "execution_count": 43,
   "id": "6d7d0277",
   "metadata": {
    "scrolled": true
   },
   "outputs": [
    {
     "data": {
      "text/plain": [
       "{'C': 545.5594781168514}"
      ]
     },
     "execution_count": 43,
     "metadata": {},
     "output_type": "execute_result"
    }
   ],
   "source": [
    "grid_model.best_params_"
   ]
  },
  {
   "cell_type": "markdown",
   "id": "7c9871cf",
   "metadata": {},
   "source": [
    "Lasso "
   ]
  },
  {
   "cell_type": "code",
   "execution_count": 47,
   "id": "b8d921ed",
   "metadata": {
    "scrolled": true
   },
   "outputs": [
    {
     "name": "stdout",
     "output_type": "stream",
     "text": [
      "              precision    recall  f1-score   support\n",
      "\n",
      "    negative       0.86      0.83      0.85      7397\n",
      "     neutral       0.74      0.85      0.80      7397\n",
      "    positive       0.89      0.79      0.84      7397\n",
      "\n",
      "    accuracy                           0.83     22191\n",
      "   macro avg       0.83      0.83      0.83     22191\n",
      "weighted avg       0.83      0.83      0.83     22191\n",
      "\n"
     ]
    }
   ],
   "source": [
    "log_model_2 = LogisticRegression(multi_class='ovr', solver='liblinear',random_state = 10,penalty='l1')\n",
    "\n",
    "log_model_2.fit(X_train_res, y_train_res)\n",
    "\n",
    "y_pred_train = log_model_2.predict(X_train_res)\n",
    "\n",
    "print(classification_report(y_train_res,y_pred_train))"
   ]
  },
  {
   "cell_type": "code",
   "execution_count": 48,
   "id": "739cf535",
   "metadata": {
    "scrolled": true
   },
   "outputs": [
    {
     "name": "stdout",
     "output_type": "stream",
     "text": [
      "              precision    recall  f1-score   support\n",
      "\n",
      "    negative       0.84      0.87      0.85      1781\n",
      "     neutral       0.66      0.55      0.60       680\n",
      "    positive       0.64      0.73      0.69       467\n",
      "\n",
      "    accuracy                           0.77      2928\n",
      "   macro avg       0.72      0.72      0.71      2928\n",
      "weighted avg       0.77      0.77      0.77      2928\n",
      "\n"
     ]
    }
   ],
   "source": [
    "y_pred_test = log_model_2.predict(X_test_text_vectorised)\n",
    "\n",
    "log_reg_1_classification_report = classification_report(y_test,y_pred_test, output_dict=True)\n",
    "\n",
    "print(classification_report(y_test,y_pred_test))"
   ]
  },
  {
   "cell_type": "code",
   "execution_count": null,
   "id": "0707a82a",
   "metadata": {},
   "outputs": [],
   "source": []
  },
  {
   "cell_type": "markdown",
   "id": "fb9d9bf0",
   "metadata": {},
   "source": [
    "Lasso "
   ]
  },
  {
   "cell_type": "code",
   "execution_count": 51,
   "id": "f6f0f095",
   "metadata": {},
   "outputs": [
    {
     "name": "stdout",
     "output_type": "stream",
     "text": [
      "Fitting 5 folds for each of 8 candidates, totalling 40 fits\n"
     ]
    },
    {
     "data": {
      "text/plain": [
       "GridSearchCV(cv=5,\n",
       "             estimator=LogisticRegression(multi_class='ovr',\n",
       "                                          penalty='elasticnet', random_state=10,\n",
       "                                          solver='saga'),\n",
       "             n_jobs=-1,\n",
       "             param_grid=[{'l1_ratio': [0.001, 0.01, 0.1, 0.2, 0.4, 0.6, 0.8,\n",
       "                                       1]}],\n",
       "             verbose=True)"
      ]
     },
     "execution_count": 51,
     "metadata": {},
     "output_type": "execute_result"
    }
   ],
   "source": [
    "# grid search\n",
    "\n",
    "param_grid = [\n",
    "    {\n",
    "     'l1_ratio' : [0.001,0.01,0.1,0.2,0.4,0.6,0.8,1]}]\n",
    "\n",
    "# Create grid search object\n",
    "        \n",
    "log_model_grid = LogisticRegression(multi_class='ovr', solver='saga',random_state = 10,penalty='elasticnet')\n",
    "\n",
    "grid_model = GridSearchCV(log_model_grid, param_grid = param_grid, cv = 5, verbose=True, n_jobs=-1)\n",
    "\n",
    "# Fit on data\n",
    "\n",
    "grid_model.fit(X_train_res, y_train_res)"
   ]
  },
  {
   "cell_type": "code",
   "execution_count": 52,
   "id": "f42793e6",
   "metadata": {},
   "outputs": [
    {
     "data": {
      "text/plain": [
       "{'l1_ratio': 0.001}"
      ]
     },
     "execution_count": 52,
     "metadata": {},
     "output_type": "execute_result"
    }
   ],
   "source": [
    "grid_model.best_params_"
   ]
  },
  {
   "cell_type": "code",
   "execution_count": 53,
   "id": "3947f5f5",
   "metadata": {
    "scrolled": true
   },
   "outputs": [
    {
     "name": "stdout",
     "output_type": "stream",
     "text": [
      "              precision    recall  f1-score   support\n",
      "\n",
      "    negative       0.95      0.93      0.94      7397\n",
      "     neutral       0.86      0.94      0.90      7397\n",
      "    positive       0.95      0.88      0.91      7397\n",
      "\n",
      "    accuracy                           0.92     22191\n",
      "   macro avg       0.92      0.92      0.92     22191\n",
      "weighted avg       0.92      0.92      0.92     22191\n",
      "\n"
     ]
    }
   ],
   "source": [
    "log_model_2 = LogisticRegression(multi_class='ovr', solver='saga',random_state = 10,penalty='elasticnet',\n",
    "                                l1_ratio=0.001)\n",
    "\n",
    "log_model_2.fit(X_train_res, y_train_res)\n",
    "\n",
    "y_pred_train = log_model_2.predict(X_train_res)\n",
    "\n",
    "print(classification_report(y_train_res,y_pred_train))"
   ]
  },
  {
   "cell_type": "code",
   "execution_count": 54,
   "id": "18bc237b",
   "metadata": {
    "scrolled": true
   },
   "outputs": [
    {
     "name": "stdout",
     "output_type": "stream",
     "text": [
      "              precision    recall  f1-score   support\n",
      "\n",
      "    negative       0.83      0.91      0.86      1781\n",
      "     neutral       0.72      0.51      0.60       680\n",
      "    positive       0.69      0.73      0.71       467\n",
      "\n",
      "    accuracy                           0.79      2928\n",
      "   macro avg       0.75      0.71      0.72      2928\n",
      "weighted avg       0.78      0.79      0.78      2928\n",
      "\n"
     ]
    }
   ],
   "source": [
    "y_pred_test = log_model_2.predict(X_test_text_vectorised)\n",
    "\n",
    "log_reg_1_classification_report = classification_report(y_test,y_pred_test, output_dict=True)\n",
    "\n",
    "print(classification_report(y_test,y_pred_test))"
   ]
  },
  {
   "cell_type": "markdown",
   "id": "e3ad3713",
   "metadata": {},
   "source": [
    "# Reducing overfit in random forest"
   ]
  },
  {
   "cell_type": "code",
   "execution_count": 68,
   "id": "eb8b73ed",
   "metadata": {},
   "outputs": [],
   "source": [
    "# Number of trees in random forest\n",
    "#n_estimators = [int(x) for x in np.linspace(start = 200, stop = 2000, num = 10)]\n",
    "# Number of features to consider at every split\n",
    "max_features = ['auto', 'sqrt']\n",
    "# Maximum number of levels in tree\n",
    "max_depth = [6,8,10,12,14,16,18,20,22,24,26,28,30,32]\n",
    "#int(x) for x in np.linspace(10, 60, num = 11)\n",
    "#max_depth.append(None)\n",
    "# Minimum number of samples required to split a node\n",
    "min_samples_split = [2, 5, 10]\n",
    "# Minimum number of samples required at each leaf node\n",
    "min_samples_leaf = [1, 2, 4]\n",
    "# Method of selecting samples for training each tree\n",
    "bootstrap = [True, False]\n",
    "# Create the random grid\n",
    "random_grid = {'max_features': max_features,\n",
    "               'max_depth': max_depth,\n",
    "               'min_samples_split': min_samples_split,\n",
    "               'min_samples_leaf': min_samples_leaf,\n",
    "               'bootstrap': bootstrap}"
   ]
  },
  {
   "cell_type": "code",
   "execution_count": 69,
   "id": "fc212c4a",
   "metadata": {
    "scrolled": true
   },
   "outputs": [
    {
     "name": "stdout",
     "output_type": "stream",
     "text": [
      "Fitting 3 folds for each of 504 candidates, totalling 1512 fits\n",
      "[CV 1/3] END bootstrap=True, max_depth=6, max_features=auto, min_samples_leaf=1, min_samples_split=2;, score=0.669 total time=   1.0s\n",
      "[CV 2/3] END bootstrap=True, max_depth=6, max_features=auto, min_samples_leaf=1, min_samples_split=2;, score=0.759 total time=   1.3s\n",
      "[CV 3/3] END bootstrap=True, max_depth=6, max_features=auto, min_samples_leaf=1, min_samples_split=2;, score=0.766 total time=   1.3s\n",
      "[CV 1/3] END bootstrap=True, max_depth=6, max_features=auto, min_samples_leaf=1, min_samples_split=5;, score=0.658 total time=   1.1s\n",
      "[CV 2/3] END bootstrap=True, max_depth=6, max_features=auto, min_samples_leaf=1, min_samples_split=5;, score=0.716 total time=   1.4s\n",
      "[CV 3/3] END bootstrap=True, max_depth=6, max_features=auto, min_samples_leaf=1, min_samples_split=5;, score=0.774 total time=   1.3s\n",
      "[CV 1/3] END bootstrap=True, max_depth=6, max_features=auto, min_samples_leaf=1, min_samples_split=10;, score=0.654 total time=   1.1s\n",
      "[CV 2/3] END bootstrap=True, max_depth=6, max_features=auto, min_samples_leaf=1, min_samples_split=10;, score=0.717 total time=   1.3s\n",
      "[CV 3/3] END bootstrap=True, max_depth=6, max_features=auto, min_samples_leaf=1, min_samples_split=10;, score=0.770 total time=   1.2s\n",
      "[CV 1/3] END bootstrap=True, max_depth=6, max_features=auto, min_samples_leaf=2, min_samples_split=2;, score=0.658 total time=   1.0s\n",
      "[CV 2/3] END bootstrap=True, max_depth=6, max_features=auto, min_samples_leaf=2, min_samples_split=2;, score=0.762 total time=   1.3s\n",
      "[CV 3/3] END bootstrap=True, max_depth=6, max_features=auto, min_samples_leaf=2, min_samples_split=2;, score=0.764 total time=   1.4s\n",
      "[CV 1/3] END bootstrap=True, max_depth=6, max_features=auto, min_samples_leaf=2, min_samples_split=5;, score=0.651 total time=   1.1s\n",
      "[CV 2/3] END bootstrap=True, max_depth=6, max_features=auto, min_samples_leaf=2, min_samples_split=5;, score=0.759 total time=   1.4s\n",
      "[CV 3/3] END bootstrap=True, max_depth=6, max_features=auto, min_samples_leaf=2, min_samples_split=5;, score=0.767 total time=   1.3s\n",
      "[CV 1/3] END bootstrap=True, max_depth=6, max_features=auto, min_samples_leaf=2, min_samples_split=10;, score=0.620 total time=   1.0s\n",
      "[CV 2/3] END bootstrap=True, max_depth=6, max_features=auto, min_samples_leaf=2, min_samples_split=10;, score=0.762 total time=   1.3s\n",
      "[CV 3/3] END bootstrap=True, max_depth=6, max_features=auto, min_samples_leaf=2, min_samples_split=10;, score=0.733 total time=   1.2s\n",
      "[CV 1/3] END bootstrap=True, max_depth=6, max_features=auto, min_samples_leaf=4, min_samples_split=2;, score=0.621 total time=   1.0s\n",
      "[CV 2/3] END bootstrap=True, max_depth=6, max_features=auto, min_samples_leaf=4, min_samples_split=2;, score=0.768 total time=   1.2s\n",
      "[CV 3/3] END bootstrap=True, max_depth=6, max_features=auto, min_samples_leaf=4, min_samples_split=2;, score=0.772 total time=   1.1s\n",
      "[CV 1/3] END bootstrap=True, max_depth=6, max_features=auto, min_samples_leaf=4, min_samples_split=5;, score=0.672 total time=   1.0s\n",
      "[CV 2/3] END bootstrap=True, max_depth=6, max_features=auto, min_samples_leaf=4, min_samples_split=5;, score=0.756 total time=   1.2s\n",
      "[CV 3/3] END bootstrap=True, max_depth=6, max_features=auto, min_samples_leaf=4, min_samples_split=5;, score=0.761 total time=   1.1s\n",
      "[CV 1/3] END bootstrap=True, max_depth=6, max_features=auto, min_samples_leaf=4, min_samples_split=10;, score=0.639 total time=   1.0s\n",
      "[CV 2/3] END bootstrap=True, max_depth=6, max_features=auto, min_samples_leaf=4, min_samples_split=10;, score=0.762 total time=   1.2s\n",
      "[CV 3/3] END bootstrap=True, max_depth=6, max_features=auto, min_samples_leaf=4, min_samples_split=10;, score=0.767 total time=   1.2s\n",
      "[CV 1/3] END bootstrap=True, max_depth=6, max_features=sqrt, min_samples_leaf=1, min_samples_split=2;, score=0.623 total time=   1.2s\n",
      "[CV 2/3] END bootstrap=True, max_depth=6, max_features=sqrt, min_samples_leaf=1, min_samples_split=2;, score=0.722 total time=   1.3s\n",
      "[CV 3/3] END bootstrap=True, max_depth=6, max_features=sqrt, min_samples_leaf=1, min_samples_split=2;, score=0.773 total time=   1.2s\n",
      "[CV 1/3] END bootstrap=True, max_depth=6, max_features=sqrt, min_samples_leaf=1, min_samples_split=5;, score=0.668 total time=   1.1s\n",
      "[CV 2/3] END bootstrap=True, max_depth=6, max_features=sqrt, min_samples_leaf=1, min_samples_split=5;, score=0.769 total time=   1.4s\n",
      "[CV 3/3] END bootstrap=True, max_depth=6, max_features=sqrt, min_samples_leaf=1, min_samples_split=5;, score=0.762 total time=   1.3s\n",
      "[CV 1/3] END bootstrap=True, max_depth=6, max_features=sqrt, min_samples_leaf=1, min_samples_split=10;, score=0.629 total time=   1.0s\n",
      "[CV 2/3] END bootstrap=True, max_depth=6, max_features=sqrt, min_samples_leaf=1, min_samples_split=10;, score=0.762 total time=   1.3s\n",
      "[CV 3/3] END bootstrap=True, max_depth=6, max_features=sqrt, min_samples_leaf=1, min_samples_split=10;, score=0.760 total time=   1.2s\n",
      "[CV 1/3] END bootstrap=True, max_depth=6, max_features=sqrt, min_samples_leaf=2, min_samples_split=2;, score=0.651 total time=   1.0s\n",
      "[CV 2/3] END bootstrap=True, max_depth=6, max_features=sqrt, min_samples_leaf=2, min_samples_split=2;, score=0.718 total time=   1.3s\n",
      "[CV 3/3] END bootstrap=True, max_depth=6, max_features=sqrt, min_samples_leaf=2, min_samples_split=2;, score=0.756 total time=   1.2s\n",
      "[CV 1/3] END bootstrap=True, max_depth=6, max_features=sqrt, min_samples_leaf=2, min_samples_split=5;, score=0.635 total time=   1.0s\n",
      "[CV 2/3] END bootstrap=True, max_depth=6, max_features=sqrt, min_samples_leaf=2, min_samples_split=5;, score=0.771 total time=   1.3s\n",
      "[CV 3/3] END bootstrap=True, max_depth=6, max_features=sqrt, min_samples_leaf=2, min_samples_split=5;, score=0.766 total time=   1.2s\n",
      "[CV 1/3] END bootstrap=True, max_depth=6, max_features=sqrt, min_samples_leaf=2, min_samples_split=10;, score=0.668 total time=   1.0s\n",
      "[CV 2/3] END bootstrap=True, max_depth=6, max_features=sqrt, min_samples_leaf=2, min_samples_split=10;, score=0.766 total time=   1.3s\n",
      "[CV 3/3] END bootstrap=True, max_depth=6, max_features=sqrt, min_samples_leaf=2, min_samples_split=10;, score=0.763 total time=   1.2s\n",
      "[CV 1/3] END bootstrap=True, max_depth=6, max_features=sqrt, min_samples_leaf=4, min_samples_split=2;, score=0.648 total time=   1.0s\n",
      "[CV 2/3] END bootstrap=True, max_depth=6, max_features=sqrt, min_samples_leaf=4, min_samples_split=2;, score=0.723 total time=   1.2s\n",
      "[CV 3/3] END bootstrap=True, max_depth=6, max_features=sqrt, min_samples_leaf=4, min_samples_split=2;, score=0.766 total time=   1.2s\n",
      "[CV 1/3] END bootstrap=True, max_depth=6, max_features=sqrt, min_samples_leaf=4, min_samples_split=5;, score=0.630 total time=   1.1s\n",
      "[CV 2/3] END bootstrap=True, max_depth=6, max_features=sqrt, min_samples_leaf=4, min_samples_split=5;, score=0.756 total time=   1.3s\n",
      "[CV 3/3] END bootstrap=True, max_depth=6, max_features=sqrt, min_samples_leaf=4, min_samples_split=5;, score=0.759 total time=   1.2s\n",
      "[CV 1/3] END bootstrap=True, max_depth=6, max_features=sqrt, min_samples_leaf=4, min_samples_split=10;, score=0.652 total time=   1.2s\n",
      "[CV 2/3] END bootstrap=True, max_depth=6, max_features=sqrt, min_samples_leaf=4, min_samples_split=10;, score=0.747 total time=   1.3s\n",
      "[CV 3/3] END bootstrap=True, max_depth=6, max_features=sqrt, min_samples_leaf=4, min_samples_split=10;, score=0.745 total time=   1.5s\n",
      "[CV 1/3] END bootstrap=True, max_depth=8, max_features=auto, min_samples_leaf=1, min_samples_split=2;, score=0.673 total time=   1.6s\n",
      "[CV 2/3] END bootstrap=True, max_depth=8, max_features=auto, min_samples_leaf=1, min_samples_split=2;, score=0.770 total time=   1.8s\n",
      "[CV 3/3] END bootstrap=True, max_depth=8, max_features=auto, min_samples_leaf=1, min_samples_split=2;, score=0.783 total time=   1.8s\n",
      "[CV 1/3] END bootstrap=True, max_depth=8, max_features=auto, min_samples_leaf=1, min_samples_split=5;, score=0.664 total time=   1.4s\n",
      "[CV 2/3] END bootstrap=True, max_depth=8, max_features=auto, min_samples_leaf=1, min_samples_split=5;, score=0.785 total time=   1.9s\n",
      "[CV 3/3] END bootstrap=True, max_depth=8, max_features=auto, min_samples_leaf=1, min_samples_split=5;, score=0.779 total time=   1.7s\n",
      "[CV 1/3] END bootstrap=True, max_depth=8, max_features=auto, min_samples_leaf=1, min_samples_split=10;, score=0.673 total time=   1.4s\n"
     ]
    },
    {
     "name": "stdout",
     "output_type": "stream",
     "text": [
      "[CV 2/3] END bootstrap=True, max_depth=8, max_features=auto, min_samples_leaf=1, min_samples_split=10;, score=0.775 total time=   1.8s\n",
      "[CV 3/3] END bootstrap=True, max_depth=8, max_features=auto, min_samples_leaf=1, min_samples_split=10;, score=0.737 total time=   1.6s\n",
      "[CV 1/3] END bootstrap=True, max_depth=8, max_features=auto, min_samples_leaf=2, min_samples_split=2;, score=0.654 total time=   1.4s\n",
      "[CV 2/3] END bootstrap=True, max_depth=8, max_features=auto, min_samples_leaf=2, min_samples_split=2;, score=0.781 total time=   1.7s\n",
      "[CV 3/3] END bootstrap=True, max_depth=8, max_features=auto, min_samples_leaf=2, min_samples_split=2;, score=0.782 total time=   1.6s\n",
      "[CV 1/3] END bootstrap=True, max_depth=8, max_features=auto, min_samples_leaf=2, min_samples_split=5;, score=0.628 total time=   1.4s\n",
      "[CV 2/3] END bootstrap=True, max_depth=8, max_features=auto, min_samples_leaf=2, min_samples_split=5;, score=0.737 total time=   1.7s\n",
      "[CV 3/3] END bootstrap=True, max_depth=8, max_features=auto, min_samples_leaf=2, min_samples_split=5;, score=0.782 total time=   1.6s\n",
      "[CV 1/3] END bootstrap=True, max_depth=8, max_features=auto, min_samples_leaf=2, min_samples_split=10;, score=0.663 total time=   1.3s\n",
      "[CV 2/3] END bootstrap=True, max_depth=8, max_features=auto, min_samples_leaf=2, min_samples_split=10;, score=0.755 total time=   1.7s\n",
      "[CV 3/3] END bootstrap=True, max_depth=8, max_features=auto, min_samples_leaf=2, min_samples_split=10;, score=0.744 total time=   1.6s\n",
      "[CV 1/3] END bootstrap=True, max_depth=8, max_features=auto, min_samples_leaf=4, min_samples_split=2;, score=0.644 total time=   1.4s\n",
      "[CV 2/3] END bootstrap=True, max_depth=8, max_features=auto, min_samples_leaf=4, min_samples_split=2;, score=0.755 total time=   1.7s\n",
      "[CV 3/3] END bootstrap=True, max_depth=8, max_features=auto, min_samples_leaf=4, min_samples_split=2;, score=0.785 total time=   1.6s\n",
      "[CV 1/3] END bootstrap=True, max_depth=8, max_features=auto, min_samples_leaf=4, min_samples_split=5;, score=0.659 total time=   1.4s\n",
      "[CV 2/3] END bootstrap=True, max_depth=8, max_features=auto, min_samples_leaf=4, min_samples_split=5;, score=0.771 total time=   1.6s\n",
      "[CV 3/3] END bootstrap=True, max_depth=8, max_features=auto, min_samples_leaf=4, min_samples_split=5;, score=0.775 total time=   1.5s\n",
      "[CV 1/3] END bootstrap=True, max_depth=8, max_features=auto, min_samples_leaf=4, min_samples_split=10;, score=0.666 total time=   1.3s\n",
      "[CV 2/3] END bootstrap=True, max_depth=8, max_features=auto, min_samples_leaf=4, min_samples_split=10;, score=0.772 total time=   1.7s\n",
      "[CV 3/3] END bootstrap=True, max_depth=8, max_features=auto, min_samples_leaf=4, min_samples_split=10;, score=0.767 total time=   1.6s\n",
      "[CV 1/3] END bootstrap=True, max_depth=8, max_features=sqrt, min_samples_leaf=1, min_samples_split=2;, score=0.664 total time=   1.4s\n",
      "[CV 2/3] END bootstrap=True, max_depth=8, max_features=sqrt, min_samples_leaf=1, min_samples_split=2;, score=0.788 total time=   1.8s\n",
      "[CV 3/3] END bootstrap=True, max_depth=8, max_features=sqrt, min_samples_leaf=1, min_samples_split=2;, score=0.777 total time=   1.7s\n",
      "[CV 1/3] END bootstrap=True, max_depth=8, max_features=sqrt, min_samples_leaf=1, min_samples_split=5;, score=0.663 total time=   1.5s\n",
      "[CV 2/3] END bootstrap=True, max_depth=8, max_features=sqrt, min_samples_leaf=1, min_samples_split=5;, score=0.778 total time=   1.8s\n",
      "[CV 3/3] END bootstrap=True, max_depth=8, max_features=sqrt, min_samples_leaf=1, min_samples_split=5;, score=0.782 total time=   1.6s\n",
      "[CV 1/3] END bootstrap=True, max_depth=8, max_features=sqrt, min_samples_leaf=1, min_samples_split=10;, score=0.635 total time=   1.3s\n",
      "[CV 2/3] END bootstrap=True, max_depth=8, max_features=sqrt, min_samples_leaf=1, min_samples_split=10;, score=0.756 total time=   1.7s\n",
      "[CV 3/3] END bootstrap=True, max_depth=8, max_features=sqrt, min_samples_leaf=1, min_samples_split=10;, score=0.736 total time=   1.6s\n",
      "[CV 1/3] END bootstrap=True, max_depth=8, max_features=sqrt, min_samples_leaf=2, min_samples_split=2;, score=0.643 total time=   1.3s\n",
      "[CV 2/3] END bootstrap=True, max_depth=8, max_features=sqrt, min_samples_leaf=2, min_samples_split=2;, score=0.766 total time=   1.6s\n",
      "[CV 3/3] END bootstrap=True, max_depth=8, max_features=sqrt, min_samples_leaf=2, min_samples_split=2;, score=0.781 total time=   1.5s\n",
      "[CV 1/3] END bootstrap=True, max_depth=8, max_features=sqrt, min_samples_leaf=2, min_samples_split=5;, score=0.661 total time=   1.3s\n",
      "[CV 2/3] END bootstrap=True, max_depth=8, max_features=sqrt, min_samples_leaf=2, min_samples_split=5;, score=0.770 total time=   1.6s\n",
      "[CV 3/3] END bootstrap=True, max_depth=8, max_features=sqrt, min_samples_leaf=2, min_samples_split=5;, score=0.766 total time=   1.5s\n",
      "[CV 1/3] END bootstrap=True, max_depth=8, max_features=sqrt, min_samples_leaf=2, min_samples_split=10;, score=0.656 total time=   1.3s\n",
      "[CV 2/3] END bootstrap=True, max_depth=8, max_features=sqrt, min_samples_leaf=2, min_samples_split=10;, score=0.767 total time=   1.6s\n",
      "[CV 3/3] END bootstrap=True, max_depth=8, max_features=sqrt, min_samples_leaf=2, min_samples_split=10;, score=0.789 total time=   1.5s\n",
      "[CV 1/3] END bootstrap=True, max_depth=8, max_features=sqrt, min_samples_leaf=4, min_samples_split=2;, score=0.660 total time=   1.3s\n",
      "[CV 2/3] END bootstrap=True, max_depth=8, max_features=sqrt, min_samples_leaf=4, min_samples_split=2;, score=0.771 total time=   1.6s\n",
      "[CV 3/3] END bootstrap=True, max_depth=8, max_features=sqrt, min_samples_leaf=4, min_samples_split=2;, score=0.761 total time=   1.5s\n",
      "[CV 1/3] END bootstrap=True, max_depth=8, max_features=sqrt, min_samples_leaf=4, min_samples_split=5;, score=0.656 total time=   1.3s\n",
      "[CV 2/3] END bootstrap=True, max_depth=8, max_features=sqrt, min_samples_leaf=4, min_samples_split=5;, score=0.763 total time=   1.6s\n",
      "[CV 3/3] END bootstrap=True, max_depth=8, max_features=sqrt, min_samples_leaf=4, min_samples_split=5;, score=0.736 total time=   1.5s\n",
      "[CV 1/3] END bootstrap=True, max_depth=8, max_features=sqrt, min_samples_leaf=4, min_samples_split=10;, score=0.659 total time=   1.3s\n",
      "[CV 2/3] END bootstrap=True, max_depth=8, max_features=sqrt, min_samples_leaf=4, min_samples_split=10;, score=0.770 total time=   1.6s\n",
      "[CV 3/3] END bootstrap=True, max_depth=8, max_features=sqrt, min_samples_leaf=4, min_samples_split=10;, score=0.769 total time=   1.5s\n",
      "[CV 1/3] END bootstrap=True, max_depth=10, max_features=auto, min_samples_leaf=1, min_samples_split=2;, score=0.668 total time=   1.7s\n",
      "[CV 2/3] END bootstrap=True, max_depth=10, max_features=auto, min_samples_leaf=1, min_samples_split=2;, score=0.786 total time=   2.2s\n",
      "[CV 3/3] END bootstrap=True, max_depth=10, max_features=auto, min_samples_leaf=1, min_samples_split=2;, score=0.792 total time=   2.0s\n",
      "[CV 1/3] END bootstrap=True, max_depth=10, max_features=auto, min_samples_leaf=1, min_samples_split=5;, score=0.681 total time=   1.7s\n",
      "[CV 2/3] END bootstrap=True, max_depth=10, max_features=auto, min_samples_leaf=1, min_samples_split=5;, score=0.765 total time=   2.1s\n",
      "[CV 3/3] END bootstrap=True, max_depth=10, max_features=auto, min_samples_leaf=1, min_samples_split=5;, score=0.793 total time=   2.0s\n",
      "[CV 1/3] END bootstrap=True, max_depth=10, max_features=auto, min_samples_leaf=1, min_samples_split=10;, score=0.677 total time=   1.7s\n",
      "[CV 2/3] END bootstrap=True, max_depth=10, max_features=auto, min_samples_leaf=1, min_samples_split=10;, score=0.758 total time=   2.1s\n",
      "[CV 3/3] END bootstrap=True, max_depth=10, max_features=auto, min_samples_leaf=1, min_samples_split=10;, score=0.782 total time=   2.0s\n",
      "[CV 1/3] END bootstrap=True, max_depth=10, max_features=auto, min_samples_leaf=2, min_samples_split=2;, score=0.669 total time=   1.6s\n",
      "[CV 2/3] END bootstrap=True, max_depth=10, max_features=auto, min_samples_leaf=2, min_samples_split=2;, score=0.771 total time=   2.0s\n",
      "[CV 3/3] END bootstrap=True, max_depth=10, max_features=auto, min_samples_leaf=2, min_samples_split=2;, score=0.762 total time=   1.9s\n",
      "[CV 1/3] END bootstrap=True, max_depth=10, max_features=auto, min_samples_leaf=2, min_samples_split=5;, score=0.669 total time=   1.6s\n",
      "[CV 2/3] END bootstrap=True, max_depth=10, max_features=auto, min_samples_leaf=2, min_samples_split=5;, score=0.757 total time=   2.0s\n"
     ]
    },
    {
     "name": "stdout",
     "output_type": "stream",
     "text": [
      "[CV 3/3] END bootstrap=True, max_depth=10, max_features=auto, min_samples_leaf=2, min_samples_split=5;, score=0.783 total time=   1.9s\n",
      "[CV 1/3] END bootstrap=True, max_depth=10, max_features=auto, min_samples_leaf=2, min_samples_split=10;, score=0.660 total time=   1.6s\n",
      "[CV 2/3] END bootstrap=True, max_depth=10, max_features=auto, min_samples_leaf=2, min_samples_split=10;, score=0.783 total time=   2.0s\n",
      "[CV 3/3] END bootstrap=True, max_depth=10, max_features=auto, min_samples_leaf=2, min_samples_split=10;, score=0.786 total time=   1.8s\n",
      "[CV 1/3] END bootstrap=True, max_depth=10, max_features=auto, min_samples_leaf=4, min_samples_split=2;, score=0.629 total time=   1.6s\n",
      "[CV 2/3] END bootstrap=True, max_depth=10, max_features=auto, min_samples_leaf=4, min_samples_split=2;, score=0.771 total time=   1.9s\n",
      "[CV 3/3] END bootstrap=True, max_depth=10, max_features=auto, min_samples_leaf=4, min_samples_split=2;, score=0.776 total time=   1.8s\n",
      "[CV 1/3] END bootstrap=True, max_depth=10, max_features=auto, min_samples_leaf=4, min_samples_split=5;, score=0.626 total time=   1.6s\n",
      "[CV 2/3] END bootstrap=True, max_depth=10, max_features=auto, min_samples_leaf=4, min_samples_split=5;, score=0.774 total time=   1.9s\n",
      "[CV 3/3] END bootstrap=True, max_depth=10, max_features=auto, min_samples_leaf=4, min_samples_split=5;, score=0.780 total time=   1.8s\n",
      "[CV 1/3] END bootstrap=True, max_depth=10, max_features=auto, min_samples_leaf=4, min_samples_split=10;, score=0.653 total time=   1.6s\n",
      "[CV 2/3] END bootstrap=True, max_depth=10, max_features=auto, min_samples_leaf=4, min_samples_split=10;, score=0.770 total time=   1.9s\n",
      "[CV 3/3] END bootstrap=True, max_depth=10, max_features=auto, min_samples_leaf=4, min_samples_split=10;, score=0.780 total time=   1.8s\n",
      "[CV 1/3] END bootstrap=True, max_depth=10, max_features=sqrt, min_samples_leaf=1, min_samples_split=2;, score=0.661 total time=   1.7s\n",
      "[CV 2/3] END bootstrap=True, max_depth=10, max_features=sqrt, min_samples_leaf=1, min_samples_split=2;, score=0.756 total time=   2.2s\n",
      "[CV 3/3] END bootstrap=True, max_depth=10, max_features=sqrt, min_samples_leaf=1, min_samples_split=2;, score=0.799 total time=   2.1s\n",
      "[CV 1/3] END bootstrap=True, max_depth=10, max_features=sqrt, min_samples_leaf=1, min_samples_split=5;, score=0.670 total time=   1.7s\n",
      "[CV 2/3] END bootstrap=True, max_depth=10, max_features=sqrt, min_samples_leaf=1, min_samples_split=5;, score=0.788 total time=   2.1s\n",
      "[CV 3/3] END bootstrap=True, max_depth=10, max_features=sqrt, min_samples_leaf=1, min_samples_split=5;, score=0.768 total time=   2.0s\n",
      "[CV 1/3] END bootstrap=True, max_depth=10, max_features=sqrt, min_samples_leaf=1, min_samples_split=10;, score=0.679 total time=   1.7s\n",
      "[CV 2/3] END bootstrap=True, max_depth=10, max_features=sqrt, min_samples_leaf=1, min_samples_split=10;, score=0.785 total time=   2.1s\n",
      "[CV 3/3] END bootstrap=True, max_depth=10, max_features=sqrt, min_samples_leaf=1, min_samples_split=10;, score=0.795 total time=   1.9s\n",
      "[CV 1/3] END bootstrap=True, max_depth=10, max_features=sqrt, min_samples_leaf=2, min_samples_split=2;, score=0.673 total time=   1.6s\n",
      "[CV 2/3] END bootstrap=True, max_depth=10, max_features=sqrt, min_samples_leaf=2, min_samples_split=2;, score=0.772 total time=   2.0s\n",
      "[CV 3/3] END bootstrap=True, max_depth=10, max_features=sqrt, min_samples_leaf=2, min_samples_split=2;, score=0.780 total time=   1.9s\n",
      "[CV 1/3] END bootstrap=True, max_depth=10, max_features=sqrt, min_samples_leaf=2, min_samples_split=5;, score=0.628 total time=   1.6s\n",
      "[CV 2/3] END bootstrap=True, max_depth=10, max_features=sqrt, min_samples_leaf=2, min_samples_split=5;, score=0.775 total time=   2.0s\n",
      "[CV 3/3] END bootstrap=True, max_depth=10, max_features=sqrt, min_samples_leaf=2, min_samples_split=5;, score=0.789 total time=   1.9s\n",
      "[CV 1/3] END bootstrap=True, max_depth=10, max_features=sqrt, min_samples_leaf=2, min_samples_split=10;, score=0.620 total time=   1.6s\n",
      "[CV 2/3] END bootstrap=True, max_depth=10, max_features=sqrt, min_samples_leaf=2, min_samples_split=10;, score=0.784 total time=   2.0s\n",
      "[CV 3/3] END bootstrap=True, max_depth=10, max_features=sqrt, min_samples_leaf=2, min_samples_split=10;, score=0.781 total time=   1.9s\n",
      "[CV 1/3] END bootstrap=True, max_depth=10, max_features=sqrt, min_samples_leaf=4, min_samples_split=2;, score=0.671 total time=   1.6s\n",
      "[CV 2/3] END bootstrap=True, max_depth=10, max_features=sqrt, min_samples_leaf=4, min_samples_split=2;, score=0.773 total time=   1.9s\n",
      "[CV 3/3] END bootstrap=True, max_depth=10, max_features=sqrt, min_samples_leaf=4, min_samples_split=2;, score=0.779 total time=   1.8s\n",
      "[CV 1/3] END bootstrap=True, max_depth=10, max_features=sqrt, min_samples_leaf=4, min_samples_split=5;, score=0.656 total time=   1.6s\n",
      "[CV 2/3] END bootstrap=True, max_depth=10, max_features=sqrt, min_samples_leaf=4, min_samples_split=5;, score=0.773 total time=   1.9s\n",
      "[CV 3/3] END bootstrap=True, max_depth=10, max_features=sqrt, min_samples_leaf=4, min_samples_split=5;, score=0.788 total time=   1.8s\n",
      "[CV 1/3] END bootstrap=True, max_depth=10, max_features=sqrt, min_samples_leaf=4, min_samples_split=10;, score=0.658 total time=   1.6s\n",
      "[CV 2/3] END bootstrap=True, max_depth=10, max_features=sqrt, min_samples_leaf=4, min_samples_split=10;, score=0.771 total time=   2.0s\n",
      "[CV 3/3] END bootstrap=True, max_depth=10, max_features=sqrt, min_samples_leaf=4, min_samples_split=10;, score=0.766 total time=   1.8s\n",
      "[CV 1/3] END bootstrap=True, max_depth=12, max_features=auto, min_samples_leaf=1, min_samples_split=2;, score=0.688 total time=   2.1s\n",
      "[CV 2/3] END bootstrap=True, max_depth=12, max_features=auto, min_samples_leaf=1, min_samples_split=2;, score=0.798 total time=   2.7s\n",
      "[CV 3/3] END bootstrap=True, max_depth=12, max_features=auto, min_samples_leaf=1, min_samples_split=2;, score=0.801 total time=   2.5s\n",
      "[CV 1/3] END bootstrap=True, max_depth=12, max_features=auto, min_samples_leaf=1, min_samples_split=5;, score=0.665 total time=   2.0s\n",
      "[CV 2/3] END bootstrap=True, max_depth=12, max_features=auto, min_samples_leaf=1, min_samples_split=5;, score=0.795 total time=   2.5s\n",
      "[CV 3/3] END bootstrap=True, max_depth=12, max_features=auto, min_samples_leaf=1, min_samples_split=5;, score=0.796 total time=   2.5s\n",
      "[CV 1/3] END bootstrap=True, max_depth=12, max_features=auto, min_samples_leaf=1, min_samples_split=10;, score=0.669 total time=   2.0s\n",
      "[CV 2/3] END bootstrap=True, max_depth=12, max_features=auto, min_samples_leaf=1, min_samples_split=10;, score=0.785 total time=   2.5s\n",
      "[CV 3/3] END bootstrap=True, max_depth=12, max_features=auto, min_samples_leaf=1, min_samples_split=10;, score=0.799 total time=   2.4s\n",
      "[CV 1/3] END bootstrap=True, max_depth=12, max_features=auto, min_samples_leaf=2, min_samples_split=2;, score=0.635 total time=   1.9s\n",
      "[CV 2/3] END bootstrap=True, max_depth=12, max_features=auto, min_samples_leaf=2, min_samples_split=2;, score=0.777 total time=   2.4s\n",
      "[CV 3/3] END bootstrap=True, max_depth=12, max_features=auto, min_samples_leaf=2, min_samples_split=2;, score=0.761 total time=   2.2s\n",
      "[CV 1/3] END bootstrap=True, max_depth=12, max_features=auto, min_samples_leaf=2, min_samples_split=5;, score=0.683 total time=   1.9s\n",
      "[CV 2/3] END bootstrap=True, max_depth=12, max_features=auto, min_samples_leaf=2, min_samples_split=5;, score=0.772 total time=   2.4s\n",
      "[CV 3/3] END bootstrap=True, max_depth=12, max_features=auto, min_samples_leaf=2, min_samples_split=5;, score=0.778 total time=   2.3s\n",
      "[CV 1/3] END bootstrap=True, max_depth=12, max_features=auto, min_samples_leaf=2, min_samples_split=10;, score=0.656 total time=   1.9s\n",
      "[CV 2/3] END bootstrap=True, max_depth=12, max_features=auto, min_samples_leaf=2, min_samples_split=10;, score=0.774 total time=   2.4s\n",
      "[CV 3/3] END bootstrap=True, max_depth=12, max_features=auto, min_samples_leaf=2, min_samples_split=10;, score=0.775 total time=   2.2s\n",
      "[CV 1/3] END bootstrap=True, max_depth=12, max_features=auto, min_samples_leaf=4, min_samples_split=2;, score=0.654 total time=   1.9s\n",
      "[CV 2/3] END bootstrap=True, max_depth=12, max_features=auto, min_samples_leaf=4, min_samples_split=2;, score=0.761 total time=   2.3s\n",
      "[CV 3/3] END bootstrap=True, max_depth=12, max_features=auto, min_samples_leaf=4, min_samples_split=2;, score=0.790 total time=   2.1s\n"
     ]
    },
    {
     "name": "stdout",
     "output_type": "stream",
     "text": [
      "[CV 1/3] END bootstrap=True, max_depth=12, max_features=auto, min_samples_leaf=4, min_samples_split=5;, score=0.650 total time=   1.9s\n",
      "[CV 2/3] END bootstrap=True, max_depth=12, max_features=auto, min_samples_leaf=4, min_samples_split=5;, score=0.775 total time=   2.3s\n",
      "[CV 3/3] END bootstrap=True, max_depth=12, max_features=auto, min_samples_leaf=4, min_samples_split=5;, score=0.783 total time=   2.2s\n",
      "[CV 1/3] END bootstrap=True, max_depth=12, max_features=auto, min_samples_leaf=4, min_samples_split=10;, score=0.652 total time=   1.9s\n",
      "[CV 2/3] END bootstrap=True, max_depth=12, max_features=auto, min_samples_leaf=4, min_samples_split=10;, score=0.776 total time=   2.3s\n",
      "[CV 3/3] END bootstrap=True, max_depth=12, max_features=auto, min_samples_leaf=4, min_samples_split=10;, score=0.789 total time=   2.2s\n",
      "[CV 1/3] END bootstrap=True, max_depth=12, max_features=sqrt, min_samples_leaf=1, min_samples_split=2;, score=0.678 total time=   2.1s\n",
      "[CV 2/3] END bootstrap=True, max_depth=12, max_features=sqrt, min_samples_leaf=1, min_samples_split=2;, score=0.797 total time=   2.7s\n",
      "[CV 3/3] END bootstrap=True, max_depth=12, max_features=sqrt, min_samples_leaf=1, min_samples_split=2;, score=0.795 total time=   2.5s\n",
      "[CV 1/3] END bootstrap=True, max_depth=12, max_features=sqrt, min_samples_leaf=1, min_samples_split=5;, score=0.675 total time=   2.1s\n",
      "[CV 2/3] END bootstrap=True, max_depth=12, max_features=sqrt, min_samples_leaf=1, min_samples_split=5;, score=0.799 total time=   2.6s\n",
      "[CV 3/3] END bootstrap=True, max_depth=12, max_features=sqrt, min_samples_leaf=1, min_samples_split=5;, score=0.800 total time=   2.4s\n",
      "[CV 1/3] END bootstrap=True, max_depth=12, max_features=sqrt, min_samples_leaf=1, min_samples_split=10;, score=0.690 total time=   2.0s\n",
      "[CV 2/3] END bootstrap=True, max_depth=12, max_features=sqrt, min_samples_leaf=1, min_samples_split=10;, score=0.798 total time=   2.5s\n",
      "[CV 3/3] END bootstrap=True, max_depth=12, max_features=sqrt, min_samples_leaf=1, min_samples_split=10;, score=0.805 total time=   2.4s\n",
      "[CV 1/3] END bootstrap=True, max_depth=12, max_features=sqrt, min_samples_leaf=2, min_samples_split=2;, score=0.646 total time=   1.9s\n",
      "[CV 2/3] END bootstrap=True, max_depth=12, max_features=sqrt, min_samples_leaf=2, min_samples_split=2;, score=0.786 total time=   2.4s\n",
      "[CV 3/3] END bootstrap=True, max_depth=12, max_features=sqrt, min_samples_leaf=2, min_samples_split=2;, score=0.786 total time=   2.2s\n",
      "[CV 1/3] END bootstrap=True, max_depth=12, max_features=sqrt, min_samples_leaf=2, min_samples_split=5;, score=0.660 total time=   1.9s\n",
      "[CV 2/3] END bootstrap=True, max_depth=12, max_features=sqrt, min_samples_leaf=2, min_samples_split=5;, score=0.776 total time=   2.4s\n",
      "[CV 3/3] END bootstrap=True, max_depth=12, max_features=sqrt, min_samples_leaf=2, min_samples_split=5;, score=0.772 total time=   2.2s\n",
      "[CV 1/3] END bootstrap=True, max_depth=12, max_features=sqrt, min_samples_leaf=2, min_samples_split=10;, score=0.669 total time=   1.9s\n",
      "[CV 2/3] END bootstrap=True, max_depth=12, max_features=sqrt, min_samples_leaf=2, min_samples_split=10;, score=0.777 total time=   2.5s\n",
      "[CV 3/3] END bootstrap=True, max_depth=12, max_features=sqrt, min_samples_leaf=2, min_samples_split=10;, score=0.799 total time=   2.5s\n",
      "[CV 1/3] END bootstrap=True, max_depth=12, max_features=sqrt, min_samples_leaf=4, min_samples_split=2;, score=0.623 total time=   1.9s\n",
      "[CV 2/3] END bootstrap=True, max_depth=12, max_features=sqrt, min_samples_leaf=4, min_samples_split=2;, score=0.777 total time=   2.3s\n",
      "[CV 3/3] END bootstrap=True, max_depth=12, max_features=sqrt, min_samples_leaf=4, min_samples_split=2;, score=0.787 total time=   2.2s\n",
      "[CV 1/3] END bootstrap=True, max_depth=12, max_features=sqrt, min_samples_leaf=4, min_samples_split=5;, score=0.649 total time=   1.9s\n",
      "[CV 2/3] END bootstrap=True, max_depth=12, max_features=sqrt, min_samples_leaf=4, min_samples_split=5;, score=0.738 total time=   2.3s\n",
      "[CV 3/3] END bootstrap=True, max_depth=12, max_features=sqrt, min_samples_leaf=4, min_samples_split=5;, score=0.749 total time=   2.2s\n",
      "[CV 1/3] END bootstrap=True, max_depth=12, max_features=sqrt, min_samples_leaf=4, min_samples_split=10;, score=0.659 total time=   1.9s\n",
      "[CV 2/3] END bootstrap=True, max_depth=12, max_features=sqrt, min_samples_leaf=4, min_samples_split=10;, score=0.780 total time=   2.4s\n",
      "[CV 3/3] END bootstrap=True, max_depth=12, max_features=sqrt, min_samples_leaf=4, min_samples_split=10;, score=0.785 total time=   2.1s\n",
      "[CV 1/3] END bootstrap=True, max_depth=14, max_features=auto, min_samples_leaf=1, min_samples_split=2;, score=0.677 total time=   2.5s\n",
      "[CV 2/3] END bootstrap=True, max_depth=14, max_features=auto, min_samples_leaf=1, min_samples_split=2;, score=0.802 total time=   3.1s\n",
      "[CV 3/3] END bootstrap=True, max_depth=14, max_features=auto, min_samples_leaf=1, min_samples_split=2;, score=0.814 total time=   2.9s\n",
      "[CV 1/3] END bootstrap=True, max_depth=14, max_features=auto, min_samples_leaf=1, min_samples_split=5;, score=0.704 total time=   2.4s\n",
      "[CV 2/3] END bootstrap=True, max_depth=14, max_features=auto, min_samples_leaf=1, min_samples_split=5;, score=0.797 total time=   3.0s\n",
      "[CV 3/3] END bootstrap=True, max_depth=14, max_features=auto, min_samples_leaf=1, min_samples_split=5;, score=0.804 total time=   2.8s\n",
      "[CV 1/3] END bootstrap=True, max_depth=14, max_features=auto, min_samples_leaf=1, min_samples_split=10;, score=0.683 total time=   2.4s\n",
      "[CV 2/3] END bootstrap=True, max_depth=14, max_features=auto, min_samples_leaf=1, min_samples_split=10;, score=0.800 total time=   3.0s\n",
      "[CV 3/3] END bootstrap=True, max_depth=14, max_features=auto, min_samples_leaf=1, min_samples_split=10;, score=0.785 total time=   2.8s\n",
      "[CV 1/3] END bootstrap=True, max_depth=14, max_features=auto, min_samples_leaf=2, min_samples_split=2;, score=0.675 total time=   2.2s\n",
      "[CV 2/3] END bootstrap=True, max_depth=14, max_features=auto, min_samples_leaf=2, min_samples_split=2;, score=0.790 total time=   2.7s\n",
      "[CV 3/3] END bootstrap=True, max_depth=14, max_features=auto, min_samples_leaf=2, min_samples_split=2;, score=0.791 total time=   2.6s\n",
      "[CV 1/3] END bootstrap=True, max_depth=14, max_features=auto, min_samples_leaf=2, min_samples_split=5;, score=0.678 total time=   2.2s\n",
      "[CV 2/3] END bootstrap=True, max_depth=14, max_features=auto, min_samples_leaf=2, min_samples_split=5;, score=0.790 total time=   2.8s\n",
      "[CV 3/3] END bootstrap=True, max_depth=14, max_features=auto, min_samples_leaf=2, min_samples_split=5;, score=0.799 total time=   2.6s\n",
      "[CV 1/3] END bootstrap=True, max_depth=14, max_features=auto, min_samples_leaf=2, min_samples_split=10;, score=0.678 total time=   2.2s\n",
      "[CV 2/3] END bootstrap=True, max_depth=14, max_features=auto, min_samples_leaf=2, min_samples_split=10;, score=0.790 total time=   2.8s\n",
      "[CV 3/3] END bootstrap=True, max_depth=14, max_features=auto, min_samples_leaf=2, min_samples_split=10;, score=0.791 total time=   2.6s\n",
      "[CV 1/3] END bootstrap=True, max_depth=14, max_features=auto, min_samples_leaf=4, min_samples_split=2;, score=0.657 total time=   2.1s\n",
      "[CV 2/3] END bootstrap=True, max_depth=14, max_features=auto, min_samples_leaf=4, min_samples_split=2;, score=0.761 total time=   2.6s\n",
      "[CV 3/3] END bootstrap=True, max_depth=14, max_features=auto, min_samples_leaf=4, min_samples_split=2;, score=0.783 total time=   2.5s\n",
      "[CV 1/3] END bootstrap=True, max_depth=14, max_features=auto, min_samples_leaf=4, min_samples_split=5;, score=0.658 total time=   2.2s\n",
      "[CV 2/3] END bootstrap=True, max_depth=14, max_features=auto, min_samples_leaf=4, min_samples_split=5;, score=0.785 total time=   2.6s\n",
      "[CV 3/3] END bootstrap=True, max_depth=14, max_features=auto, min_samples_leaf=4, min_samples_split=5;, score=0.790 total time=   2.5s\n",
      "[CV 1/3] END bootstrap=True, max_depth=14, max_features=auto, min_samples_leaf=4, min_samples_split=10;, score=0.659 total time=   2.2s\n",
      "[CV 2/3] END bootstrap=True, max_depth=14, max_features=auto, min_samples_leaf=4, min_samples_split=10;, score=0.781 total time=   2.6s\n",
      "[CV 3/3] END bootstrap=True, max_depth=14, max_features=auto, min_samples_leaf=4, min_samples_split=10;, score=0.788 total time=   2.5s\n",
      "[CV 1/3] END bootstrap=True, max_depth=14, max_features=sqrt, min_samples_leaf=1, min_samples_split=2;, score=0.696 total time=   2.5s\n"
     ]
    },
    {
     "name": "stdout",
     "output_type": "stream",
     "text": [
      "[CV 2/3] END bootstrap=True, max_depth=14, max_features=sqrt, min_samples_leaf=1, min_samples_split=2;, score=0.799 total time=   3.2s\n",
      "[CV 3/3] END bootstrap=True, max_depth=14, max_features=sqrt, min_samples_leaf=1, min_samples_split=2;, score=0.820 total time=   3.0s\n",
      "[CV 1/3] END bootstrap=True, max_depth=14, max_features=sqrt, min_samples_leaf=1, min_samples_split=5;, score=0.697 total time=   2.4s\n",
      "[CV 2/3] END bootstrap=True, max_depth=14, max_features=sqrt, min_samples_leaf=1, min_samples_split=5;, score=0.798 total time=   3.0s\n",
      "[CV 3/3] END bootstrap=True, max_depth=14, max_features=sqrt, min_samples_leaf=1, min_samples_split=5;, score=0.805 total time=   3.0s\n",
      "[CV 1/3] END bootstrap=True, max_depth=14, max_features=sqrt, min_samples_leaf=1, min_samples_split=10;, score=0.683 total time=   2.4s\n",
      "[CV 2/3] END bootstrap=True, max_depth=14, max_features=sqrt, min_samples_leaf=1, min_samples_split=10;, score=0.819 total time=   2.9s\n",
      "[CV 3/3] END bootstrap=True, max_depth=14, max_features=sqrt, min_samples_leaf=1, min_samples_split=10;, score=0.814 total time=   2.8s\n",
      "[CV 1/3] END bootstrap=True, max_depth=14, max_features=sqrt, min_samples_leaf=2, min_samples_split=2;, score=0.672 total time=   2.2s\n",
      "[CV 2/3] END bootstrap=True, max_depth=14, max_features=sqrt, min_samples_leaf=2, min_samples_split=2;, score=0.765 total time=   2.7s\n",
      "[CV 3/3] END bootstrap=True, max_depth=14, max_features=sqrt, min_samples_leaf=2, min_samples_split=2;, score=0.790 total time=   2.6s\n",
      "[CV 1/3] END bootstrap=True, max_depth=14, max_features=sqrt, min_samples_leaf=2, min_samples_split=5;, score=0.662 total time=   2.2s\n",
      "[CV 2/3] END bootstrap=True, max_depth=14, max_features=sqrt, min_samples_leaf=2, min_samples_split=5;, score=0.778 total time=   2.7s\n",
      "[CV 3/3] END bootstrap=True, max_depth=14, max_features=sqrt, min_samples_leaf=2, min_samples_split=5;, score=0.792 total time=   2.6s\n",
      "[CV 1/3] END bootstrap=True, max_depth=14, max_features=sqrt, min_samples_leaf=2, min_samples_split=10;, score=0.664 total time=   2.2s\n",
      "[CV 2/3] END bootstrap=True, max_depth=14, max_features=sqrt, min_samples_leaf=2, min_samples_split=10;, score=0.790 total time=   2.7s\n",
      "[CV 3/3] END bootstrap=True, max_depth=14, max_features=sqrt, min_samples_leaf=2, min_samples_split=10;, score=0.793 total time=   2.6s\n",
      "[CV 1/3] END bootstrap=True, max_depth=14, max_features=sqrt, min_samples_leaf=4, min_samples_split=2;, score=0.664 total time=   2.1s\n",
      "[CV 2/3] END bootstrap=True, max_depth=14, max_features=sqrt, min_samples_leaf=4, min_samples_split=2;, score=0.780 total time=   2.6s\n",
      "[CV 3/3] END bootstrap=True, max_depth=14, max_features=sqrt, min_samples_leaf=4, min_samples_split=2;, score=0.779 total time=   2.5s\n",
      "[CV 1/3] END bootstrap=True, max_depth=14, max_features=sqrt, min_samples_leaf=4, min_samples_split=5;, score=0.664 total time=   2.1s\n",
      "[CV 2/3] END bootstrap=True, max_depth=14, max_features=sqrt, min_samples_leaf=4, min_samples_split=5;, score=0.757 total time=   2.6s\n",
      "[CV 3/3] END bootstrap=True, max_depth=14, max_features=sqrt, min_samples_leaf=4, min_samples_split=5;, score=0.778 total time=   2.5s\n",
      "[CV 1/3] END bootstrap=True, max_depth=14, max_features=sqrt, min_samples_leaf=4, min_samples_split=10;, score=0.632 total time=   2.1s\n",
      "[CV 2/3] END bootstrap=True, max_depth=14, max_features=sqrt, min_samples_leaf=4, min_samples_split=10;, score=0.775 total time=   2.6s\n",
      "[CV 3/3] END bootstrap=True, max_depth=14, max_features=sqrt, min_samples_leaf=4, min_samples_split=10;, score=0.782 total time=   2.5s\n",
      "[CV 1/3] END bootstrap=True, max_depth=16, max_features=auto, min_samples_leaf=1, min_samples_split=2;, score=0.696 total time=   2.9s\n",
      "[CV 2/3] END bootstrap=True, max_depth=16, max_features=auto, min_samples_leaf=1, min_samples_split=2;, score=0.817 total time=   3.6s\n",
      "[CV 3/3] END bootstrap=True, max_depth=16, max_features=auto, min_samples_leaf=1, min_samples_split=2;, score=0.813 total time=   3.4s\n",
      "[CV 1/3] END bootstrap=True, max_depth=16, max_features=auto, min_samples_leaf=1, min_samples_split=5;, score=0.690 total time=   2.8s\n",
      "[CV 2/3] END bootstrap=True, max_depth=16, max_features=auto, min_samples_leaf=1, min_samples_split=5;, score=0.807 total time=   3.5s\n",
      "[CV 3/3] END bootstrap=True, max_depth=16, max_features=auto, min_samples_leaf=1, min_samples_split=5;, score=0.807 total time=   3.3s\n",
      "[CV 1/3] END bootstrap=True, max_depth=16, max_features=auto, min_samples_leaf=1, min_samples_split=10;, score=0.700 total time=   2.8s\n",
      "[CV 2/3] END bootstrap=True, max_depth=16, max_features=auto, min_samples_leaf=1, min_samples_split=10;, score=0.801 total time=   3.4s\n",
      "[CV 3/3] END bootstrap=True, max_depth=16, max_features=auto, min_samples_leaf=1, min_samples_split=10;, score=0.820 total time=   3.2s\n",
      "[CV 1/3] END bootstrap=True, max_depth=16, max_features=auto, min_samples_leaf=2, min_samples_split=2;, score=0.677 total time=   2.5s\n",
      "[CV 2/3] END bootstrap=True, max_depth=16, max_features=auto, min_samples_leaf=2, min_samples_split=2;, score=0.785 total time=   3.1s\n",
      "[CV 3/3] END bootstrap=True, max_depth=16, max_features=auto, min_samples_leaf=2, min_samples_split=2;, score=0.794 total time=   3.0s\n",
      "[CV 1/3] END bootstrap=True, max_depth=16, max_features=auto, min_samples_leaf=2, min_samples_split=5;, score=0.671 total time=   2.5s\n",
      "[CV 2/3] END bootstrap=True, max_depth=16, max_features=auto, min_samples_leaf=2, min_samples_split=5;, score=0.785 total time=   3.1s\n",
      "[CV 3/3] END bootstrap=True, max_depth=16, max_features=auto, min_samples_leaf=2, min_samples_split=5;, score=0.795 total time=   2.9s\n",
      "[CV 1/3] END bootstrap=True, max_depth=16, max_features=auto, min_samples_leaf=2, min_samples_split=10;, score=0.684 total time=   2.5s\n",
      "[CV 2/3] END bootstrap=True, max_depth=16, max_features=auto, min_samples_leaf=2, min_samples_split=10;, score=0.791 total time=   3.1s\n",
      "[CV 3/3] END bootstrap=True, max_depth=16, max_features=auto, min_samples_leaf=2, min_samples_split=10;, score=0.807 total time=   2.9s\n",
      "[CV 1/3] END bootstrap=True, max_depth=16, max_features=auto, min_samples_leaf=4, min_samples_split=2;, score=0.669 total time=   2.4s\n",
      "[CV 2/3] END bootstrap=True, max_depth=16, max_features=auto, min_samples_leaf=4, min_samples_split=2;, score=0.780 total time=   3.0s\n",
      "[CV 3/3] END bootstrap=True, max_depth=16, max_features=auto, min_samples_leaf=4, min_samples_split=2;, score=0.791 total time=   2.8s\n",
      "[CV 1/3] END bootstrap=True, max_depth=16, max_features=auto, min_samples_leaf=4, min_samples_split=5;, score=0.657 total time=   2.5s\n",
      "[CV 2/3] END bootstrap=True, max_depth=16, max_features=auto, min_samples_leaf=4, min_samples_split=5;, score=0.786 total time=   3.0s\n",
      "[CV 3/3] END bootstrap=True, max_depth=16, max_features=auto, min_samples_leaf=4, min_samples_split=5;, score=0.790 total time=   2.8s\n",
      "[CV 1/3] END bootstrap=True, max_depth=16, max_features=auto, min_samples_leaf=4, min_samples_split=10;, score=0.654 total time=   2.5s\n",
      "[CV 2/3] END bootstrap=True, max_depth=16, max_features=auto, min_samples_leaf=4, min_samples_split=10;, score=0.784 total time=   3.0s\n",
      "[CV 3/3] END bootstrap=True, max_depth=16, max_features=auto, min_samples_leaf=4, min_samples_split=10;, score=0.773 total time=   2.8s\n",
      "[CV 1/3] END bootstrap=True, max_depth=16, max_features=sqrt, min_samples_leaf=1, min_samples_split=2;, score=0.703 total time=   2.9s\n",
      "[CV 2/3] END bootstrap=True, max_depth=16, max_features=sqrt, min_samples_leaf=1, min_samples_split=2;, score=0.817 total time=   3.7s\n",
      "[CV 3/3] END bootstrap=True, max_depth=16, max_features=sqrt, min_samples_leaf=1, min_samples_split=2;, score=0.813 total time=   3.5s\n",
      "[CV 1/3] END bootstrap=True, max_depth=16, max_features=sqrt, min_samples_leaf=1, min_samples_split=5;, score=0.684 total time=   2.8s\n",
      "[CV 2/3] END bootstrap=True, max_depth=16, max_features=sqrt, min_samples_leaf=1, min_samples_split=5;, score=0.801 total time=   3.6s\n",
      "[CV 3/3] END bootstrap=True, max_depth=16, max_features=sqrt, min_samples_leaf=1, min_samples_split=5;, score=0.816 total time=   3.3s\n",
      "[CV 1/3] END bootstrap=True, max_depth=16, max_features=sqrt, min_samples_leaf=1, min_samples_split=10;, score=0.694 total time=   2.7s\n",
      "[CV 2/3] END bootstrap=True, max_depth=16, max_features=sqrt, min_samples_leaf=1, min_samples_split=10;, score=0.804 total time=   3.4s\n"
     ]
    },
    {
     "name": "stdout",
     "output_type": "stream",
     "text": [
      "[CV 3/3] END bootstrap=True, max_depth=16, max_features=sqrt, min_samples_leaf=1, min_samples_split=10;, score=0.807 total time=   3.2s\n",
      "[CV 1/3] END bootstrap=True, max_depth=16, max_features=sqrt, min_samples_leaf=2, min_samples_split=2;, score=0.641 total time=   2.5s\n",
      "[CV 2/3] END bootstrap=True, max_depth=16, max_features=sqrt, min_samples_leaf=2, min_samples_split=2;, score=0.789 total time=   3.1s\n",
      "[CV 3/3] END bootstrap=True, max_depth=16, max_features=sqrt, min_samples_leaf=2, min_samples_split=2;, score=0.795 total time=   2.9s\n",
      "[CV 1/3] END bootstrap=True, max_depth=16, max_features=sqrt, min_samples_leaf=2, min_samples_split=5;, score=0.663 total time=   2.5s\n",
      "[CV 2/3] END bootstrap=True, max_depth=16, max_features=sqrt, min_samples_leaf=2, min_samples_split=5;, score=0.787 total time=   3.1s\n",
      "[CV 3/3] END bootstrap=True, max_depth=16, max_features=sqrt, min_samples_leaf=2, min_samples_split=5;, score=0.781 total time=   2.9s\n",
      "[CV 1/3] END bootstrap=True, max_depth=16, max_features=sqrt, min_samples_leaf=2, min_samples_split=10;, score=0.670 total time=   2.5s\n",
      "[CV 2/3] END bootstrap=True, max_depth=16, max_features=sqrt, min_samples_leaf=2, min_samples_split=10;, score=0.793 total time=   3.1s\n",
      "[CV 3/3] END bootstrap=True, max_depth=16, max_features=sqrt, min_samples_leaf=2, min_samples_split=10;, score=0.784 total time=   2.9s\n",
      "[CV 1/3] END bootstrap=True, max_depth=16, max_features=sqrt, min_samples_leaf=4, min_samples_split=2;, score=0.665 total time=   2.6s\n",
      "[CV 2/3] END bootstrap=True, max_depth=16, max_features=sqrt, min_samples_leaf=4, min_samples_split=2;, score=0.785 total time=   3.0s\n",
      "[CV 3/3] END bootstrap=True, max_depth=16, max_features=sqrt, min_samples_leaf=4, min_samples_split=2;, score=0.793 total time=   2.8s\n",
      "[CV 1/3] END bootstrap=True, max_depth=16, max_features=sqrt, min_samples_leaf=4, min_samples_split=5;, score=0.676 total time=   2.4s\n",
      "[CV 2/3] END bootstrap=True, max_depth=16, max_features=sqrt, min_samples_leaf=4, min_samples_split=5;, score=0.782 total time=   3.0s\n",
      "[CV 3/3] END bootstrap=True, max_depth=16, max_features=sqrt, min_samples_leaf=4, min_samples_split=5;, score=0.756 total time=   2.8s\n",
      "[CV 1/3] END bootstrap=True, max_depth=16, max_features=sqrt, min_samples_leaf=4, min_samples_split=10;, score=0.658 total time=   2.5s\n",
      "[CV 2/3] END bootstrap=True, max_depth=16, max_features=sqrt, min_samples_leaf=4, min_samples_split=10;, score=0.780 total time=   3.0s\n",
      "[CV 3/3] END bootstrap=True, max_depth=16, max_features=sqrt, min_samples_leaf=4, min_samples_split=10;, score=0.789 total time=   2.8s\n",
      "[CV 1/3] END bootstrap=True, max_depth=18, max_features=auto, min_samples_leaf=1, min_samples_split=2;, score=0.701 total time=   3.3s\n",
      "[CV 2/3] END bootstrap=True, max_depth=18, max_features=auto, min_samples_leaf=1, min_samples_split=2;, score=0.817 total time=   4.2s\n",
      "[CV 3/3] END bootstrap=True, max_depth=18, max_features=auto, min_samples_leaf=1, min_samples_split=2;, score=0.828 total time=   4.0s\n",
      "[CV 1/3] END bootstrap=True, max_depth=18, max_features=auto, min_samples_leaf=1, min_samples_split=5;, score=0.678 total time=   3.2s\n",
      "[CV 2/3] END bootstrap=True, max_depth=18, max_features=auto, min_samples_leaf=1, min_samples_split=5;, score=0.805 total time=   4.0s\n",
      "[CV 3/3] END bootstrap=True, max_depth=18, max_features=auto, min_samples_leaf=1, min_samples_split=5;, score=0.816 total time=   3.7s\n",
      "[CV 1/3] END bootstrap=True, max_depth=18, max_features=auto, min_samples_leaf=1, min_samples_split=10;, score=0.704 total time=   3.1s\n",
      "[CV 2/3] END bootstrap=True, max_depth=18, max_features=auto, min_samples_leaf=1, min_samples_split=10;, score=0.800 total time=   3.9s\n",
      "[CV 3/3] END bootstrap=True, max_depth=18, max_features=auto, min_samples_leaf=1, min_samples_split=10;, score=0.815 total time=   3.7s\n",
      "[CV 1/3] END bootstrap=True, max_depth=18, max_features=auto, min_samples_leaf=2, min_samples_split=2;, score=0.674 total time=   2.8s\n",
      "[CV 2/3] END bootstrap=True, max_depth=18, max_features=auto, min_samples_leaf=2, min_samples_split=2;, score=0.788 total time=   3.5s\n",
      "[CV 3/3] END bootstrap=True, max_depth=18, max_features=auto, min_samples_leaf=2, min_samples_split=2;, score=0.804 total time=   3.3s\n",
      "[CV 1/3] END bootstrap=True, max_depth=18, max_features=auto, min_samples_leaf=2, min_samples_split=5;, score=0.671 total time=   2.8s\n",
      "[CV 2/3] END bootstrap=True, max_depth=18, max_features=auto, min_samples_leaf=2, min_samples_split=5;, score=0.788 total time=   3.5s\n",
      "[CV 3/3] END bootstrap=True, max_depth=18, max_features=auto, min_samples_leaf=2, min_samples_split=5;, score=0.794 total time=   3.2s\n",
      "[CV 1/3] END bootstrap=True, max_depth=18, max_features=auto, min_samples_leaf=2, min_samples_split=10;, score=0.667 total time=   2.8s\n",
      "[CV 2/3] END bootstrap=True, max_depth=18, max_features=auto, min_samples_leaf=2, min_samples_split=10;, score=0.792 total time=   3.4s\n",
      "[CV 3/3] END bootstrap=True, max_depth=18, max_features=auto, min_samples_leaf=2, min_samples_split=10;, score=0.797 total time=   3.2s\n",
      "[CV 1/3] END bootstrap=True, max_depth=18, max_features=auto, min_samples_leaf=4, min_samples_split=2;, score=0.667 total time=   2.7s\n",
      "[CV 2/3] END bootstrap=True, max_depth=18, max_features=auto, min_samples_leaf=4, min_samples_split=2;, score=0.789 total time=   3.3s\n",
      "[CV 3/3] END bootstrap=True, max_depth=18, max_features=auto, min_samples_leaf=4, min_samples_split=2;, score=0.794 total time=   3.1s\n",
      "[CV 1/3] END bootstrap=True, max_depth=18, max_features=auto, min_samples_leaf=4, min_samples_split=5;, score=0.673 total time=   2.7s\n",
      "[CV 2/3] END bootstrap=True, max_depth=18, max_features=auto, min_samples_leaf=4, min_samples_split=5;, score=0.793 total time=   3.3s\n",
      "[CV 3/3] END bootstrap=True, max_depth=18, max_features=auto, min_samples_leaf=4, min_samples_split=5;, score=0.787 total time=   3.1s\n",
      "[CV 1/3] END bootstrap=True, max_depth=18, max_features=auto, min_samples_leaf=4, min_samples_split=10;, score=0.661 total time=   2.7s\n",
      "[CV 2/3] END bootstrap=True, max_depth=18, max_features=auto, min_samples_leaf=4, min_samples_split=10;, score=0.781 total time=   3.3s\n",
      "[CV 3/3] END bootstrap=True, max_depth=18, max_features=auto, min_samples_leaf=4, min_samples_split=10;, score=0.785 total time=   3.1s\n",
      "[CV 1/3] END bootstrap=True, max_depth=18, max_features=sqrt, min_samples_leaf=1, min_samples_split=2;, score=0.695 total time=   3.3s\n",
      "[CV 2/3] END bootstrap=True, max_depth=18, max_features=sqrt, min_samples_leaf=1, min_samples_split=2;, score=0.813 total time=   4.2s\n",
      "[CV 3/3] END bootstrap=True, max_depth=18, max_features=sqrt, min_samples_leaf=1, min_samples_split=2;, score=0.828 total time=   4.0s\n",
      "[CV 1/3] END bootstrap=True, max_depth=18, max_features=sqrt, min_samples_leaf=1, min_samples_split=5;, score=0.697 total time=   3.2s\n",
      "[CV 2/3] END bootstrap=True, max_depth=18, max_features=sqrt, min_samples_leaf=1, min_samples_split=5;, score=0.812 total time=   4.0s\n",
      "[CV 3/3] END bootstrap=True, max_depth=18, max_features=sqrt, min_samples_leaf=1, min_samples_split=5;, score=0.813 total time=   3.7s\n",
      "[CV 1/3] END bootstrap=True, max_depth=18, max_features=sqrt, min_samples_leaf=1, min_samples_split=10;, score=0.699 total time=   3.1s\n",
      "[CV 2/3] END bootstrap=True, max_depth=18, max_features=sqrt, min_samples_leaf=1, min_samples_split=10;, score=0.812 total time=   3.9s\n",
      "[CV 3/3] END bootstrap=True, max_depth=18, max_features=sqrt, min_samples_leaf=1, min_samples_split=10;, score=0.820 total time=   3.6s\n",
      "[CV 1/3] END bootstrap=True, max_depth=18, max_features=sqrt, min_samples_leaf=2, min_samples_split=2;, score=0.667 total time=   2.8s\n",
      "[CV 2/3] END bootstrap=True, max_depth=18, max_features=sqrt, min_samples_leaf=2, min_samples_split=2;, score=0.800 total time=   3.5s\n",
      "[CV 3/3] END bootstrap=True, max_depth=18, max_features=sqrt, min_samples_leaf=2, min_samples_split=2;, score=0.800 total time=   3.3s\n",
      "[CV 1/3] END bootstrap=True, max_depth=18, max_features=sqrt, min_samples_leaf=2, min_samples_split=5;, score=0.671 total time=   2.8s\n",
      "[CV 2/3] END bootstrap=True, max_depth=18, max_features=sqrt, min_samples_leaf=2, min_samples_split=5;, score=0.793 total time=   3.5s\n",
      "[CV 3/3] END bootstrap=True, max_depth=18, max_features=sqrt, min_samples_leaf=2, min_samples_split=5;, score=0.797 total time=   3.2s\n"
     ]
    },
    {
     "name": "stdout",
     "output_type": "stream",
     "text": [
      "[CV 1/3] END bootstrap=True, max_depth=18, max_features=sqrt, min_samples_leaf=2, min_samples_split=10;, score=0.663 total time=   2.8s\n",
      "[CV 2/3] END bootstrap=True, max_depth=18, max_features=sqrt, min_samples_leaf=2, min_samples_split=10;, score=0.793 total time=   3.4s\n",
      "[CV 3/3] END bootstrap=True, max_depth=18, max_features=sqrt, min_samples_leaf=2, min_samples_split=10;, score=0.797 total time=   3.2s\n",
      "[CV 1/3] END bootstrap=True, max_depth=18, max_features=sqrt, min_samples_leaf=4, min_samples_split=2;, score=0.638 total time=   2.7s\n",
      "[CV 2/3] END bootstrap=True, max_depth=18, max_features=sqrt, min_samples_leaf=4, min_samples_split=2;, score=0.789 total time=   3.3s\n",
      "[CV 3/3] END bootstrap=True, max_depth=18, max_features=sqrt, min_samples_leaf=4, min_samples_split=2;, score=0.786 total time=   3.1s\n",
      "[CV 1/3] END bootstrap=True, max_depth=18, max_features=sqrt, min_samples_leaf=4, min_samples_split=5;, score=0.669 total time=   2.7s\n",
      "[CV 2/3] END bootstrap=True, max_depth=18, max_features=sqrt, min_samples_leaf=4, min_samples_split=5;, score=0.795 total time=   3.3s\n",
      "[CV 3/3] END bootstrap=True, max_depth=18, max_features=sqrt, min_samples_leaf=4, min_samples_split=5;, score=0.792 total time=   3.1s\n",
      "[CV 1/3] END bootstrap=True, max_depth=18, max_features=sqrt, min_samples_leaf=4, min_samples_split=10;, score=0.637 total time=   2.7s\n",
      "[CV 2/3] END bootstrap=True, max_depth=18, max_features=sqrt, min_samples_leaf=4, min_samples_split=10;, score=0.782 total time=   3.3s\n",
      "[CV 3/3] END bootstrap=True, max_depth=18, max_features=sqrt, min_samples_leaf=4, min_samples_split=10;, score=0.779 total time=   3.1s\n",
      "[CV 1/3] END bootstrap=True, max_depth=20, max_features=auto, min_samples_leaf=1, min_samples_split=2;, score=0.715 total time=   3.6s\n",
      "[CV 2/3] END bootstrap=True, max_depth=20, max_features=auto, min_samples_leaf=1, min_samples_split=2;, score=0.809 total time=   4.7s\n",
      "[CV 3/3] END bootstrap=True, max_depth=20, max_features=auto, min_samples_leaf=1, min_samples_split=2;, score=0.827 total time=   4.5s\n",
      "[CV 1/3] END bootstrap=True, max_depth=20, max_features=auto, min_samples_leaf=1, min_samples_split=5;, score=0.706 total time=   3.6s\n",
      "[CV 2/3] END bootstrap=True, max_depth=20, max_features=auto, min_samples_leaf=1, min_samples_split=5;, score=0.811 total time=   4.5s\n",
      "[CV 3/3] END bootstrap=True, max_depth=20, max_features=auto, min_samples_leaf=1, min_samples_split=5;, score=0.821 total time=   4.2s\n",
      "[CV 1/3] END bootstrap=True, max_depth=20, max_features=auto, min_samples_leaf=1, min_samples_split=10;, score=0.698 total time=   3.7s\n",
      "[CV 2/3] END bootstrap=True, max_depth=20, max_features=auto, min_samples_leaf=1, min_samples_split=10;, score=0.816 total time=   4.5s\n",
      "[CV 3/3] END bootstrap=True, max_depth=20, max_features=auto, min_samples_leaf=1, min_samples_split=10;, score=0.800 total time=   4.2s\n",
      "[CV 1/3] END bootstrap=True, max_depth=20, max_features=auto, min_samples_leaf=2, min_samples_split=2;, score=0.654 total time=   3.2s\n",
      "[CV 2/3] END bootstrap=True, max_depth=20, max_features=auto, min_samples_leaf=2, min_samples_split=2;, score=0.801 total time=   3.9s\n",
      "[CV 3/3] END bootstrap=True, max_depth=20, max_features=auto, min_samples_leaf=2, min_samples_split=2;, score=0.804 total time=   3.7s\n",
      "[CV 1/3] END bootstrap=True, max_depth=20, max_features=auto, min_samples_leaf=2, min_samples_split=5;, score=0.674 total time=   3.2s\n",
      "[CV 2/3] END bootstrap=True, max_depth=20, max_features=auto, min_samples_leaf=2, min_samples_split=5;, score=0.799 total time=   4.0s\n",
      "[CV 3/3] END bootstrap=True, max_depth=20, max_features=auto, min_samples_leaf=2, min_samples_split=5;, score=0.794 total time=   3.7s\n",
      "[CV 1/3] END bootstrap=True, max_depth=20, max_features=auto, min_samples_leaf=2, min_samples_split=10;, score=0.651 total time=   3.1s\n",
      "[CV 2/3] END bootstrap=True, max_depth=20, max_features=auto, min_samples_leaf=2, min_samples_split=10;, score=0.788 total time=   3.9s\n",
      "[CV 3/3] END bootstrap=True, max_depth=20, max_features=auto, min_samples_leaf=2, min_samples_split=10;, score=0.803 total time=   3.7s\n",
      "[CV 1/3] END bootstrap=True, max_depth=20, max_features=auto, min_samples_leaf=4, min_samples_split=2;, score=0.668 total time=   3.0s\n",
      "[CV 2/3] END bootstrap=True, max_depth=20, max_features=auto, min_samples_leaf=4, min_samples_split=2;, score=0.781 total time=   3.7s\n",
      "[CV 3/3] END bootstrap=True, max_depth=20, max_features=auto, min_samples_leaf=4, min_samples_split=2;, score=0.795 total time=   3.4s\n",
      "[CV 1/3] END bootstrap=True, max_depth=20, max_features=auto, min_samples_leaf=4, min_samples_split=5;, score=0.661 total time=   3.0s\n",
      "[CV 2/3] END bootstrap=True, max_depth=20, max_features=auto, min_samples_leaf=4, min_samples_split=5;, score=0.790 total time=   3.6s\n",
      "[CV 3/3] END bootstrap=True, max_depth=20, max_features=auto, min_samples_leaf=4, min_samples_split=5;, score=0.785 total time=   3.4s\n",
      "[CV 1/3] END bootstrap=True, max_depth=20, max_features=auto, min_samples_leaf=4, min_samples_split=10;, score=0.679 total time=   3.0s\n",
      "[CV 2/3] END bootstrap=True, max_depth=20, max_features=auto, min_samples_leaf=4, min_samples_split=10;, score=0.785 total time=   3.6s\n",
      "[CV 3/3] END bootstrap=True, max_depth=20, max_features=auto, min_samples_leaf=4, min_samples_split=10;, score=0.793 total time=   3.5s\n",
      "[CV 1/3] END bootstrap=True, max_depth=20, max_features=sqrt, min_samples_leaf=1, min_samples_split=2;, score=0.692 total time=   3.6s\n",
      "[CV 2/3] END bootstrap=True, max_depth=20, max_features=sqrt, min_samples_leaf=1, min_samples_split=2;, score=0.819 total time=   4.7s\n",
      "[CV 3/3] END bootstrap=True, max_depth=20, max_features=sqrt, min_samples_leaf=1, min_samples_split=2;, score=0.828 total time=   4.5s\n",
      "[CV 1/3] END bootstrap=True, max_depth=20, max_features=sqrt, min_samples_leaf=1, min_samples_split=5;, score=0.711 total time=   3.6s\n",
      "[CV 2/3] END bootstrap=True, max_depth=20, max_features=sqrt, min_samples_leaf=1, min_samples_split=5;, score=0.822 total time=   4.4s\n",
      "[CV 3/3] END bootstrap=True, max_depth=20, max_features=sqrt, min_samples_leaf=1, min_samples_split=5;, score=0.827 total time=   4.2s\n",
      "[CV 1/3] END bootstrap=True, max_depth=20, max_features=sqrt, min_samples_leaf=1, min_samples_split=10;, score=0.695 total time=   3.5s\n",
      "[CV 2/3] END bootstrap=True, max_depth=20, max_features=sqrt, min_samples_leaf=1, min_samples_split=10;, score=0.817 total time=   4.4s\n",
      "[CV 3/3] END bootstrap=True, max_depth=20, max_features=sqrt, min_samples_leaf=1, min_samples_split=10;, score=0.819 total time=   4.0s\n",
      "[CV 1/3] END bootstrap=True, max_depth=20, max_features=sqrt, min_samples_leaf=2, min_samples_split=2;, score=0.664 total time=   3.1s\n",
      "[CV 2/3] END bootstrap=True, max_depth=20, max_features=sqrt, min_samples_leaf=2, min_samples_split=2;, score=0.796 total time=   3.9s\n",
      "[CV 3/3] END bootstrap=True, max_depth=20, max_features=sqrt, min_samples_leaf=2, min_samples_split=2;, score=0.800 total time=   3.6s\n",
      "[CV 1/3] END bootstrap=True, max_depth=20, max_features=sqrt, min_samples_leaf=2, min_samples_split=5;, score=0.679 total time=   3.1s\n",
      "[CV 2/3] END bootstrap=True, max_depth=20, max_features=sqrt, min_samples_leaf=2, min_samples_split=5;, score=0.798 total time=   3.8s\n",
      "[CV 3/3] END bootstrap=True, max_depth=20, max_features=sqrt, min_samples_leaf=2, min_samples_split=5;, score=0.803 total time=   3.6s\n",
      "[CV 1/3] END bootstrap=True, max_depth=20, max_features=sqrt, min_samples_leaf=2, min_samples_split=10;, score=0.672 total time=   3.1s\n",
      "[CV 2/3] END bootstrap=True, max_depth=20, max_features=sqrt, min_samples_leaf=2, min_samples_split=10;, score=0.803 total time=   3.8s\n",
      "[CV 3/3] END bootstrap=True, max_depth=20, max_features=sqrt, min_samples_leaf=2, min_samples_split=10;, score=0.795 total time=   3.6s\n",
      "[CV 1/3] END bootstrap=True, max_depth=20, max_features=sqrt, min_samples_leaf=4, min_samples_split=2;, score=0.679 total time=   3.0s\n",
      "[CV 2/3] END bootstrap=True, max_depth=20, max_features=sqrt, min_samples_leaf=4, min_samples_split=2;, score=0.786 total time=   3.6s\n",
      "[CV 3/3] END bootstrap=True, max_depth=20, max_features=sqrt, min_samples_leaf=4, min_samples_split=2;, score=0.783 total time=   3.4s\n",
      "[CV 1/3] END bootstrap=True, max_depth=20, max_features=sqrt, min_samples_leaf=4, min_samples_split=5;, score=0.664 total time=   3.0s\n"
     ]
    },
    {
     "name": "stdout",
     "output_type": "stream",
     "text": [
      "[CV 2/3] END bootstrap=True, max_depth=20, max_features=sqrt, min_samples_leaf=4, min_samples_split=5;, score=0.781 total time=   3.6s\n",
      "[CV 3/3] END bootstrap=True, max_depth=20, max_features=sqrt, min_samples_leaf=4, min_samples_split=5;, score=0.791 total time=   3.4s\n",
      "[CV 1/3] END bootstrap=True, max_depth=20, max_features=sqrt, min_samples_leaf=4, min_samples_split=10;, score=0.669 total time=   3.0s\n",
      "[CV 2/3] END bootstrap=True, max_depth=20, max_features=sqrt, min_samples_leaf=4, min_samples_split=10;, score=0.783 total time=   3.7s\n",
      "[CV 3/3] END bootstrap=True, max_depth=20, max_features=sqrt, min_samples_leaf=4, min_samples_split=10;, score=0.786 total time=   3.4s\n",
      "[CV 1/3] END bootstrap=True, max_depth=22, max_features=auto, min_samples_leaf=1, min_samples_split=2;, score=0.694 total time=   4.1s\n",
      "[CV 2/3] END bootstrap=True, max_depth=22, max_features=auto, min_samples_leaf=1, min_samples_split=2;, score=0.824 total time=   5.2s\n",
      "[CV 3/3] END bootstrap=True, max_depth=22, max_features=auto, min_samples_leaf=1, min_samples_split=2;, score=0.826 total time=   5.0s\n",
      "[CV 1/3] END bootstrap=True, max_depth=22, max_features=auto, min_samples_leaf=1, min_samples_split=5;, score=0.717 total time=   4.0s\n",
      "[CV 2/3] END bootstrap=True, max_depth=22, max_features=auto, min_samples_leaf=1, min_samples_split=5;, score=0.817 total time=   5.0s\n",
      "[CV 3/3] END bootstrap=True, max_depth=22, max_features=auto, min_samples_leaf=1, min_samples_split=5;, score=0.829 total time=   4.7s\n",
      "[CV 1/3] END bootstrap=True, max_depth=22, max_features=auto, min_samples_leaf=1, min_samples_split=10;, score=0.686 total time=   3.9s\n",
      "[CV 2/3] END bootstrap=True, max_depth=22, max_features=auto, min_samples_leaf=1, min_samples_split=10;, score=0.823 total time=   4.8s\n",
      "[CV 3/3] END bootstrap=True, max_depth=22, max_features=auto, min_samples_leaf=1, min_samples_split=10;, score=0.827 total time=   4.5s\n",
      "[CV 1/3] END bootstrap=True, max_depth=22, max_features=auto, min_samples_leaf=2, min_samples_split=2;, score=0.642 total time=   3.4s\n",
      "[CV 2/3] END bootstrap=True, max_depth=22, max_features=auto, min_samples_leaf=2, min_samples_split=2;, score=0.797 total time=   4.2s\n",
      "[CV 3/3] END bootstrap=True, max_depth=22, max_features=auto, min_samples_leaf=2, min_samples_split=2;, score=0.800 total time=   4.0s\n",
      "[CV 1/3] END bootstrap=True, max_depth=22, max_features=auto, min_samples_leaf=2, min_samples_split=5;, score=0.681 total time=   3.4s\n",
      "[CV 2/3] END bootstrap=True, max_depth=22, max_features=auto, min_samples_leaf=2, min_samples_split=5;, score=0.794 total time=   4.3s\n",
      "[CV 3/3] END bootstrap=True, max_depth=22, max_features=auto, min_samples_leaf=2, min_samples_split=5;, score=0.801 total time=   4.2s\n",
      "[CV 1/3] END bootstrap=True, max_depth=22, max_features=auto, min_samples_leaf=2, min_samples_split=10;, score=0.676 total time=   3.4s\n",
      "[CV 2/3] END bootstrap=True, max_depth=22, max_features=auto, min_samples_leaf=2, min_samples_split=10;, score=0.801 total time=   4.1s\n",
      "[CV 3/3] END bootstrap=True, max_depth=22, max_features=auto, min_samples_leaf=2, min_samples_split=10;, score=0.782 total time=   4.0s\n",
      "[CV 1/3] END bootstrap=True, max_depth=22, max_features=auto, min_samples_leaf=4, min_samples_split=2;, score=0.670 total time=   3.3s\n",
      "[CV 2/3] END bootstrap=True, max_depth=22, max_features=auto, min_samples_leaf=4, min_samples_split=2;, score=0.785 total time=   4.0s\n",
      "[CV 3/3] END bootstrap=True, max_depth=22, max_features=auto, min_samples_leaf=4, min_samples_split=2;, score=0.792 total time=   3.7s\n",
      "[CV 1/3] END bootstrap=True, max_depth=22, max_features=auto, min_samples_leaf=4, min_samples_split=5;, score=0.670 total time=   3.2s\n",
      "[CV 2/3] END bootstrap=True, max_depth=22, max_features=auto, min_samples_leaf=4, min_samples_split=5;, score=0.790 total time=   4.0s\n",
      "[CV 3/3] END bootstrap=True, max_depth=22, max_features=auto, min_samples_leaf=4, min_samples_split=5;, score=0.799 total time=   3.7s\n",
      "[CV 1/3] END bootstrap=True, max_depth=22, max_features=auto, min_samples_leaf=4, min_samples_split=10;, score=0.665 total time=   3.2s\n",
      "[CV 2/3] END bootstrap=True, max_depth=22, max_features=auto, min_samples_leaf=4, min_samples_split=10;, score=0.787 total time=   3.9s\n",
      "[CV 3/3] END bootstrap=True, max_depth=22, max_features=auto, min_samples_leaf=4, min_samples_split=10;, score=0.792 total time=   3.7s\n",
      "[CV 1/3] END bootstrap=True, max_depth=22, max_features=sqrt, min_samples_leaf=1, min_samples_split=2;, score=0.722 total time=   4.2s\n",
      "[CV 2/3] END bootstrap=True, max_depth=22, max_features=sqrt, min_samples_leaf=1, min_samples_split=2;, score=0.819 total time=   5.4s\n",
      "[CV 3/3] END bootstrap=True, max_depth=22, max_features=sqrt, min_samples_leaf=1, min_samples_split=2;, score=0.835 total time=   5.1s\n",
      "[CV 1/3] END bootstrap=True, max_depth=22, max_features=sqrt, min_samples_leaf=1, min_samples_split=5;, score=0.718 total time=   4.0s\n",
      "[CV 2/3] END bootstrap=True, max_depth=22, max_features=sqrt, min_samples_leaf=1, min_samples_split=5;, score=0.821 total time=   5.1s\n",
      "[CV 3/3] END bootstrap=True, max_depth=22, max_features=sqrt, min_samples_leaf=1, min_samples_split=5;, score=0.832 total time=   4.7s\n",
      "[CV 1/3] END bootstrap=True, max_depth=22, max_features=sqrt, min_samples_leaf=1, min_samples_split=10;, score=0.699 total time=   3.9s\n",
      "[CV 2/3] END bootstrap=True, max_depth=22, max_features=sqrt, min_samples_leaf=1, min_samples_split=10;, score=0.817 total time=   4.9s\n",
      "[CV 3/3] END bootstrap=True, max_depth=22, max_features=sqrt, min_samples_leaf=1, min_samples_split=10;, score=0.830 total time=   4.5s\n",
      "[CV 1/3] END bootstrap=True, max_depth=22, max_features=sqrt, min_samples_leaf=2, min_samples_split=2;, score=0.673 total time=   3.4s\n",
      "[CV 2/3] END bootstrap=True, max_depth=22, max_features=sqrt, min_samples_leaf=2, min_samples_split=2;, score=0.787 total time=   4.2s\n",
      "[CV 3/3] END bootstrap=True, max_depth=22, max_features=sqrt, min_samples_leaf=2, min_samples_split=2;, score=0.803 total time=   3.9s\n",
      "[CV 1/3] END bootstrap=True, max_depth=22, max_features=sqrt, min_samples_leaf=2, min_samples_split=5;, score=0.677 total time=   3.4s\n",
      "[CV 2/3] END bootstrap=True, max_depth=22, max_features=sqrt, min_samples_leaf=2, min_samples_split=5;, score=0.795 total time=   4.2s\n",
      "[CV 3/3] END bootstrap=True, max_depth=22, max_features=sqrt, min_samples_leaf=2, min_samples_split=5;, score=0.797 total time=   3.9s\n",
      "[CV 1/3] END bootstrap=True, max_depth=22, max_features=sqrt, min_samples_leaf=2, min_samples_split=10;, score=0.679 total time=   3.3s\n",
      "[CV 2/3] END bootstrap=True, max_depth=22, max_features=sqrt, min_samples_leaf=2, min_samples_split=10;, score=0.798 total time=   4.2s\n",
      "[CV 3/3] END bootstrap=True, max_depth=22, max_features=sqrt, min_samples_leaf=2, min_samples_split=10;, score=0.799 total time=   3.8s\n",
      "[CV 1/3] END bootstrap=True, max_depth=22, max_features=sqrt, min_samples_leaf=4, min_samples_split=2;, score=0.679 total time=   3.2s\n",
      "[CV 2/3] END bootstrap=True, max_depth=22, max_features=sqrt, min_samples_leaf=4, min_samples_split=2;, score=0.792 total time=   4.0s\n",
      "[CV 3/3] END bootstrap=True, max_depth=22, max_features=sqrt, min_samples_leaf=4, min_samples_split=2;, score=0.793 total time=   3.7s\n",
      "[CV 1/3] END bootstrap=True, max_depth=22, max_features=sqrt, min_samples_leaf=4, min_samples_split=5;, score=0.639 total time=   3.3s\n",
      "[CV 2/3] END bootstrap=True, max_depth=22, max_features=sqrt, min_samples_leaf=4, min_samples_split=5;, score=0.794 total time=   4.0s\n",
      "[CV 3/3] END bootstrap=True, max_depth=22, max_features=sqrt, min_samples_leaf=4, min_samples_split=5;, score=0.792 total time=   3.8s\n",
      "[CV 1/3] END bootstrap=True, max_depth=22, max_features=sqrt, min_samples_leaf=4, min_samples_split=10;, score=0.662 total time=   3.2s\n",
      "[CV 2/3] END bootstrap=True, max_depth=22, max_features=sqrt, min_samples_leaf=4, min_samples_split=10;, score=0.797 total time=   4.0s\n",
      "[CV 3/3] END bootstrap=True, max_depth=22, max_features=sqrt, min_samples_leaf=4, min_samples_split=10;, score=0.790 total time=   3.7s\n",
      "[CV 1/3] END bootstrap=True, max_depth=24, max_features=auto, min_samples_leaf=1, min_samples_split=2;, score=0.709 total time=   4.5s\n",
      "[CV 2/3] END bootstrap=True, max_depth=24, max_features=auto, min_samples_leaf=1, min_samples_split=2;, score=0.830 total time=   5.8s\n"
     ]
    },
    {
     "name": "stdout",
     "output_type": "stream",
     "text": [
      "[CV 3/3] END bootstrap=True, max_depth=24, max_features=auto, min_samples_leaf=1, min_samples_split=2;, score=0.829 total time=   5.5s\n",
      "[CV 1/3] END bootstrap=True, max_depth=24, max_features=auto, min_samples_leaf=1, min_samples_split=5;, score=0.718 total time=   4.3s\n",
      "[CV 2/3] END bootstrap=True, max_depth=24, max_features=auto, min_samples_leaf=1, min_samples_split=5;, score=0.833 total time=   5.5s\n",
      "[CV 3/3] END bootstrap=True, max_depth=24, max_features=auto, min_samples_leaf=1, min_samples_split=5;, score=0.838 total time=   5.2s\n",
      "[CV 1/3] END bootstrap=True, max_depth=24, max_features=auto, min_samples_leaf=1, min_samples_split=10;, score=0.714 total time=   4.3s\n",
      "[CV 2/3] END bootstrap=True, max_depth=24, max_features=auto, min_samples_leaf=1, min_samples_split=10;, score=0.825 total time=   5.3s\n",
      "[CV 3/3] END bootstrap=True, max_depth=24, max_features=auto, min_samples_leaf=1, min_samples_split=10;, score=0.825 total time=   4.9s\n",
      "[CV 1/3] END bootstrap=True, max_depth=24, max_features=auto, min_samples_leaf=2, min_samples_split=2;, score=0.675 total time=   3.6s\n",
      "[CV 2/3] END bootstrap=True, max_depth=24, max_features=auto, min_samples_leaf=2, min_samples_split=2;, score=0.803 total time=   4.6s\n",
      "[CV 3/3] END bootstrap=True, max_depth=24, max_features=auto, min_samples_leaf=2, min_samples_split=2;, score=0.808 total time=   4.3s\n",
      "[CV 1/3] END bootstrap=True, max_depth=24, max_features=auto, min_samples_leaf=2, min_samples_split=5;, score=0.677 total time=   3.7s\n",
      "[CV 2/3] END bootstrap=True, max_depth=24, max_features=auto, min_samples_leaf=2, min_samples_split=5;, score=0.806 total time=   4.5s\n",
      "[CV 3/3] END bootstrap=True, max_depth=24, max_features=auto, min_samples_leaf=2, min_samples_split=5;, score=0.809 total time=   4.2s\n",
      "[CV 1/3] END bootstrap=True, max_depth=24, max_features=auto, min_samples_leaf=2, min_samples_split=10;, score=0.684 total time=   3.6s\n",
      "[CV 2/3] END bootstrap=True, max_depth=24, max_features=auto, min_samples_leaf=2, min_samples_split=10;, score=0.807 total time=   4.5s\n",
      "[CV 3/3] END bootstrap=True, max_depth=24, max_features=auto, min_samples_leaf=2, min_samples_split=10;, score=0.802 total time=   4.2s\n",
      "[CV 1/3] END bootstrap=True, max_depth=24, max_features=auto, min_samples_leaf=4, min_samples_split=2;, score=0.666 total time=   3.5s\n",
      "[CV 2/3] END bootstrap=True, max_depth=24, max_features=auto, min_samples_leaf=4, min_samples_split=2;, score=0.788 total time=   4.3s\n",
      "[CV 3/3] END bootstrap=True, max_depth=24, max_features=auto, min_samples_leaf=4, min_samples_split=2;, score=0.793 total time=   4.1s\n",
      "[CV 1/3] END bootstrap=True, max_depth=24, max_features=auto, min_samples_leaf=4, min_samples_split=5;, score=0.671 total time=   3.6s\n",
      "[CV 2/3] END bootstrap=True, max_depth=24, max_features=auto, min_samples_leaf=4, min_samples_split=5;, score=0.779 total time=   4.3s\n",
      "[CV 3/3] END bootstrap=True, max_depth=24, max_features=auto, min_samples_leaf=4, min_samples_split=5;, score=0.801 total time=   4.1s\n",
      "[CV 1/3] END bootstrap=True, max_depth=24, max_features=auto, min_samples_leaf=4, min_samples_split=10;, score=0.666 total time=   3.5s\n",
      "[CV 2/3] END bootstrap=True, max_depth=24, max_features=auto, min_samples_leaf=4, min_samples_split=10;, score=0.791 total time=   4.3s\n",
      "[CV 3/3] END bootstrap=True, max_depth=24, max_features=auto, min_samples_leaf=4, min_samples_split=10;, score=0.798 total time=   4.0s\n",
      "[CV 1/3] END bootstrap=True, max_depth=24, max_features=sqrt, min_samples_leaf=1, min_samples_split=2;, score=0.719 total time=   4.5s\n",
      "[CV 2/3] END bootstrap=True, max_depth=24, max_features=sqrt, min_samples_leaf=1, min_samples_split=2;, score=0.829 total time=   5.8s\n",
      "[CV 3/3] END bootstrap=True, max_depth=24, max_features=sqrt, min_samples_leaf=1, min_samples_split=2;, score=0.838 total time=   5.5s\n",
      "[CV 1/3] END bootstrap=True, max_depth=24, max_features=sqrt, min_samples_leaf=1, min_samples_split=5;, score=0.716 total time=   4.5s\n",
      "[CV 2/3] END bootstrap=True, max_depth=24, max_features=sqrt, min_samples_leaf=1, min_samples_split=5;, score=0.821 total time=   5.5s\n",
      "[CV 3/3] END bootstrap=True, max_depth=24, max_features=sqrt, min_samples_leaf=1, min_samples_split=5;, score=0.826 total time=   5.2s\n",
      "[CV 1/3] END bootstrap=True, max_depth=24, max_features=sqrt, min_samples_leaf=1, min_samples_split=10;, score=0.727 total time=   4.3s\n",
      "[CV 2/3] END bootstrap=True, max_depth=24, max_features=sqrt, min_samples_leaf=1, min_samples_split=10;, score=0.820 total time=   5.2s\n",
      "[CV 3/3] END bootstrap=True, max_depth=24, max_features=sqrt, min_samples_leaf=1, min_samples_split=10;, score=0.838 total time=   5.3s\n",
      "[CV 1/3] END bootstrap=True, max_depth=24, max_features=sqrt, min_samples_leaf=2, min_samples_split=2;, score=0.689 total time=   3.8s\n",
      "[CV 2/3] END bootstrap=True, max_depth=24, max_features=sqrt, min_samples_leaf=2, min_samples_split=2;, score=0.803 total time=   4.5s\n",
      "[CV 3/3] END bootstrap=True, max_depth=24, max_features=sqrt, min_samples_leaf=2, min_samples_split=2;, score=0.798 total time=   4.3s\n",
      "[CV 1/3] END bootstrap=True, max_depth=24, max_features=sqrt, min_samples_leaf=2, min_samples_split=5;, score=0.673 total time=   3.6s\n",
      "[CV 2/3] END bootstrap=True, max_depth=24, max_features=sqrt, min_samples_leaf=2, min_samples_split=5;, score=0.798 total time=   4.5s\n",
      "[CV 3/3] END bootstrap=True, max_depth=24, max_features=sqrt, min_samples_leaf=2, min_samples_split=5;, score=0.804 total time=   4.3s\n",
      "[CV 1/3] END bootstrap=True, max_depth=24, max_features=sqrt, min_samples_leaf=2, min_samples_split=10;, score=0.680 total time=   3.6s\n",
      "[CV 2/3] END bootstrap=True, max_depth=24, max_features=sqrt, min_samples_leaf=2, min_samples_split=10;, score=0.799 total time=   4.5s\n",
      "[CV 3/3] END bootstrap=True, max_depth=24, max_features=sqrt, min_samples_leaf=2, min_samples_split=10;, score=0.800 total time=   4.2s\n",
      "[CV 1/3] END bootstrap=True, max_depth=24, max_features=sqrt, min_samples_leaf=4, min_samples_split=2;, score=0.659 total time=   3.5s\n",
      "[CV 2/3] END bootstrap=True, max_depth=24, max_features=sqrt, min_samples_leaf=4, min_samples_split=2;, score=0.792 total time=   4.3s\n",
      "[CV 3/3] END bootstrap=True, max_depth=24, max_features=sqrt, min_samples_leaf=4, min_samples_split=2;, score=0.772 total time=   4.1s\n",
      "[CV 1/3] END bootstrap=True, max_depth=24, max_features=sqrt, min_samples_leaf=4, min_samples_split=5;, score=0.661 total time=   3.5s\n",
      "[CV 2/3] END bootstrap=True, max_depth=24, max_features=sqrt, min_samples_leaf=4, min_samples_split=5;, score=0.789 total time=   4.3s\n",
      "[CV 3/3] END bootstrap=True, max_depth=24, max_features=sqrt, min_samples_leaf=4, min_samples_split=5;, score=0.791 total time=   4.1s\n",
      "[CV 1/3] END bootstrap=True, max_depth=24, max_features=sqrt, min_samples_leaf=4, min_samples_split=10;, score=0.676 total time=   3.5s\n",
      "[CV 2/3] END bootstrap=True, max_depth=24, max_features=sqrt, min_samples_leaf=4, min_samples_split=10;, score=0.794 total time=   4.3s\n",
      "[CV 3/3] END bootstrap=True, max_depth=24, max_features=sqrt, min_samples_leaf=4, min_samples_split=10;, score=0.800 total time=   4.0s\n",
      "[CV 1/3] END bootstrap=True, max_depth=26, max_features=auto, min_samples_leaf=1, min_samples_split=2;, score=0.711 total time=   5.0s\n",
      "[CV 2/3] END bootstrap=True, max_depth=26, max_features=auto, min_samples_leaf=1, min_samples_split=2;, score=0.824 total time=   6.5s\n",
      "[CV 3/3] END bootstrap=True, max_depth=26, max_features=auto, min_samples_leaf=1, min_samples_split=2;, score=0.833 total time=   6.2s\n",
      "[CV 1/3] END bootstrap=True, max_depth=26, max_features=auto, min_samples_leaf=1, min_samples_split=5;, score=0.724 total time=   4.8s\n",
      "[CV 2/3] END bootstrap=True, max_depth=26, max_features=auto, min_samples_leaf=1, min_samples_split=5;, score=0.830 total time=   6.0s\n",
      "[CV 3/3] END bootstrap=True, max_depth=26, max_features=auto, min_samples_leaf=1, min_samples_split=5;, score=0.825 total time=   5.6s\n",
      "[CV 1/3] END bootstrap=True, max_depth=26, max_features=auto, min_samples_leaf=1, min_samples_split=10;, score=0.720 total time=   4.6s\n",
      "[CV 2/3] END bootstrap=True, max_depth=26, max_features=auto, min_samples_leaf=1, min_samples_split=10;, score=0.830 total time=   5.7s\n",
      "[CV 3/3] END bootstrap=True, max_depth=26, max_features=auto, min_samples_leaf=1, min_samples_split=10;, score=0.833 total time=   5.4s\n"
     ]
    },
    {
     "name": "stdout",
     "output_type": "stream",
     "text": [
      "[CV 1/3] END bootstrap=True, max_depth=26, max_features=auto, min_samples_leaf=2, min_samples_split=2;, score=0.673 total time=   3.9s\n",
      "[CV 2/3] END bootstrap=True, max_depth=26, max_features=auto, min_samples_leaf=2, min_samples_split=2;, score=0.807 total time=   4.9s\n",
      "[CV 3/3] END bootstrap=True, max_depth=26, max_features=auto, min_samples_leaf=2, min_samples_split=2;, score=0.808 total time=   4.6s\n",
      "[CV 1/3] END bootstrap=True, max_depth=26, max_features=auto, min_samples_leaf=2, min_samples_split=5;, score=0.680 total time=   3.9s\n",
      "[CV 2/3] END bootstrap=True, max_depth=26, max_features=auto, min_samples_leaf=2, min_samples_split=5;, score=0.801 total time=   4.8s\n",
      "[CV 3/3] END bootstrap=True, max_depth=26, max_features=auto, min_samples_leaf=2, min_samples_split=5;, score=0.808 total time=   4.6s\n",
      "[CV 1/3] END bootstrap=True, max_depth=26, max_features=auto, min_samples_leaf=2, min_samples_split=10;, score=0.684 total time=   3.9s\n",
      "[CV 2/3] END bootstrap=True, max_depth=26, max_features=auto, min_samples_leaf=2, min_samples_split=10;, score=0.794 total time=   4.8s\n",
      "[CV 3/3] END bootstrap=True, max_depth=26, max_features=auto, min_samples_leaf=2, min_samples_split=10;, score=0.801 total time=   4.6s\n",
      "[CV 1/3] END bootstrap=True, max_depth=26, max_features=auto, min_samples_leaf=4, min_samples_split=2;, score=0.667 total time=   3.8s\n",
      "[CV 2/3] END bootstrap=True, max_depth=26, max_features=auto, min_samples_leaf=4, min_samples_split=2;, score=0.793 total time=   4.7s\n",
      "[CV 3/3] END bootstrap=True, max_depth=26, max_features=auto, min_samples_leaf=4, min_samples_split=2;, score=0.797 total time=   4.4s\n",
      "[CV 1/3] END bootstrap=True, max_depth=26, max_features=auto, min_samples_leaf=4, min_samples_split=5;, score=0.666 total time=   3.7s\n",
      "[CV 2/3] END bootstrap=True, max_depth=26, max_features=auto, min_samples_leaf=4, min_samples_split=5;, score=0.792 total time=   4.6s\n",
      "[CV 3/3] END bootstrap=True, max_depth=26, max_features=auto, min_samples_leaf=4, min_samples_split=5;, score=0.799 total time=   4.3s\n",
      "[CV 1/3] END bootstrap=True, max_depth=26, max_features=auto, min_samples_leaf=4, min_samples_split=10;, score=0.677 total time=   3.7s\n",
      "[CV 2/3] END bootstrap=True, max_depth=26, max_features=auto, min_samples_leaf=4, min_samples_split=10;, score=0.785 total time=   4.6s\n",
      "[CV 3/3] END bootstrap=True, max_depth=26, max_features=auto, min_samples_leaf=4, min_samples_split=10;, score=0.798 total time=   4.3s\n",
      "[CV 1/3] END bootstrap=True, max_depth=26, max_features=sqrt, min_samples_leaf=1, min_samples_split=2;, score=0.711 total time=   5.0s\n",
      "[CV 2/3] END bootstrap=True, max_depth=26, max_features=sqrt, min_samples_leaf=1, min_samples_split=2;, score=0.832 total time=   6.5s\n",
      "[CV 3/3] END bootstrap=True, max_depth=26, max_features=sqrt, min_samples_leaf=1, min_samples_split=2;, score=0.838 total time=   6.3s\n",
      "[CV 1/3] END bootstrap=True, max_depth=26, max_features=sqrt, min_samples_leaf=1, min_samples_split=5;, score=0.714 total time=   4.9s\n",
      "[CV 2/3] END bootstrap=True, max_depth=26, max_features=sqrt, min_samples_leaf=1, min_samples_split=5;, score=0.829 total time=   6.1s\n",
      "[CV 3/3] END bootstrap=True, max_depth=26, max_features=sqrt, min_samples_leaf=1, min_samples_split=5;, score=0.838 total time=   5.9s\n",
      "[CV 1/3] END bootstrap=True, max_depth=26, max_features=sqrt, min_samples_leaf=1, min_samples_split=10;, score=0.721 total time=   4.7s\n",
      "[CV 2/3] END bootstrap=True, max_depth=26, max_features=sqrt, min_samples_leaf=1, min_samples_split=10;, score=0.826 total time=   5.8s\n",
      "[CV 3/3] END bootstrap=True, max_depth=26, max_features=sqrt, min_samples_leaf=1, min_samples_split=10;, score=0.826 total time=   5.4s\n",
      "[CV 1/3] END bootstrap=True, max_depth=26, max_features=sqrt, min_samples_leaf=2, min_samples_split=2;, score=0.683 total time=   3.9s\n",
      "[CV 2/3] END bootstrap=True, max_depth=26, max_features=sqrt, min_samples_leaf=2, min_samples_split=2;, score=0.803 total time=   4.9s\n",
      "[CV 3/3] END bootstrap=True, max_depth=26, max_features=sqrt, min_samples_leaf=2, min_samples_split=2;, score=0.805 total time=   4.6s\n",
      "[CV 1/3] END bootstrap=True, max_depth=26, max_features=sqrt, min_samples_leaf=2, min_samples_split=5;, score=0.676 total time=   3.9s\n",
      "[CV 2/3] END bootstrap=True, max_depth=26, max_features=sqrt, min_samples_leaf=2, min_samples_split=5;, score=0.799 total time=   4.9s\n",
      "[CV 3/3] END bootstrap=True, max_depth=26, max_features=sqrt, min_samples_leaf=2, min_samples_split=5;, score=0.803 total time=   4.6s\n",
      "[CV 1/3] END bootstrap=True, max_depth=26, max_features=sqrt, min_samples_leaf=2, min_samples_split=10;, score=0.678 total time=   3.9s\n",
      "[CV 2/3] END bootstrap=True, max_depth=26, max_features=sqrt, min_samples_leaf=2, min_samples_split=10;, score=0.803 total time=   4.9s\n",
      "[CV 3/3] END bootstrap=True, max_depth=26, max_features=sqrt, min_samples_leaf=2, min_samples_split=10;, score=0.805 total time=   4.5s\n",
      "[CV 1/3] END bootstrap=True, max_depth=26, max_features=sqrt, min_samples_leaf=4, min_samples_split=2;, score=0.665 total time=   3.8s\n",
      "[CV 2/3] END bootstrap=True, max_depth=26, max_features=sqrt, min_samples_leaf=4, min_samples_split=2;, score=0.792 total time=   4.6s\n",
      "[CV 3/3] END bootstrap=True, max_depth=26, max_features=sqrt, min_samples_leaf=4, min_samples_split=2;, score=0.792 total time=   4.3s\n",
      "[CV 1/3] END bootstrap=True, max_depth=26, max_features=sqrt, min_samples_leaf=4, min_samples_split=5;, score=0.673 total time=   3.7s\n",
      "[CV 2/3] END bootstrap=True, max_depth=26, max_features=sqrt, min_samples_leaf=4, min_samples_split=5;, score=0.786 total time=   4.6s\n",
      "[CV 3/3] END bootstrap=True, max_depth=26, max_features=sqrt, min_samples_leaf=4, min_samples_split=5;, score=0.798 total time=   4.4s\n",
      "[CV 1/3] END bootstrap=True, max_depth=26, max_features=sqrt, min_samples_leaf=4, min_samples_split=10;, score=0.673 total time=   3.8s\n",
      "[CV 2/3] END bootstrap=True, max_depth=26, max_features=sqrt, min_samples_leaf=4, min_samples_split=10;, score=0.787 total time=   4.6s\n",
      "[CV 3/3] END bootstrap=True, max_depth=26, max_features=sqrt, min_samples_leaf=4, min_samples_split=10;, score=0.803 total time=   4.3s\n",
      "[CV 1/3] END bootstrap=True, max_depth=28, max_features=auto, min_samples_leaf=1, min_samples_split=2;, score=0.735 total time=   5.4s\n",
      "[CV 2/3] END bootstrap=True, max_depth=28, max_features=auto, min_samples_leaf=1, min_samples_split=2;, score=0.834 total time=   7.1s\n",
      "[CV 3/3] END bootstrap=True, max_depth=28, max_features=auto, min_samples_leaf=1, min_samples_split=2;, score=0.836 total time=   6.6s\n",
      "[CV 1/3] END bootstrap=True, max_depth=28, max_features=auto, min_samples_leaf=1, min_samples_split=5;, score=0.727 total time=   5.1s\n",
      "[CV 2/3] END bootstrap=True, max_depth=28, max_features=auto, min_samples_leaf=1, min_samples_split=5;, score=0.826 total time=   6.4s\n",
      "[CV 3/3] END bootstrap=True, max_depth=28, max_features=auto, min_samples_leaf=1, min_samples_split=5;, score=0.849 total time=   6.2s\n",
      "[CV 1/3] END bootstrap=True, max_depth=28, max_features=auto, min_samples_leaf=1, min_samples_split=10;, score=0.732 total time=   5.0s\n",
      "[CV 2/3] END bootstrap=True, max_depth=28, max_features=auto, min_samples_leaf=1, min_samples_split=10;, score=0.822 total time=   6.3s\n",
      "[CV 3/3] END bootstrap=True, max_depth=28, max_features=auto, min_samples_leaf=1, min_samples_split=10;, score=0.844 total time=   5.9s\n",
      "[CV 1/3] END bootstrap=True, max_depth=28, max_features=auto, min_samples_leaf=2, min_samples_split=2;, score=0.678 total time=   4.2s\n",
      "[CV 2/3] END bootstrap=True, max_depth=28, max_features=auto, min_samples_leaf=2, min_samples_split=2;, score=0.799 total time=   5.2s\n",
      "[CV 3/3] END bootstrap=True, max_depth=28, max_features=auto, min_samples_leaf=2, min_samples_split=2;, score=0.812 total time=   4.9s\n",
      "[CV 1/3] END bootstrap=True, max_depth=28, max_features=auto, min_samples_leaf=2, min_samples_split=5;, score=0.685 total time=   4.2s\n",
      "[CV 2/3] END bootstrap=True, max_depth=28, max_features=auto, min_samples_leaf=2, min_samples_split=5;, score=0.799 total time=   5.3s\n",
      "[CV 3/3] END bootstrap=True, max_depth=28, max_features=auto, min_samples_leaf=2, min_samples_split=5;, score=0.807 total time=   4.9s\n",
      "[CV 1/3] END bootstrap=True, max_depth=28, max_features=auto, min_samples_leaf=2, min_samples_split=10;, score=0.681 total time=   4.2s\n"
     ]
    },
    {
     "name": "stdout",
     "output_type": "stream",
     "text": [
      "[CV 2/3] END bootstrap=True, max_depth=28, max_features=auto, min_samples_leaf=2, min_samples_split=10;, score=0.799 total time=   5.1s\n",
      "[CV 3/3] END bootstrap=True, max_depth=28, max_features=auto, min_samples_leaf=2, min_samples_split=10;, score=0.813 total time=   4.8s\n",
      "[CV 1/3] END bootstrap=True, max_depth=28, max_features=auto, min_samples_leaf=4, min_samples_split=2;, score=0.678 total time=   4.0s\n",
      "[CV 2/3] END bootstrap=True, max_depth=28, max_features=auto, min_samples_leaf=4, min_samples_split=2;, score=0.787 total time=   4.9s\n",
      "[CV 3/3] END bootstrap=True, max_depth=28, max_features=auto, min_samples_leaf=4, min_samples_split=2;, score=0.802 total time=   4.6s\n",
      "[CV 1/3] END bootstrap=True, max_depth=28, max_features=auto, min_samples_leaf=4, min_samples_split=5;, score=0.669 total time=   4.0s\n",
      "[CV 2/3] END bootstrap=True, max_depth=28, max_features=auto, min_samples_leaf=4, min_samples_split=5;, score=0.805 total time=   4.9s\n",
      "[CV 3/3] END bootstrap=True, max_depth=28, max_features=auto, min_samples_leaf=4, min_samples_split=5;, score=0.805 total time=   4.6s\n",
      "[CV 1/3] END bootstrap=True, max_depth=28, max_features=auto, min_samples_leaf=4, min_samples_split=10;, score=0.633 total time=   4.0s\n",
      "[CV 2/3] END bootstrap=True, max_depth=28, max_features=auto, min_samples_leaf=4, min_samples_split=10;, score=0.791 total time=   4.9s\n",
      "[CV 3/3] END bootstrap=True, max_depth=28, max_features=auto, min_samples_leaf=4, min_samples_split=10;, score=0.791 total time=   4.6s\n",
      "[CV 1/3] END bootstrap=True, max_depth=28, max_features=sqrt, min_samples_leaf=1, min_samples_split=2;, score=0.735 total time=   5.4s\n",
      "[CV 2/3] END bootstrap=True, max_depth=28, max_features=sqrt, min_samples_leaf=1, min_samples_split=2;, score=0.838 total time=   7.1s\n",
      "[CV 3/3] END bootstrap=True, max_depth=28, max_features=sqrt, min_samples_leaf=1, min_samples_split=2;, score=0.846 total time=   6.5s\n",
      "[CV 1/3] END bootstrap=True, max_depth=28, max_features=sqrt, min_samples_leaf=1, min_samples_split=5;, score=0.729 total time=   5.1s\n",
      "[CV 2/3] END bootstrap=True, max_depth=28, max_features=sqrt, min_samples_leaf=1, min_samples_split=5;, score=0.834 total time=   6.6s\n",
      "[CV 3/3] END bootstrap=True, max_depth=28, max_features=sqrt, min_samples_leaf=1, min_samples_split=5;, score=0.841 total time=   6.1s\n",
      "[CV 1/3] END bootstrap=True, max_depth=28, max_features=sqrt, min_samples_leaf=1, min_samples_split=10;, score=0.714 total time=   5.0s\n",
      "[CV 2/3] END bootstrap=True, max_depth=28, max_features=sqrt, min_samples_leaf=1, min_samples_split=10;, score=0.828 total time=   6.2s\n",
      "[CV 3/3] END bootstrap=True, max_depth=28, max_features=sqrt, min_samples_leaf=1, min_samples_split=10;, score=0.840 total time=   5.9s\n",
      "[CV 1/3] END bootstrap=True, max_depth=28, max_features=sqrt, min_samples_leaf=2, min_samples_split=2;, score=0.687 total time=   4.2s\n",
      "[CV 2/3] END bootstrap=True, max_depth=28, max_features=sqrt, min_samples_leaf=2, min_samples_split=2;, score=0.805 total time=   5.2s\n",
      "[CV 3/3] END bootstrap=True, max_depth=28, max_features=sqrt, min_samples_leaf=2, min_samples_split=2;, score=0.813 total time=   4.9s\n",
      "[CV 1/3] END bootstrap=True, max_depth=28, max_features=sqrt, min_samples_leaf=2, min_samples_split=5;, score=0.679 total time=   4.2s\n",
      "[CV 2/3] END bootstrap=True, max_depth=28, max_features=sqrt, min_samples_leaf=2, min_samples_split=5;, score=0.798 total time=   5.2s\n",
      "[CV 3/3] END bootstrap=True, max_depth=28, max_features=sqrt, min_samples_leaf=2, min_samples_split=5;, score=0.815 total time=   4.9s\n",
      "[CV 1/3] END bootstrap=True, max_depth=28, max_features=sqrt, min_samples_leaf=2, min_samples_split=10;, score=0.671 total time=   4.1s\n",
      "[CV 2/3] END bootstrap=True, max_depth=28, max_features=sqrt, min_samples_leaf=2, min_samples_split=10;, score=0.804 total time=   5.1s\n",
      "[CV 3/3] END bootstrap=True, max_depth=28, max_features=sqrt, min_samples_leaf=2, min_samples_split=10;, score=0.804 total time=   4.8s\n",
      "[CV 1/3] END bootstrap=True, max_depth=28, max_features=sqrt, min_samples_leaf=4, min_samples_split=2;, score=0.673 total time=   4.0s\n",
      "[CV 2/3] END bootstrap=True, max_depth=28, max_features=sqrt, min_samples_leaf=4, min_samples_split=2;, score=0.766 total time=   4.9s\n",
      "[CV 3/3] END bootstrap=True, max_depth=28, max_features=sqrt, min_samples_leaf=4, min_samples_split=2;, score=0.804 total time=   4.6s\n",
      "[CV 1/3] END bootstrap=True, max_depth=28, max_features=sqrt, min_samples_leaf=4, min_samples_split=5;, score=0.670 total time=   4.0s\n",
      "[CV 2/3] END bootstrap=True, max_depth=28, max_features=sqrt, min_samples_leaf=4, min_samples_split=5;, score=0.796 total time=   4.9s\n",
      "[CV 3/3] END bootstrap=True, max_depth=28, max_features=sqrt, min_samples_leaf=4, min_samples_split=5;, score=0.795 total time=   4.6s\n",
      "[CV 1/3] END bootstrap=True, max_depth=28, max_features=sqrt, min_samples_leaf=4, min_samples_split=10;, score=0.664 total time=   4.0s\n",
      "[CV 2/3] END bootstrap=True, max_depth=28, max_features=sqrt, min_samples_leaf=4, min_samples_split=10;, score=0.789 total time=   4.8s\n",
      "[CV 3/3] END bootstrap=True, max_depth=28, max_features=sqrt, min_samples_leaf=4, min_samples_split=10;, score=0.800 total time=   4.6s\n",
      "[CV 1/3] END bootstrap=True, max_depth=30, max_features=auto, min_samples_leaf=1, min_samples_split=2;, score=0.738 total time=   5.9s\n",
      "[CV 2/3] END bootstrap=True, max_depth=30, max_features=auto, min_samples_leaf=1, min_samples_split=2;, score=0.832 total time=   7.7s\n",
      "[CV 3/3] END bootstrap=True, max_depth=30, max_features=auto, min_samples_leaf=1, min_samples_split=2;, score=0.845 total time=   7.3s\n",
      "[CV 1/3] END bootstrap=True, max_depth=30, max_features=auto, min_samples_leaf=1, min_samples_split=5;, score=0.732 total time=   5.6s\n",
      "[CV 2/3] END bootstrap=True, max_depth=30, max_features=auto, min_samples_leaf=1, min_samples_split=5;, score=0.834 total time=   7.1s\n",
      "[CV 3/3] END bootstrap=True, max_depth=30, max_features=auto, min_samples_leaf=1, min_samples_split=5;, score=0.840 total time=   6.6s\n",
      "[CV 1/3] END bootstrap=True, max_depth=30, max_features=auto, min_samples_leaf=1, min_samples_split=10;, score=0.727 total time=   5.4s\n",
      "[CV 2/3] END bootstrap=True, max_depth=30, max_features=auto, min_samples_leaf=1, min_samples_split=10;, score=0.835 total time=   6.7s\n",
      "[CV 3/3] END bootstrap=True, max_depth=30, max_features=auto, min_samples_leaf=1, min_samples_split=10;, score=0.842 total time=   6.3s\n",
      "[CV 1/3] END bootstrap=True, max_depth=30, max_features=auto, min_samples_leaf=2, min_samples_split=2;, score=0.680 total time=   4.5s\n",
      "[CV 2/3] END bootstrap=True, max_depth=30, max_features=auto, min_samples_leaf=2, min_samples_split=2;, score=0.802 total time=   5.6s\n",
      "[CV 3/3] END bootstrap=True, max_depth=30, max_features=auto, min_samples_leaf=2, min_samples_split=2;, score=0.814 total time=   5.3s\n",
      "[CV 1/3] END bootstrap=True, max_depth=30, max_features=auto, min_samples_leaf=2, min_samples_split=5;, score=0.659 total time=   4.4s\n",
      "[CV 2/3] END bootstrap=True, max_depth=30, max_features=auto, min_samples_leaf=2, min_samples_split=5;, score=0.799 total time=   5.5s\n",
      "[CV 3/3] END bootstrap=True, max_depth=30, max_features=auto, min_samples_leaf=2, min_samples_split=5;, score=0.809 total time=   5.2s\n",
      "[CV 1/3] END bootstrap=True, max_depth=30, max_features=auto, min_samples_leaf=2, min_samples_split=10;, score=0.675 total time=   4.4s\n",
      "[CV 2/3] END bootstrap=True, max_depth=30, max_features=auto, min_samples_leaf=2, min_samples_split=10;, score=0.807 total time=   5.5s\n",
      "[CV 3/3] END bootstrap=True, max_depth=30, max_features=auto, min_samples_leaf=2, min_samples_split=10;, score=0.814 total time=   5.1s\n",
      "[CV 1/3] END bootstrap=True, max_depth=30, max_features=auto, min_samples_leaf=4, min_samples_split=2;, score=0.658 total time=   4.2s\n",
      "[CV 2/3] END bootstrap=True, max_depth=30, max_features=auto, min_samples_leaf=4, min_samples_split=2;, score=0.797 total time=   5.2s\n",
      "[CV 3/3] END bootstrap=True, max_depth=30, max_features=auto, min_samples_leaf=4, min_samples_split=2;, score=0.794 total time=   4.9s\n",
      "[CV 1/3] END bootstrap=True, max_depth=30, max_features=auto, min_samples_leaf=4, min_samples_split=5;, score=0.665 total time=   4.3s\n",
      "[CV 2/3] END bootstrap=True, max_depth=30, max_features=auto, min_samples_leaf=4, min_samples_split=5;, score=0.790 total time=   5.2s\n"
     ]
    },
    {
     "name": "stdout",
     "output_type": "stream",
     "text": [
      "[CV 3/3] END bootstrap=True, max_depth=30, max_features=auto, min_samples_leaf=4, min_samples_split=5;, score=0.799 total time=   4.9s\n",
      "[CV 1/3] END bootstrap=True, max_depth=30, max_features=auto, min_samples_leaf=4, min_samples_split=10;, score=0.658 total time=   4.2s\n",
      "[CV 2/3] END bootstrap=True, max_depth=30, max_features=auto, min_samples_leaf=4, min_samples_split=10;, score=0.794 total time=   5.2s\n",
      "[CV 3/3] END bootstrap=True, max_depth=30, max_features=auto, min_samples_leaf=4, min_samples_split=10;, score=0.802 total time=   4.9s\n",
      "[CV 1/3] END bootstrap=True, max_depth=30, max_features=sqrt, min_samples_leaf=1, min_samples_split=2;, score=0.730 total time=   5.9s\n",
      "[CV 2/3] END bootstrap=True, max_depth=30, max_features=sqrt, min_samples_leaf=1, min_samples_split=2;, score=0.839 total time=   7.7s\n",
      "[CV 3/3] END bootstrap=True, max_depth=30, max_features=sqrt, min_samples_leaf=1, min_samples_split=2;, score=0.838 total time=   7.1s\n",
      "[CV 1/3] END bootstrap=True, max_depth=30, max_features=sqrt, min_samples_leaf=1, min_samples_split=5;, score=0.717 total time=   5.6s\n",
      "[CV 2/3] END bootstrap=True, max_depth=30, max_features=sqrt, min_samples_leaf=1, min_samples_split=5;, score=0.839 total time=   7.1s\n",
      "[CV 3/3] END bootstrap=True, max_depth=30, max_features=sqrt, min_samples_leaf=1, min_samples_split=5;, score=0.837 total time=   6.6s\n",
      "[CV 1/3] END bootstrap=True, max_depth=30, max_features=sqrt, min_samples_leaf=1, min_samples_split=10;, score=0.721 total time=   5.4s\n",
      "[CV 2/3] END bootstrap=True, max_depth=30, max_features=sqrt, min_samples_leaf=1, min_samples_split=10;, score=0.832 total time=   6.7s\n",
      "[CV 3/3] END bootstrap=True, max_depth=30, max_features=sqrt, min_samples_leaf=1, min_samples_split=10;, score=0.844 total time=   6.3s\n",
      "[CV 1/3] END bootstrap=True, max_depth=30, max_features=sqrt, min_samples_leaf=2, min_samples_split=2;, score=0.684 total time=   4.4s\n",
      "[CV 2/3] END bootstrap=True, max_depth=30, max_features=sqrt, min_samples_leaf=2, min_samples_split=2;, score=0.805 total time=   5.7s\n",
      "[CV 3/3] END bootstrap=True, max_depth=30, max_features=sqrt, min_samples_leaf=2, min_samples_split=2;, score=0.807 total time=   5.2s\n",
      "[CV 1/3] END bootstrap=True, max_depth=30, max_features=sqrt, min_samples_leaf=2, min_samples_split=5;, score=0.677 total time=   4.5s\n",
      "[CV 2/3] END bootstrap=True, max_depth=30, max_features=sqrt, min_samples_leaf=2, min_samples_split=5;, score=0.805 total time=   5.5s\n",
      "[CV 3/3] END bootstrap=True, max_depth=30, max_features=sqrt, min_samples_leaf=2, min_samples_split=5;, score=0.812 total time=   5.2s\n",
      "[CV 1/3] END bootstrap=True, max_depth=30, max_features=sqrt, min_samples_leaf=2, min_samples_split=10;, score=0.682 total time=   4.4s\n",
      "[CV 2/3] END bootstrap=True, max_depth=30, max_features=sqrt, min_samples_leaf=2, min_samples_split=10;, score=0.799 total time=   5.6s\n",
      "[CV 3/3] END bootstrap=True, max_depth=30, max_features=sqrt, min_samples_leaf=2, min_samples_split=10;, score=0.807 total time=   5.1s\n",
      "[CV 1/3] END bootstrap=True, max_depth=30, max_features=sqrt, min_samples_leaf=4, min_samples_split=2;, score=0.671 total time=   4.2s\n",
      "[CV 2/3] END bootstrap=True, max_depth=30, max_features=sqrt, min_samples_leaf=4, min_samples_split=2;, score=0.801 total time=   5.2s\n",
      "[CV 3/3] END bootstrap=True, max_depth=30, max_features=sqrt, min_samples_leaf=4, min_samples_split=2;, score=0.807 total time=   4.9s\n",
      "[CV 1/3] END bootstrap=True, max_depth=30, max_features=sqrt, min_samples_leaf=4, min_samples_split=5;, score=0.671 total time=   4.2s\n",
      "[CV 2/3] END bootstrap=True, max_depth=30, max_features=sqrt, min_samples_leaf=4, min_samples_split=5;, score=0.792 total time=   5.2s\n",
      "[CV 3/3] END bootstrap=True, max_depth=30, max_features=sqrt, min_samples_leaf=4, min_samples_split=5;, score=0.806 total time=   4.9s\n",
      "[CV 1/3] END bootstrap=True, max_depth=30, max_features=sqrt, min_samples_leaf=4, min_samples_split=10;, score=0.663 total time=   4.2s\n",
      "[CV 2/3] END bootstrap=True, max_depth=30, max_features=sqrt, min_samples_leaf=4, min_samples_split=10;, score=0.795 total time=   5.2s\n",
      "[CV 3/3] END bootstrap=True, max_depth=30, max_features=sqrt, min_samples_leaf=4, min_samples_split=10;, score=0.789 total time=   4.9s\n",
      "[CV 1/3] END bootstrap=True, max_depth=32, max_features=auto, min_samples_leaf=1, min_samples_split=2;, score=0.747 total time=   6.4s\n",
      "[CV 2/3] END bootstrap=True, max_depth=32, max_features=auto, min_samples_leaf=1, min_samples_split=2;, score=0.835 total time=   8.4s\n",
      "[CV 3/3] END bootstrap=True, max_depth=32, max_features=auto, min_samples_leaf=1, min_samples_split=2;, score=0.851 total time=   7.9s\n",
      "[CV 1/3] END bootstrap=True, max_depth=32, max_features=auto, min_samples_leaf=1, min_samples_split=5;, score=0.735 total time=   6.0s\n",
      "[CV 2/3] END bootstrap=True, max_depth=32, max_features=auto, min_samples_leaf=1, min_samples_split=5;, score=0.834 total time=   7.6s\n",
      "[CV 3/3] END bootstrap=True, max_depth=32, max_features=auto, min_samples_leaf=1, min_samples_split=5;, score=0.841 total time=   7.2s\n",
      "[CV 1/3] END bootstrap=True, max_depth=32, max_features=auto, min_samples_leaf=1, min_samples_split=10;, score=0.732 total time=   5.9s\n",
      "[CV 2/3] END bootstrap=True, max_depth=32, max_features=auto, min_samples_leaf=1, min_samples_split=10;, score=0.838 total time=   7.2s\n",
      "[CV 3/3] END bootstrap=True, max_depth=32, max_features=auto, min_samples_leaf=1, min_samples_split=10;, score=0.843 total time=   6.8s\n",
      "[CV 1/3] END bootstrap=True, max_depth=32, max_features=auto, min_samples_leaf=2, min_samples_split=2;, score=0.682 total time=   4.7s\n",
      "[CV 2/3] END bootstrap=True, max_depth=32, max_features=auto, min_samples_leaf=2, min_samples_split=2;, score=0.804 total time=   5.9s\n",
      "[CV 3/3] END bootstrap=True, max_depth=32, max_features=auto, min_samples_leaf=2, min_samples_split=2;, score=0.811 total time=   5.6s\n",
      "[CV 1/3] END bootstrap=True, max_depth=32, max_features=auto, min_samples_leaf=2, min_samples_split=5;, score=0.681 total time=   4.7s\n",
      "[CV 2/3] END bootstrap=True, max_depth=32, max_features=auto, min_samples_leaf=2, min_samples_split=5;, score=0.803 total time=   5.9s\n",
      "[CV 3/3] END bootstrap=True, max_depth=32, max_features=auto, min_samples_leaf=2, min_samples_split=5;, score=0.817 total time=   5.5s\n",
      "[CV 1/3] END bootstrap=True, max_depth=32, max_features=auto, min_samples_leaf=2, min_samples_split=10;, score=0.677 total time=   4.7s\n",
      "[CV 2/3] END bootstrap=True, max_depth=32, max_features=auto, min_samples_leaf=2, min_samples_split=10;, score=0.805 total time=   5.8s\n",
      "[CV 3/3] END bootstrap=True, max_depth=32, max_features=auto, min_samples_leaf=2, min_samples_split=10;, score=0.818 total time=   5.4s\n",
      "[CV 1/3] END bootstrap=True, max_depth=32, max_features=auto, min_samples_leaf=4, min_samples_split=2;, score=0.667 total time=   4.5s\n",
      "[CV 2/3] END bootstrap=True, max_depth=32, max_features=auto, min_samples_leaf=4, min_samples_split=2;, score=0.798 total time=   5.5s\n",
      "[CV 3/3] END bootstrap=True, max_depth=32, max_features=auto, min_samples_leaf=4, min_samples_split=2;, score=0.796 total time=   5.2s\n",
      "[CV 1/3] END bootstrap=True, max_depth=32, max_features=auto, min_samples_leaf=4, min_samples_split=5;, score=0.670 total time=   4.5s\n",
      "[CV 2/3] END bootstrap=True, max_depth=32, max_features=auto, min_samples_leaf=4, min_samples_split=5;, score=0.798 total time=   5.5s\n",
      "[CV 3/3] END bootstrap=True, max_depth=32, max_features=auto, min_samples_leaf=4, min_samples_split=5;, score=0.803 total time=   5.2s\n",
      "[CV 1/3] END bootstrap=True, max_depth=32, max_features=auto, min_samples_leaf=4, min_samples_split=10;, score=0.658 total time=   4.5s\n",
      "[CV 2/3] END bootstrap=True, max_depth=32, max_features=auto, min_samples_leaf=4, min_samples_split=10;, score=0.795 total time=   5.5s\n",
      "[CV 3/3] END bootstrap=True, max_depth=32, max_features=auto, min_samples_leaf=4, min_samples_split=10;, score=0.805 total time=   5.1s\n",
      "[CV 1/3] END bootstrap=True, max_depth=32, max_features=sqrt, min_samples_leaf=1, min_samples_split=2;, score=0.714 total time=   6.3s\n",
      "[CV 2/3] END bootstrap=True, max_depth=32, max_features=sqrt, min_samples_leaf=1, min_samples_split=2;, score=0.850 total time=   8.3s\n",
      "[CV 3/3] END bootstrap=True, max_depth=32, max_features=sqrt, min_samples_leaf=1, min_samples_split=2;, score=0.840 total time=   7.7s\n"
     ]
    },
    {
     "name": "stdout",
     "output_type": "stream",
     "text": [
      "[CV 1/3] END bootstrap=True, max_depth=32, max_features=sqrt, min_samples_leaf=1, min_samples_split=5;, score=0.730 total time=   6.0s\n",
      "[CV 2/3] END bootstrap=True, max_depth=32, max_features=sqrt, min_samples_leaf=1, min_samples_split=5;, score=0.831 total time=   7.5s\n",
      "[CV 3/3] END bootstrap=True, max_depth=32, max_features=sqrt, min_samples_leaf=1, min_samples_split=5;, score=0.848 total time=   7.1s\n",
      "[CV 1/3] END bootstrap=True, max_depth=32, max_features=sqrt, min_samples_leaf=1, min_samples_split=10;, score=0.733 total time=   5.8s\n",
      "[CV 2/3] END bootstrap=True, max_depth=32, max_features=sqrt, min_samples_leaf=1, min_samples_split=10;, score=0.837 total time=   7.2s\n",
      "[CV 3/3] END bootstrap=True, max_depth=32, max_features=sqrt, min_samples_leaf=1, min_samples_split=10;, score=0.838 total time=   6.7s\n",
      "[CV 1/3] END bootstrap=True, max_depth=32, max_features=sqrt, min_samples_leaf=2, min_samples_split=2;, score=0.679 total time=   4.7s\n",
      "[CV 2/3] END bootstrap=True, max_depth=32, max_features=sqrt, min_samples_leaf=2, min_samples_split=2;, score=0.813 total time=   5.9s\n",
      "[CV 3/3] END bootstrap=True, max_depth=32, max_features=sqrt, min_samples_leaf=2, min_samples_split=2;, score=0.817 total time=   5.5s\n",
      "[CV 1/3] END bootstrap=True, max_depth=32, max_features=sqrt, min_samples_leaf=2, min_samples_split=5;, score=0.691 total time=   4.7s\n",
      "[CV 2/3] END bootstrap=True, max_depth=32, max_features=sqrt, min_samples_leaf=2, min_samples_split=5;, score=0.787 total time=   5.8s\n",
      "[CV 3/3] END bootstrap=True, max_depth=32, max_features=sqrt, min_samples_leaf=2, min_samples_split=5;, score=0.809 total time=   5.5s\n",
      "[CV 1/3] END bootstrap=True, max_depth=32, max_features=sqrt, min_samples_leaf=2, min_samples_split=10;, score=0.678 total time=   4.7s\n",
      "[CV 2/3] END bootstrap=True, max_depth=32, max_features=sqrt, min_samples_leaf=2, min_samples_split=10;, score=0.802 total time=   5.7s\n",
      "[CV 3/3] END bootstrap=True, max_depth=32, max_features=sqrt, min_samples_leaf=2, min_samples_split=10;, score=0.805 total time=   5.4s\n",
      "[CV 1/3] END bootstrap=True, max_depth=32, max_features=sqrt, min_samples_leaf=4, min_samples_split=2;, score=0.664 total time=   4.5s\n",
      "[CV 2/3] END bootstrap=True, max_depth=32, max_features=sqrt, min_samples_leaf=4, min_samples_split=2;, score=0.793 total time=   5.5s\n",
      "[CV 3/3] END bootstrap=True, max_depth=32, max_features=sqrt, min_samples_leaf=4, min_samples_split=2;, score=0.802 total time=   5.1s\n",
      "[CV 1/3] END bootstrap=True, max_depth=32, max_features=sqrt, min_samples_leaf=4, min_samples_split=5;, score=0.666 total time=   4.5s\n",
      "[CV 2/3] END bootstrap=True, max_depth=32, max_features=sqrt, min_samples_leaf=4, min_samples_split=5;, score=0.790 total time=   5.5s\n",
      "[CV 3/3] END bootstrap=True, max_depth=32, max_features=sqrt, min_samples_leaf=4, min_samples_split=5;, score=0.800 total time=   5.2s\n",
      "[CV 1/3] END bootstrap=True, max_depth=32, max_features=sqrt, min_samples_leaf=4, min_samples_split=10;, score=0.664 total time=   4.6s\n",
      "[CV 2/3] END bootstrap=True, max_depth=32, max_features=sqrt, min_samples_leaf=4, min_samples_split=10;, score=0.792 total time=   5.5s\n",
      "[CV 3/3] END bootstrap=True, max_depth=32, max_features=sqrt, min_samples_leaf=4, min_samples_split=10;, score=0.799 total time=   5.3s\n",
      "[CV 1/3] END bootstrap=False, max_depth=6, max_features=auto, min_samples_leaf=1, min_samples_split=2;, score=0.664 total time=   1.5s\n",
      "[CV 2/3] END bootstrap=False, max_depth=6, max_features=auto, min_samples_leaf=1, min_samples_split=2;, score=0.762 total time=   1.9s\n",
      "[CV 3/3] END bootstrap=False, max_depth=6, max_features=auto, min_samples_leaf=1, min_samples_split=2;, score=0.734 total time=   1.8s\n",
      "[CV 1/3] END bootstrap=False, max_depth=6, max_features=auto, min_samples_leaf=1, min_samples_split=5;, score=0.614 total time=   1.5s\n",
      "[CV 2/3] END bootstrap=False, max_depth=6, max_features=auto, min_samples_leaf=1, min_samples_split=5;, score=0.761 total time=   1.9s\n",
      "[CV 3/3] END bootstrap=False, max_depth=6, max_features=auto, min_samples_leaf=1, min_samples_split=5;, score=0.774 total time=   1.7s\n",
      "[CV 1/3] END bootstrap=False, max_depth=6, max_features=auto, min_samples_leaf=1, min_samples_split=10;, score=0.664 total time=   1.5s\n",
      "[CV 2/3] END bootstrap=False, max_depth=6, max_features=auto, min_samples_leaf=1, min_samples_split=10;, score=0.741 total time=   1.9s\n",
      "[CV 3/3] END bootstrap=False, max_depth=6, max_features=auto, min_samples_leaf=1, min_samples_split=10;, score=0.761 total time=   1.8s\n",
      "[CV 1/3] END bootstrap=False, max_depth=6, max_features=auto, min_samples_leaf=2, min_samples_split=2;, score=0.666 total time=   1.5s\n",
      "[CV 2/3] END bootstrap=False, max_depth=6, max_features=auto, min_samples_leaf=2, min_samples_split=2;, score=0.771 total time=   1.8s\n",
      "[CV 3/3] END bootstrap=False, max_depth=6, max_features=auto, min_samples_leaf=2, min_samples_split=2;, score=0.770 total time=   1.8s\n",
      "[CV 1/3] END bootstrap=False, max_depth=6, max_features=auto, min_samples_leaf=2, min_samples_split=5;, score=0.664 total time=   1.5s\n",
      "[CV 2/3] END bootstrap=False, max_depth=6, max_features=auto, min_samples_leaf=2, min_samples_split=5;, score=0.781 total time=   1.9s\n",
      "[CV 3/3] END bootstrap=False, max_depth=6, max_features=auto, min_samples_leaf=2, min_samples_split=5;, score=0.769 total time=   1.8s\n",
      "[CV 1/3] END bootstrap=False, max_depth=6, max_features=auto, min_samples_leaf=2, min_samples_split=10;, score=0.658 total time=   1.5s\n",
      "[CV 2/3] END bootstrap=False, max_depth=6, max_features=auto, min_samples_leaf=2, min_samples_split=10;, score=0.752 total time=   1.9s\n",
      "[CV 3/3] END bootstrap=False, max_depth=6, max_features=auto, min_samples_leaf=2, min_samples_split=10;, score=0.728 total time=   1.7s\n",
      "[CV 1/3] END bootstrap=False, max_depth=6, max_features=auto, min_samples_leaf=4, min_samples_split=2;, score=0.639 total time=   1.4s\n",
      "[CV 2/3] END bootstrap=False, max_depth=6, max_features=auto, min_samples_leaf=4, min_samples_split=2;, score=0.756 total time=   1.8s\n",
      "[CV 3/3] END bootstrap=False, max_depth=6, max_features=auto, min_samples_leaf=4, min_samples_split=2;, score=0.764 total time=   1.7s\n",
      "[CV 1/3] END bootstrap=False, max_depth=6, max_features=auto, min_samples_leaf=4, min_samples_split=5;, score=0.663 total time=   1.4s\n",
      "[CV 2/3] END bootstrap=False, max_depth=6, max_features=auto, min_samples_leaf=4, min_samples_split=5;, score=0.743 total time=   1.8s\n",
      "[CV 3/3] END bootstrap=False, max_depth=6, max_features=auto, min_samples_leaf=4, min_samples_split=5;, score=0.737 total time=   1.7s\n",
      "[CV 1/3] END bootstrap=False, max_depth=6, max_features=auto, min_samples_leaf=4, min_samples_split=10;, score=0.649 total time=   1.4s\n",
      "[CV 2/3] END bootstrap=False, max_depth=6, max_features=auto, min_samples_leaf=4, min_samples_split=10;, score=0.777 total time=   1.8s\n",
      "[CV 3/3] END bootstrap=False, max_depth=6, max_features=auto, min_samples_leaf=4, min_samples_split=10;, score=0.760 total time=   1.7s\n",
      "[CV 1/3] END bootstrap=False, max_depth=6, max_features=sqrt, min_samples_leaf=1, min_samples_split=2;, score=0.664 total time=   1.5s\n",
      "[CV 2/3] END bootstrap=False, max_depth=6, max_features=sqrt, min_samples_leaf=1, min_samples_split=2;, score=0.764 total time=   1.9s\n",
      "[CV 3/3] END bootstrap=False, max_depth=6, max_features=sqrt, min_samples_leaf=1, min_samples_split=2;, score=0.769 total time=   1.8s\n",
      "[CV 1/3] END bootstrap=False, max_depth=6, max_features=sqrt, min_samples_leaf=1, min_samples_split=5;, score=0.645 total time=   1.5s\n",
      "[CV 2/3] END bootstrap=False, max_depth=6, max_features=sqrt, min_samples_leaf=1, min_samples_split=5;, score=0.774 total time=   1.8s\n",
      "[CV 3/3] END bootstrap=False, max_depth=6, max_features=sqrt, min_samples_leaf=1, min_samples_split=5;, score=0.777 total time=   1.7s\n",
      "[CV 1/3] END bootstrap=False, max_depth=6, max_features=sqrt, min_samples_leaf=1, min_samples_split=10;, score=0.661 total time=   1.5s\n",
      "[CV 2/3] END bootstrap=False, max_depth=6, max_features=sqrt, min_samples_leaf=1, min_samples_split=10;, score=0.732 total time=   1.8s\n",
      "[CV 3/3] END bootstrap=False, max_depth=6, max_features=sqrt, min_samples_leaf=1, min_samples_split=10;, score=0.740 total time=   1.7s\n",
      "[CV 1/3] END bootstrap=False, max_depth=6, max_features=sqrt, min_samples_leaf=2, min_samples_split=2;, score=0.651 total time=   1.4s\n"
     ]
    },
    {
     "name": "stdout",
     "output_type": "stream",
     "text": [
      "[CV 2/3] END bootstrap=False, max_depth=6, max_features=sqrt, min_samples_leaf=2, min_samples_split=2;, score=0.760 total time=   1.8s\n",
      "[CV 3/3] END bootstrap=False, max_depth=6, max_features=sqrt, min_samples_leaf=2, min_samples_split=2;, score=0.730 total time=   1.7s\n",
      "[CV 1/3] END bootstrap=False, max_depth=6, max_features=sqrt, min_samples_leaf=2, min_samples_split=5;, score=0.652 total time=   1.5s\n",
      "[CV 2/3] END bootstrap=False, max_depth=6, max_features=sqrt, min_samples_leaf=2, min_samples_split=5;, score=0.763 total time=   1.8s\n",
      "[CV 3/3] END bootstrap=False, max_depth=6, max_features=sqrt, min_samples_leaf=2, min_samples_split=5;, score=0.770 total time=   1.7s\n",
      "[CV 1/3] END bootstrap=False, max_depth=6, max_features=sqrt, min_samples_leaf=2, min_samples_split=10;, score=0.625 total time=   1.4s\n",
      "[CV 2/3] END bootstrap=False, max_depth=6, max_features=sqrt, min_samples_leaf=2, min_samples_split=10;, score=0.752 total time=   1.8s\n",
      "[CV 3/3] END bootstrap=False, max_depth=6, max_features=sqrt, min_samples_leaf=2, min_samples_split=10;, score=0.732 total time=   1.7s\n",
      "[CV 1/3] END bootstrap=False, max_depth=6, max_features=sqrt, min_samples_leaf=4, min_samples_split=2;, score=0.665 total time=   1.4s\n",
      "[CV 2/3] END bootstrap=False, max_depth=6, max_features=sqrt, min_samples_leaf=4, min_samples_split=2;, score=0.728 total time=   1.8s\n",
      "[CV 3/3] END bootstrap=False, max_depth=6, max_features=sqrt, min_samples_leaf=4, min_samples_split=2;, score=0.760 total time=   1.7s\n",
      "[CV 1/3] END bootstrap=False, max_depth=6, max_features=sqrt, min_samples_leaf=4, min_samples_split=5;, score=0.646 total time=   1.4s\n",
      "[CV 2/3] END bootstrap=False, max_depth=6, max_features=sqrt, min_samples_leaf=4, min_samples_split=5;, score=0.747 total time=   1.8s\n",
      "[CV 3/3] END bootstrap=False, max_depth=6, max_features=sqrt, min_samples_leaf=4, min_samples_split=5;, score=0.757 total time=   1.7s\n",
      "[CV 1/3] END bootstrap=False, max_depth=6, max_features=sqrt, min_samples_leaf=4, min_samples_split=10;, score=0.648 total time=   1.4s\n",
      "[CV 2/3] END bootstrap=False, max_depth=6, max_features=sqrt, min_samples_leaf=4, min_samples_split=10;, score=0.757 total time=   1.8s\n",
      "[CV 3/3] END bootstrap=False, max_depth=6, max_features=sqrt, min_samples_leaf=4, min_samples_split=10;, score=0.768 total time=   1.7s\n",
      "[CV 1/3] END bootstrap=False, max_depth=8, max_features=auto, min_samples_leaf=1, min_samples_split=2;, score=0.651 total time=   2.0s\n",
      "[CV 2/3] END bootstrap=False, max_depth=8, max_features=auto, min_samples_leaf=1, min_samples_split=2;, score=0.789 total time=   2.5s\n",
      "[CV 3/3] END bootstrap=False, max_depth=8, max_features=auto, min_samples_leaf=1, min_samples_split=2;, score=0.755 total time=   2.4s\n",
      "[CV 1/3] END bootstrap=False, max_depth=8, max_features=auto, min_samples_leaf=1, min_samples_split=5;, score=0.638 total time=   2.0s\n",
      "[CV 2/3] END bootstrap=False, max_depth=8, max_features=auto, min_samples_leaf=1, min_samples_split=5;, score=0.780 total time=   2.5s\n",
      "[CV 3/3] END bootstrap=False, max_depth=8, max_features=auto, min_samples_leaf=1, min_samples_split=5;, score=0.751 total time=   2.4s\n",
      "[CV 1/3] END bootstrap=False, max_depth=8, max_features=auto, min_samples_leaf=1, min_samples_split=10;, score=0.672 total time=   2.0s\n",
      "[CV 2/3] END bootstrap=False, max_depth=8, max_features=auto, min_samples_leaf=1, min_samples_split=10;, score=0.788 total time=   2.5s\n",
      "[CV 3/3] END bootstrap=False, max_depth=8, max_features=auto, min_samples_leaf=1, min_samples_split=10;, score=0.778 total time=   2.3s\n",
      "[CV 1/3] END bootstrap=False, max_depth=8, max_features=auto, min_samples_leaf=2, min_samples_split=2;, score=0.651 total time=   1.9s\n",
      "[CV 2/3] END bootstrap=False, max_depth=8, max_features=auto, min_samples_leaf=2, min_samples_split=2;, score=0.772 total time=   2.4s\n",
      "[CV 3/3] END bootstrap=False, max_depth=8, max_features=auto, min_samples_leaf=2, min_samples_split=2;, score=0.764 total time=   2.3s\n",
      "[CV 1/3] END bootstrap=False, max_depth=8, max_features=auto, min_samples_leaf=2, min_samples_split=5;, score=0.662 total time=   1.9s\n",
      "[CV 2/3] END bootstrap=False, max_depth=8, max_features=auto, min_samples_leaf=2, min_samples_split=5;, score=0.779 total time=   2.5s\n",
      "[CV 3/3] END bootstrap=False, max_depth=8, max_features=auto, min_samples_leaf=2, min_samples_split=5;, score=0.748 total time=   2.3s\n",
      "[CV 1/3] END bootstrap=False, max_depth=8, max_features=auto, min_samples_leaf=2, min_samples_split=10;, score=0.663 total time=   1.9s\n",
      "[CV 2/3] END bootstrap=False, max_depth=8, max_features=auto, min_samples_leaf=2, min_samples_split=10;, score=0.782 total time=   2.4s\n",
      "[CV 3/3] END bootstrap=False, max_depth=8, max_features=auto, min_samples_leaf=2, min_samples_split=10;, score=0.739 total time=   2.3s\n",
      "[CV 1/3] END bootstrap=False, max_depth=8, max_features=auto, min_samples_leaf=4, min_samples_split=2;, score=0.651 total time=   1.9s\n",
      "[CV 2/3] END bootstrap=False, max_depth=8, max_features=auto, min_samples_leaf=4, min_samples_split=2;, score=0.751 total time=   2.3s\n",
      "[CV 3/3] END bootstrap=False, max_depth=8, max_features=auto, min_samples_leaf=4, min_samples_split=2;, score=0.777 total time=   2.2s\n",
      "[CV 1/3] END bootstrap=False, max_depth=8, max_features=auto, min_samples_leaf=4, min_samples_split=5;, score=0.671 total time=   1.9s\n",
      "[CV 2/3] END bootstrap=False, max_depth=8, max_features=auto, min_samples_leaf=4, min_samples_split=5;, score=0.770 total time=   2.3s\n",
      "[CV 3/3] END bootstrap=False, max_depth=8, max_features=auto, min_samples_leaf=4, min_samples_split=5;, score=0.767 total time=   2.2s\n",
      "[CV 1/3] END bootstrap=False, max_depth=8, max_features=auto, min_samples_leaf=4, min_samples_split=10;, score=0.662 total time=   1.9s\n",
      "[CV 2/3] END bootstrap=False, max_depth=8, max_features=auto, min_samples_leaf=4, min_samples_split=10;, score=0.749 total time=   2.4s\n",
      "[CV 3/3] END bootstrap=False, max_depth=8, max_features=auto, min_samples_leaf=4, min_samples_split=10;, score=0.779 total time=   2.2s\n",
      "[CV 1/3] END bootstrap=False, max_depth=8, max_features=sqrt, min_samples_leaf=1, min_samples_split=2;, score=0.680 total time=   2.0s\n",
      "[CV 2/3] END bootstrap=False, max_depth=8, max_features=sqrt, min_samples_leaf=1, min_samples_split=2;, score=0.736 total time=   2.5s\n",
      "[CV 3/3] END bootstrap=False, max_depth=8, max_features=sqrt, min_samples_leaf=1, min_samples_split=2;, score=0.777 total time=   2.4s\n",
      "[CV 1/3] END bootstrap=False, max_depth=8, max_features=sqrt, min_samples_leaf=1, min_samples_split=5;, score=0.670 total time=   2.0s\n",
      "[CV 2/3] END bootstrap=False, max_depth=8, max_features=sqrt, min_samples_leaf=1, min_samples_split=5;, score=0.785 total time=   2.4s\n",
      "[CV 3/3] END bootstrap=False, max_depth=8, max_features=sqrt, min_samples_leaf=1, min_samples_split=5;, score=0.785 total time=   2.4s\n",
      "[CV 1/3] END bootstrap=False, max_depth=8, max_features=sqrt, min_samples_leaf=1, min_samples_split=10;, score=0.675 total time=   2.0s\n",
      "[CV 2/3] END bootstrap=False, max_depth=8, max_features=sqrt, min_samples_leaf=1, min_samples_split=10;, score=0.786 total time=   2.5s\n",
      "[CV 3/3] END bootstrap=False, max_depth=8, max_features=sqrt, min_samples_leaf=1, min_samples_split=10;, score=0.788 total time=   2.3s\n",
      "[CV 1/3] END bootstrap=False, max_depth=8, max_features=sqrt, min_samples_leaf=2, min_samples_split=2;, score=0.636 total time=   1.9s\n",
      "[CV 2/3] END bootstrap=False, max_depth=8, max_features=sqrt, min_samples_leaf=2, min_samples_split=2;, score=0.772 total time=   2.4s\n",
      "[CV 3/3] END bootstrap=False, max_depth=8, max_features=sqrt, min_samples_leaf=2, min_samples_split=2;, score=0.783 total time=   2.3s\n",
      "[CV 1/3] END bootstrap=False, max_depth=8, max_features=sqrt, min_samples_leaf=2, min_samples_split=5;, score=0.661 total time=   1.9s\n",
      "[CV 2/3] END bootstrap=False, max_depth=8, max_features=sqrt, min_samples_leaf=2, min_samples_split=5;, score=0.782 total time=   2.4s\n",
      "[CV 3/3] END bootstrap=False, max_depth=8, max_features=sqrt, min_samples_leaf=2, min_samples_split=5;, score=0.746 total time=   2.3s\n",
      "[CV 1/3] END bootstrap=False, max_depth=8, max_features=sqrt, min_samples_leaf=2, min_samples_split=10;, score=0.675 total time=   1.9s\n",
      "[CV 2/3] END bootstrap=False, max_depth=8, max_features=sqrt, min_samples_leaf=2, min_samples_split=10;, score=0.772 total time=   2.4s\n"
     ]
    },
    {
     "name": "stdout",
     "output_type": "stream",
     "text": [
      "[CV 3/3] END bootstrap=False, max_depth=8, max_features=sqrt, min_samples_leaf=2, min_samples_split=10;, score=0.748 total time=   2.3s\n",
      "[CV 1/3] END bootstrap=False, max_depth=8, max_features=sqrt, min_samples_leaf=4, min_samples_split=2;, score=0.655 total time=   1.9s\n",
      "[CV 2/3] END bootstrap=False, max_depth=8, max_features=sqrt, min_samples_leaf=4, min_samples_split=2;, score=0.765 total time=   2.4s\n",
      "[CV 3/3] END bootstrap=False, max_depth=8, max_features=sqrt, min_samples_leaf=4, min_samples_split=2;, score=0.780 total time=   2.2s\n",
      "[CV 1/3] END bootstrap=False, max_depth=8, max_features=sqrt, min_samples_leaf=4, min_samples_split=5;, score=0.662 total time=   1.9s\n",
      "[CV 2/3] END bootstrap=False, max_depth=8, max_features=sqrt, min_samples_leaf=4, min_samples_split=5;, score=0.760 total time=   2.3s\n",
      "[CV 3/3] END bootstrap=False, max_depth=8, max_features=sqrt, min_samples_leaf=4, min_samples_split=5;, score=0.770 total time=   2.2s\n",
      "[CV 1/3] END bootstrap=False, max_depth=8, max_features=sqrt, min_samples_leaf=4, min_samples_split=10;, score=0.654 total time=   1.9s\n",
      "[CV 2/3] END bootstrap=False, max_depth=8, max_features=sqrt, min_samples_leaf=4, min_samples_split=10;, score=0.761 total time=   2.3s\n",
      "[CV 3/3] END bootstrap=False, max_depth=8, max_features=sqrt, min_samples_leaf=4, min_samples_split=10;, score=0.772 total time=   2.2s\n",
      "[CV 1/3] END bootstrap=False, max_depth=10, max_features=auto, min_samples_leaf=1, min_samples_split=2;, score=0.674 total time=   2.5s\n",
      "[CV 2/3] END bootstrap=False, max_depth=10, max_features=auto, min_samples_leaf=1, min_samples_split=2;, score=0.788 total time=   3.3s\n",
      "[CV 3/3] END bootstrap=False, max_depth=10, max_features=auto, min_samples_leaf=1, min_samples_split=2;, score=0.790 total time=   3.0s\n",
      "[CV 1/3] END bootstrap=False, max_depth=10, max_features=auto, min_samples_leaf=1, min_samples_split=5;, score=0.694 total time=   2.5s\n",
      "[CV 2/3] END bootstrap=False, max_depth=10, max_features=auto, min_samples_leaf=1, min_samples_split=5;, score=0.791 total time=   3.2s\n",
      "[CV 3/3] END bootstrap=False, max_depth=10, max_features=auto, min_samples_leaf=1, min_samples_split=5;, score=0.791 total time=   3.0s\n",
      "[CV 1/3] END bootstrap=False, max_depth=10, max_features=auto, min_samples_leaf=1, min_samples_split=10;, score=0.689 total time=   2.5s\n",
      "[CV 2/3] END bootstrap=False, max_depth=10, max_features=auto, min_samples_leaf=1, min_samples_split=10;, score=0.785 total time=   3.1s\n",
      "[CV 3/3] END bootstrap=False, max_depth=10, max_features=auto, min_samples_leaf=1, min_samples_split=10;, score=0.798 total time=   3.0s\n",
      "[CV 1/3] END bootstrap=False, max_depth=10, max_features=auto, min_samples_leaf=2, min_samples_split=2;, score=0.635 total time=   2.4s\n",
      "[CV 2/3] END bootstrap=False, max_depth=10, max_features=auto, min_samples_leaf=2, min_samples_split=2;, score=0.775 total time=   3.0s\n",
      "[CV 3/3] END bootstrap=False, max_depth=10, max_features=auto, min_samples_leaf=2, min_samples_split=2;, score=0.791 total time=   2.9s\n",
      "[CV 1/3] END bootstrap=False, max_depth=10, max_features=auto, min_samples_leaf=2, min_samples_split=5;, score=0.660 total time=   2.4s\n",
      "[CV 2/3] END bootstrap=False, max_depth=10, max_features=auto, min_samples_leaf=2, min_samples_split=5;, score=0.785 total time=   3.1s\n",
      "[CV 3/3] END bootstrap=False, max_depth=10, max_features=auto, min_samples_leaf=2, min_samples_split=5;, score=0.791 total time=   2.9s\n",
      "[CV 1/3] END bootstrap=False, max_depth=10, max_features=auto, min_samples_leaf=2, min_samples_split=10;, score=0.647 total time=   2.4s\n",
      "[CV 2/3] END bootstrap=False, max_depth=10, max_features=auto, min_samples_leaf=2, min_samples_split=10;, score=0.779 total time=   3.0s\n",
      "[CV 3/3] END bootstrap=False, max_depth=10, max_features=auto, min_samples_leaf=2, min_samples_split=10;, score=0.782 total time=   2.8s\n",
      "[CV 1/3] END bootstrap=False, max_depth=10, max_features=auto, min_samples_leaf=4, min_samples_split=2;, score=0.628 total time=   2.4s\n",
      "[CV 2/3] END bootstrap=False, max_depth=10, max_features=auto, min_samples_leaf=4, min_samples_split=2;, score=0.773 total time=   2.9s\n",
      "[CV 3/3] END bootstrap=False, max_depth=10, max_features=auto, min_samples_leaf=4, min_samples_split=2;, score=0.785 total time=   2.7s\n",
      "[CV 1/3] END bootstrap=False, max_depth=10, max_features=auto, min_samples_leaf=4, min_samples_split=5;, score=0.660 total time=   2.3s\n",
      "[CV 2/3] END bootstrap=False, max_depth=10, max_features=auto, min_samples_leaf=4, min_samples_split=5;, score=0.765 total time=   2.9s\n",
      "[CV 3/3] END bootstrap=False, max_depth=10, max_features=auto, min_samples_leaf=4, min_samples_split=5;, score=0.778 total time=   2.8s\n",
      "[CV 1/3] END bootstrap=False, max_depth=10, max_features=auto, min_samples_leaf=4, min_samples_split=10;, score=0.629 total time=   2.4s\n",
      "[CV 2/3] END bootstrap=False, max_depth=10, max_features=auto, min_samples_leaf=4, min_samples_split=10;, score=0.777 total time=   2.9s\n",
      "[CV 3/3] END bootstrap=False, max_depth=10, max_features=auto, min_samples_leaf=4, min_samples_split=10;, score=0.781 total time=   2.8s\n",
      "[CV 1/3] END bootstrap=False, max_depth=10, max_features=sqrt, min_samples_leaf=1, min_samples_split=2;, score=0.662 total time=   2.7s\n",
      "[CV 2/3] END bootstrap=False, max_depth=10, max_features=sqrt, min_samples_leaf=1, min_samples_split=2;, score=0.787 total time=   3.4s\n",
      "[CV 3/3] END bootstrap=False, max_depth=10, max_features=sqrt, min_samples_leaf=1, min_samples_split=2;, score=0.802 total time=   3.1s\n",
      "[CV 1/3] END bootstrap=False, max_depth=10, max_features=sqrt, min_samples_leaf=1, min_samples_split=5;, score=0.660 total time=   2.5s\n",
      "[CV 2/3] END bootstrap=False, max_depth=10, max_features=sqrt, min_samples_leaf=1, min_samples_split=5;, score=0.779 total time=   3.2s\n",
      "[CV 3/3] END bootstrap=False, max_depth=10, max_features=sqrt, min_samples_leaf=1, min_samples_split=5;, score=0.791 total time=   3.0s\n",
      "[CV 1/3] END bootstrap=False, max_depth=10, max_features=sqrt, min_samples_leaf=1, min_samples_split=10;, score=0.676 total time=   2.5s\n",
      "[CV 2/3] END bootstrap=False, max_depth=10, max_features=sqrt, min_samples_leaf=1, min_samples_split=10;, score=0.786 total time=   3.1s\n",
      "[CV 3/3] END bootstrap=False, max_depth=10, max_features=sqrt, min_samples_leaf=1, min_samples_split=10;, score=0.801 total time=   2.9s\n",
      "[CV 1/3] END bootstrap=False, max_depth=10, max_features=sqrt, min_samples_leaf=2, min_samples_split=2;, score=0.672 total time=   2.4s\n",
      "[CV 2/3] END bootstrap=False, max_depth=10, max_features=sqrt, min_samples_leaf=2, min_samples_split=2;, score=0.780 total time=   3.0s\n",
      "[CV 3/3] END bootstrap=False, max_depth=10, max_features=sqrt, min_samples_leaf=2, min_samples_split=2;, score=0.800 total time=   2.9s\n",
      "[CV 1/3] END bootstrap=False, max_depth=10, max_features=sqrt, min_samples_leaf=2, min_samples_split=5;, score=0.664 total time=   2.4s\n",
      "[CV 2/3] END bootstrap=False, max_depth=10, max_features=sqrt, min_samples_leaf=2, min_samples_split=5;, score=0.778 total time=   3.0s\n",
      "[CV 3/3] END bootstrap=False, max_depth=10, max_features=sqrt, min_samples_leaf=2, min_samples_split=5;, score=0.784 total time=   2.9s\n",
      "[CV 1/3] END bootstrap=False, max_depth=10, max_features=sqrt, min_samples_leaf=2, min_samples_split=10;, score=0.656 total time=   2.4s\n",
      "[CV 2/3] END bootstrap=False, max_depth=10, max_features=sqrt, min_samples_leaf=2, min_samples_split=10;, score=0.777 total time=   3.0s\n",
      "[CV 3/3] END bootstrap=False, max_depth=10, max_features=sqrt, min_samples_leaf=2, min_samples_split=10;, score=0.792 total time=   2.8s\n",
      "[CV 1/3] END bootstrap=False, max_depth=10, max_features=sqrt, min_samples_leaf=4, min_samples_split=2;, score=0.670 total time=   2.4s\n",
      "[CV 2/3] END bootstrap=False, max_depth=10, max_features=sqrt, min_samples_leaf=4, min_samples_split=2;, score=0.783 total time=   2.9s\n",
      "[CV 3/3] END bootstrap=False, max_depth=10, max_features=sqrt, min_samples_leaf=4, min_samples_split=2;, score=0.788 total time=   2.7s\n",
      "[CV 1/3] END bootstrap=False, max_depth=10, max_features=sqrt, min_samples_leaf=4, min_samples_split=5;, score=0.663 total time=   2.4s\n",
      "[CV 2/3] END bootstrap=False, max_depth=10, max_features=sqrt, min_samples_leaf=4, min_samples_split=5;, score=0.779 total time=   2.9s\n",
      "[CV 3/3] END bootstrap=False, max_depth=10, max_features=sqrt, min_samples_leaf=4, min_samples_split=5;, score=0.784 total time=   2.7s\n"
     ]
    },
    {
     "name": "stdout",
     "output_type": "stream",
     "text": [
      "[CV 1/3] END bootstrap=False, max_depth=10, max_features=sqrt, min_samples_leaf=4, min_samples_split=10;, score=0.656 total time=   2.4s\n",
      "[CV 2/3] END bootstrap=False, max_depth=10, max_features=sqrt, min_samples_leaf=4, min_samples_split=10;, score=0.777 total time=   2.9s\n",
      "[CV 3/3] END bootstrap=False, max_depth=10, max_features=sqrt, min_samples_leaf=4, min_samples_split=10;, score=0.775 total time=   2.8s\n",
      "[CV 1/3] END bootstrap=False, max_depth=12, max_features=auto, min_samples_leaf=1, min_samples_split=2;, score=0.709 total time=   3.1s\n",
      "[CV 2/3] END bootstrap=False, max_depth=12, max_features=auto, min_samples_leaf=1, min_samples_split=2;, score=0.771 total time=   4.1s\n",
      "[CV 3/3] END bootstrap=False, max_depth=12, max_features=auto, min_samples_leaf=1, min_samples_split=2;, score=0.802 total time=   3.8s\n",
      "[CV 1/3] END bootstrap=False, max_depth=12, max_features=auto, min_samples_leaf=1, min_samples_split=5;, score=0.690 total time=   3.1s\n",
      "[CV 2/3] END bootstrap=False, max_depth=12, max_features=auto, min_samples_leaf=1, min_samples_split=5;, score=0.787 total time=   3.9s\n",
      "[CV 3/3] END bootstrap=False, max_depth=12, max_features=auto, min_samples_leaf=1, min_samples_split=5;, score=0.804 total time=   3.7s\n",
      "[CV 1/3] END bootstrap=False, max_depth=12, max_features=auto, min_samples_leaf=1, min_samples_split=10;, score=0.695 total time=   3.1s\n",
      "[CV 2/3] END bootstrap=False, max_depth=12, max_features=auto, min_samples_leaf=1, min_samples_split=10;, score=0.800 total time=   3.9s\n",
      "[CV 3/3] END bootstrap=False, max_depth=12, max_features=auto, min_samples_leaf=1, min_samples_split=10;, score=0.800 total time=   3.5s\n",
      "[CV 1/3] END bootstrap=False, max_depth=12, max_features=auto, min_samples_leaf=2, min_samples_split=2;, score=0.677 total time=   2.9s\n",
      "[CV 2/3] END bootstrap=False, max_depth=12, max_features=auto, min_samples_leaf=2, min_samples_split=2;, score=0.781 total time=   3.7s\n",
      "[CV 3/3] END bootstrap=False, max_depth=12, max_features=auto, min_samples_leaf=2, min_samples_split=2;, score=0.795 total time=   3.5s\n",
      "[CV 1/3] END bootstrap=False, max_depth=12, max_features=auto, min_samples_leaf=2, min_samples_split=5;, score=0.669 total time=   2.9s\n",
      "[CV 2/3] END bootstrap=False, max_depth=12, max_features=auto, min_samples_leaf=2, min_samples_split=5;, score=0.791 total time=   3.7s\n",
      "[CV 3/3] END bootstrap=False, max_depth=12, max_features=auto, min_samples_leaf=2, min_samples_split=5;, score=0.780 total time=   3.5s\n",
      "[CV 1/3] END bootstrap=False, max_depth=12, max_features=auto, min_samples_leaf=2, min_samples_split=10;, score=0.673 total time=   2.9s\n",
      "[CV 2/3] END bootstrap=False, max_depth=12, max_features=auto, min_samples_leaf=2, min_samples_split=10;, score=0.791 total time=   3.6s\n",
      "[CV 3/3] END bootstrap=False, max_depth=12, max_features=auto, min_samples_leaf=2, min_samples_split=10;, score=0.797 total time=   3.4s\n",
      "[CV 1/3] END bootstrap=False, max_depth=12, max_features=auto, min_samples_leaf=4, min_samples_split=2;, score=0.664 total time=   2.8s\n",
      "[CV 2/3] END bootstrap=False, max_depth=12, max_features=auto, min_samples_leaf=4, min_samples_split=2;, score=0.778 total time=   3.5s\n",
      "[CV 3/3] END bootstrap=False, max_depth=12, max_features=auto, min_samples_leaf=4, min_samples_split=2;, score=0.785 total time=   3.3s\n",
      "[CV 1/3] END bootstrap=False, max_depth=12, max_features=auto, min_samples_leaf=4, min_samples_split=5;, score=0.668 total time=   2.8s\n",
      "[CV 2/3] END bootstrap=False, max_depth=12, max_features=auto, min_samples_leaf=4, min_samples_split=5;, score=0.775 total time=   3.5s\n",
      "[CV 3/3] END bootstrap=False, max_depth=12, max_features=auto, min_samples_leaf=4, min_samples_split=5;, score=0.771 total time=   3.3s\n",
      "[CV 1/3] END bootstrap=False, max_depth=12, max_features=auto, min_samples_leaf=4, min_samples_split=10;, score=0.669 total time=   2.8s\n",
      "[CV 2/3] END bootstrap=False, max_depth=12, max_features=auto, min_samples_leaf=4, min_samples_split=10;, score=0.794 total time=   3.5s\n",
      "[CV 3/3] END bootstrap=False, max_depth=12, max_features=auto, min_samples_leaf=4, min_samples_split=10;, score=0.788 total time=   3.3s\n",
      "[CV 1/3] END bootstrap=False, max_depth=12, max_features=sqrt, min_samples_leaf=1, min_samples_split=2;, score=0.680 total time=   3.1s\n",
      "[CV 2/3] END bootstrap=False, max_depth=12, max_features=sqrt, min_samples_leaf=1, min_samples_split=2;, score=0.800 total time=   3.9s\n",
      "[CV 3/3] END bootstrap=False, max_depth=12, max_features=sqrt, min_samples_leaf=1, min_samples_split=2;, score=0.805 total time=   3.7s\n",
      "[CV 1/3] END bootstrap=False, max_depth=12, max_features=sqrt, min_samples_leaf=1, min_samples_split=5;, score=0.689 total time=   3.0s\n",
      "[CV 2/3] END bootstrap=False, max_depth=12, max_features=sqrt, min_samples_leaf=1, min_samples_split=5;, score=0.794 total time=   3.9s\n",
      "[CV 3/3] END bootstrap=False, max_depth=12, max_features=sqrt, min_samples_leaf=1, min_samples_split=5;, score=0.802 total time=   3.7s\n",
      "[CV 1/3] END bootstrap=False, max_depth=12, max_features=sqrt, min_samples_leaf=1, min_samples_split=10;, score=0.686 total time=   3.0s\n",
      "[CV 2/3] END bootstrap=False, max_depth=12, max_features=sqrt, min_samples_leaf=1, min_samples_split=10;, score=0.796 total time=   3.9s\n",
      "[CV 3/3] END bootstrap=False, max_depth=12, max_features=sqrt, min_samples_leaf=1, min_samples_split=10;, score=0.807 total time=   3.6s\n",
      "[CV 1/3] END bootstrap=False, max_depth=12, max_features=sqrt, min_samples_leaf=2, min_samples_split=2;, score=0.666 total time=   2.9s\n",
      "[CV 2/3] END bootstrap=False, max_depth=12, max_features=sqrt, min_samples_leaf=2, min_samples_split=2;, score=0.793 total time=   3.7s\n",
      "[CV 3/3] END bootstrap=False, max_depth=12, max_features=sqrt, min_samples_leaf=2, min_samples_split=2;, score=0.767 total time=   3.5s\n",
      "[CV 1/3] END bootstrap=False, max_depth=12, max_features=sqrt, min_samples_leaf=2, min_samples_split=5;, score=0.662 total time=   2.9s\n",
      "[CV 2/3] END bootstrap=False, max_depth=12, max_features=sqrt, min_samples_leaf=2, min_samples_split=5;, score=0.782 total time=   3.7s\n",
      "[CV 3/3] END bootstrap=False, max_depth=12, max_features=sqrt, min_samples_leaf=2, min_samples_split=5;, score=0.802 total time=   3.4s\n",
      "[CV 1/3] END bootstrap=False, max_depth=12, max_features=sqrt, min_samples_leaf=2, min_samples_split=10;, score=0.673 total time=   2.9s\n",
      "[CV 2/3] END bootstrap=False, max_depth=12, max_features=sqrt, min_samples_leaf=2, min_samples_split=10;, score=0.792 total time=   3.6s\n",
      "[CV 3/3] END bootstrap=False, max_depth=12, max_features=sqrt, min_samples_leaf=2, min_samples_split=10;, score=0.780 total time=   3.4s\n",
      "[CV 1/3] END bootstrap=False, max_depth=12, max_features=sqrt, min_samples_leaf=4, min_samples_split=2;, score=0.650 total time=   2.8s\n",
      "[CV 2/3] END bootstrap=False, max_depth=12, max_features=sqrt, min_samples_leaf=4, min_samples_split=2;, score=0.775 total time=   3.5s\n",
      "[CV 3/3] END bootstrap=False, max_depth=12, max_features=sqrt, min_samples_leaf=4, min_samples_split=2;, score=0.783 total time=   3.3s\n",
      "[CV 1/3] END bootstrap=False, max_depth=12, max_features=sqrt, min_samples_leaf=4, min_samples_split=5;, score=0.656 total time=   2.8s\n",
      "[CV 2/3] END bootstrap=False, max_depth=12, max_features=sqrt, min_samples_leaf=4, min_samples_split=5;, score=0.768 total time=   3.5s\n",
      "[CV 3/3] END bootstrap=False, max_depth=12, max_features=sqrt, min_samples_leaf=4, min_samples_split=5;, score=0.793 total time=   3.3s\n",
      "[CV 1/3] END bootstrap=False, max_depth=12, max_features=sqrt, min_samples_leaf=4, min_samples_split=10;, score=0.666 total time=   2.8s\n",
      "[CV 2/3] END bootstrap=False, max_depth=12, max_features=sqrt, min_samples_leaf=4, min_samples_split=10;, score=0.774 total time=   3.5s\n",
      "[CV 3/3] END bootstrap=False, max_depth=12, max_features=sqrt, min_samples_leaf=4, min_samples_split=10;, score=0.744 total time=   3.3s\n",
      "[CV 1/3] END bootstrap=False, max_depth=14, max_features=auto, min_samples_leaf=1, min_samples_split=2;, score=0.685 total time=   3.7s\n",
      "[CV 2/3] END bootstrap=False, max_depth=14, max_features=auto, min_samples_leaf=1, min_samples_split=2;, score=0.795 total time=   4.6s\n",
      "[CV 3/3] END bootstrap=False, max_depth=14, max_features=auto, min_samples_leaf=1, min_samples_split=2;, score=0.807 total time=   4.5s\n",
      "[CV 1/3] END bootstrap=False, max_depth=14, max_features=auto, min_samples_leaf=1, min_samples_split=5;, score=0.702 total time=   3.6s\n"
     ]
    },
    {
     "name": "stdout",
     "output_type": "stream",
     "text": [
      "[CV 2/3] END bootstrap=False, max_depth=14, max_features=auto, min_samples_leaf=1, min_samples_split=5;, score=0.795 total time=   4.6s\n",
      "[CV 3/3] END bootstrap=False, max_depth=14, max_features=auto, min_samples_leaf=1, min_samples_split=5;, score=0.819 total time=   4.4s\n",
      "[CV 1/3] END bootstrap=False, max_depth=14, max_features=auto, min_samples_leaf=1, min_samples_split=10;, score=0.708 total time=   3.6s\n",
      "[CV 2/3] END bootstrap=False, max_depth=14, max_features=auto, min_samples_leaf=1, min_samples_split=10;, score=0.804 total time=   4.5s\n",
      "[CV 3/3] END bootstrap=False, max_depth=14, max_features=auto, min_samples_leaf=1, min_samples_split=10;, score=0.810 total time=   4.3s\n",
      "[CV 1/3] END bootstrap=False, max_depth=14, max_features=auto, min_samples_leaf=2, min_samples_split=2;, score=0.650 total time=   3.4s\n",
      "[CV 2/3] END bootstrap=False, max_depth=14, max_features=auto, min_samples_leaf=2, min_samples_split=2;, score=0.783 total time=   4.3s\n",
      "[CV 3/3] END bootstrap=False, max_depth=14, max_features=auto, min_samples_leaf=2, min_samples_split=2;, score=0.792 total time=   4.1s\n",
      "[CV 1/3] END bootstrap=False, max_depth=14, max_features=auto, min_samples_leaf=2, min_samples_split=5;, score=0.674 total time=   3.4s\n",
      "[CV 2/3] END bootstrap=False, max_depth=14, max_features=auto, min_samples_leaf=2, min_samples_split=5;, score=0.786 total time=   4.3s\n",
      "[CV 3/3] END bootstrap=False, max_depth=14, max_features=auto, min_samples_leaf=2, min_samples_split=5;, score=0.768 total time=   4.1s\n",
      "[CV 1/3] END bootstrap=False, max_depth=14, max_features=auto, min_samples_leaf=2, min_samples_split=10;, score=0.670 total time=   3.4s\n",
      "[CV 2/3] END bootstrap=False, max_depth=14, max_features=auto, min_samples_leaf=2, min_samples_split=10;, score=0.792 total time=   4.2s\n",
      "[CV 3/3] END bootstrap=False, max_depth=14, max_features=auto, min_samples_leaf=2, min_samples_split=10;, score=0.794 total time=   3.9s\n",
      "[CV 1/3] END bootstrap=False, max_depth=14, max_features=auto, min_samples_leaf=4, min_samples_split=2;, score=0.659 total time=   3.3s\n",
      "[CV 2/3] END bootstrap=False, max_depth=14, max_features=auto, min_samples_leaf=4, min_samples_split=2;, score=0.783 total time=   4.1s\n",
      "[CV 3/3] END bootstrap=False, max_depth=14, max_features=auto, min_samples_leaf=4, min_samples_split=2;, score=0.794 total time=   3.8s\n",
      "[CV 1/3] END bootstrap=False, max_depth=14, max_features=auto, min_samples_leaf=4, min_samples_split=5;, score=0.661 total time=   3.3s\n",
      "[CV 2/3] END bootstrap=False, max_depth=14, max_features=auto, min_samples_leaf=4, min_samples_split=5;, score=0.783 total time=   4.1s\n",
      "[CV 3/3] END bootstrap=False, max_depth=14, max_features=auto, min_samples_leaf=4, min_samples_split=5;, score=0.785 total time=   3.8s\n",
      "[CV 1/3] END bootstrap=False, max_depth=14, max_features=auto, min_samples_leaf=4, min_samples_split=10;, score=0.643 total time=   3.3s\n",
      "[CV 2/3] END bootstrap=False, max_depth=14, max_features=auto, min_samples_leaf=4, min_samples_split=10;, score=0.776 total time=   4.0s\n",
      "[CV 3/3] END bootstrap=False, max_depth=14, max_features=auto, min_samples_leaf=4, min_samples_split=10;, score=0.788 total time=   3.8s\n",
      "[CV 1/3] END bootstrap=False, max_depth=14, max_features=sqrt, min_samples_leaf=1, min_samples_split=2;, score=0.689 total time=   3.7s\n",
      "[CV 2/3] END bootstrap=False, max_depth=14, max_features=sqrt, min_samples_leaf=1, min_samples_split=2;, score=0.799 total time=   4.7s\n",
      "[CV 3/3] END bootstrap=False, max_depth=14, max_features=sqrt, min_samples_leaf=1, min_samples_split=2;, score=0.807 total time=   4.5s\n",
      "[CV 1/3] END bootstrap=False, max_depth=14, max_features=sqrt, min_samples_leaf=1, min_samples_split=5;, score=0.689 total time=   3.6s\n",
      "[CV 2/3] END bootstrap=False, max_depth=14, max_features=sqrt, min_samples_leaf=1, min_samples_split=5;, score=0.805 total time=   4.7s\n",
      "[CV 3/3] END bootstrap=False, max_depth=14, max_features=sqrt, min_samples_leaf=1, min_samples_split=5;, score=0.813 total time=   4.3s\n",
      "[CV 1/3] END bootstrap=False, max_depth=14, max_features=sqrt, min_samples_leaf=1, min_samples_split=10;, score=0.683 total time=   3.6s\n",
      "[CV 2/3] END bootstrap=False, max_depth=14, max_features=sqrt, min_samples_leaf=1, min_samples_split=10;, score=0.801 total time=   4.5s\n",
      "[CV 3/3] END bootstrap=False, max_depth=14, max_features=sqrt, min_samples_leaf=1, min_samples_split=10;, score=0.806 total time=   4.2s\n",
      "[CV 1/3] END bootstrap=False, max_depth=14, max_features=sqrt, min_samples_leaf=2, min_samples_split=2;, score=0.679 total time=   3.4s\n",
      "[CV 2/3] END bootstrap=False, max_depth=14, max_features=sqrt, min_samples_leaf=2, min_samples_split=2;, score=0.802 total time=   4.3s\n",
      "[CV 3/3] END bootstrap=False, max_depth=14, max_features=sqrt, min_samples_leaf=2, min_samples_split=2;, score=0.806 total time=   4.1s\n",
      "[CV 1/3] END bootstrap=False, max_depth=14, max_features=sqrt, min_samples_leaf=2, min_samples_split=5;, score=0.680 total time=   3.4s\n",
      "[CV 2/3] END bootstrap=False, max_depth=14, max_features=sqrt, min_samples_leaf=2, min_samples_split=5;, score=0.790 total time=   4.4s\n",
      "[CV 3/3] END bootstrap=False, max_depth=14, max_features=sqrt, min_samples_leaf=2, min_samples_split=5;, score=0.795 total time=   4.1s\n",
      "[CV 1/3] END bootstrap=False, max_depth=14, max_features=sqrt, min_samples_leaf=2, min_samples_split=10;, score=0.651 total time=   3.4s\n",
      "[CV 2/3] END bootstrap=False, max_depth=14, max_features=sqrt, min_samples_leaf=2, min_samples_split=10;, score=0.784 total time=   4.3s\n",
      "[CV 3/3] END bootstrap=False, max_depth=14, max_features=sqrt, min_samples_leaf=2, min_samples_split=10;, score=0.805 total time=   4.0s\n",
      "[CV 1/3] END bootstrap=False, max_depth=14, max_features=sqrt, min_samples_leaf=4, min_samples_split=2;, score=0.663 total time=   3.3s\n",
      "[CV 2/3] END bootstrap=False, max_depth=14, max_features=sqrt, min_samples_leaf=4, min_samples_split=2;, score=0.782 total time=   4.1s\n",
      "[CV 3/3] END bootstrap=False, max_depth=14, max_features=sqrt, min_samples_leaf=4, min_samples_split=2;, score=0.797 total time=   3.8s\n",
      "[CV 1/3] END bootstrap=False, max_depth=14, max_features=sqrt, min_samples_leaf=4, min_samples_split=5;, score=0.655 total time=   3.3s\n",
      "[CV 2/3] END bootstrap=False, max_depth=14, max_features=sqrt, min_samples_leaf=4, min_samples_split=5;, score=0.788 total time=   4.1s\n",
      "[CV 3/3] END bootstrap=False, max_depth=14, max_features=sqrt, min_samples_leaf=4, min_samples_split=5;, score=0.789 total time=   3.8s\n",
      "[CV 1/3] END bootstrap=False, max_depth=14, max_features=sqrt, min_samples_leaf=4, min_samples_split=10;, score=0.666 total time=   3.3s\n",
      "[CV 2/3] END bootstrap=False, max_depth=14, max_features=sqrt, min_samples_leaf=4, min_samples_split=10;, score=0.778 total time=   4.0s\n",
      "[CV 3/3] END bootstrap=False, max_depth=14, max_features=sqrt, min_samples_leaf=4, min_samples_split=10;, score=0.783 total time=   3.8s\n",
      "[CV 1/3] END bootstrap=False, max_depth=16, max_features=auto, min_samples_leaf=1, min_samples_split=2;, score=0.710 total time=   4.3s\n",
      "[CV 2/3] END bootstrap=False, max_depth=16, max_features=auto, min_samples_leaf=1, min_samples_split=2;, score=0.806 total time=   5.5s\n",
      "[CV 3/3] END bootstrap=False, max_depth=16, max_features=auto, min_samples_leaf=1, min_samples_split=2;, score=0.815 total time=   5.2s\n",
      "[CV 1/3] END bootstrap=False, max_depth=16, max_features=auto, min_samples_leaf=1, min_samples_split=5;, score=0.710 total time=   4.2s\n",
      "[CV 2/3] END bootstrap=False, max_depth=16, max_features=auto, min_samples_leaf=1, min_samples_split=5;, score=0.815 total time=   5.4s\n",
      "[CV 3/3] END bootstrap=False, max_depth=16, max_features=auto, min_samples_leaf=1, min_samples_split=5;, score=0.819 total time=   5.0s\n",
      "[CV 1/3] END bootstrap=False, max_depth=16, max_features=auto, min_samples_leaf=1, min_samples_split=10;, score=0.696 total time=   4.2s\n",
      "[CV 2/3] END bootstrap=False, max_depth=16, max_features=auto, min_samples_leaf=1, min_samples_split=10;, score=0.818 total time=   5.2s\n",
      "[CV 3/3] END bootstrap=False, max_depth=16, max_features=auto, min_samples_leaf=1, min_samples_split=10;, score=0.798 total time=   4.8s\n",
      "[CV 1/3] END bootstrap=False, max_depth=16, max_features=auto, min_samples_leaf=2, min_samples_split=2;, score=0.687 total time=   3.9s\n",
      "[CV 2/3] END bootstrap=False, max_depth=16, max_features=auto, min_samples_leaf=2, min_samples_split=2;, score=0.801 total time=   4.9s\n"
     ]
    },
    {
     "name": "stdout",
     "output_type": "stream",
     "text": [
      "[CV 3/3] END bootstrap=False, max_depth=16, max_features=auto, min_samples_leaf=2, min_samples_split=2;, score=0.807 total time=   4.6s\n",
      "[CV 1/3] END bootstrap=False, max_depth=16, max_features=auto, min_samples_leaf=2, min_samples_split=5;, score=0.684 total time=   3.8s\n",
      "[CV 2/3] END bootstrap=False, max_depth=16, max_features=auto, min_samples_leaf=2, min_samples_split=5;, score=0.804 total time=   4.9s\n",
      "[CV 3/3] END bootstrap=False, max_depth=16, max_features=auto, min_samples_leaf=2, min_samples_split=5;, score=0.812 total time=   4.6s\n",
      "[CV 1/3] END bootstrap=False, max_depth=16, max_features=auto, min_samples_leaf=2, min_samples_split=10;, score=0.669 total time=   4.0s\n",
      "[CV 2/3] END bootstrap=False, max_depth=16, max_features=auto, min_samples_leaf=2, min_samples_split=10;, score=0.789 total time=   5.0s\n",
      "[CV 3/3] END bootstrap=False, max_depth=16, max_features=auto, min_samples_leaf=2, min_samples_split=10;, score=0.788 total time=   4.6s\n",
      "[CV 1/3] END bootstrap=False, max_depth=16, max_features=auto, min_samples_leaf=4, min_samples_split=2;, score=0.673 total time=   3.8s\n",
      "[CV 2/3] END bootstrap=False, max_depth=16, max_features=auto, min_samples_leaf=4, min_samples_split=2;, score=0.790 total time=   4.6s\n",
      "[CV 3/3] END bootstrap=False, max_depth=16, max_features=auto, min_samples_leaf=4, min_samples_split=2;, score=0.790 total time=   4.4s\n",
      "[CV 1/3] END bootstrap=False, max_depth=16, max_features=auto, min_samples_leaf=4, min_samples_split=5;, score=0.642 total time=   3.8s\n",
      "[CV 2/3] END bootstrap=False, max_depth=16, max_features=auto, min_samples_leaf=4, min_samples_split=5;, score=0.779 total time=   4.8s\n",
      "[CV 3/3] END bootstrap=False, max_depth=16, max_features=auto, min_samples_leaf=4, min_samples_split=5;, score=0.790 total time=   4.5s\n",
      "[CV 1/3] END bootstrap=False, max_depth=16, max_features=auto, min_samples_leaf=4, min_samples_split=10;, score=0.674 total time=   3.7s\n",
      "[CV 2/3] END bootstrap=False, max_depth=16, max_features=auto, min_samples_leaf=4, min_samples_split=10;, score=0.780 total time=   4.6s\n",
      "[CV 3/3] END bootstrap=False, max_depth=16, max_features=auto, min_samples_leaf=4, min_samples_split=10;, score=0.796 total time=   4.3s\n",
      "[CV 1/3] END bootstrap=False, max_depth=16, max_features=sqrt, min_samples_leaf=1, min_samples_split=2;, score=0.707 total time=   4.3s\n",
      "[CV 2/3] END bootstrap=False, max_depth=16, max_features=sqrt, min_samples_leaf=1, min_samples_split=2;, score=0.805 total time=   5.6s\n",
      "[CV 3/3] END bootstrap=False, max_depth=16, max_features=sqrt, min_samples_leaf=1, min_samples_split=2;, score=0.817 total time=   5.2s\n",
      "[CV 1/3] END bootstrap=False, max_depth=16, max_features=sqrt, min_samples_leaf=1, min_samples_split=5;, score=0.696 total time=   4.2s\n",
      "[CV 2/3] END bootstrap=False, max_depth=16, max_features=sqrt, min_samples_leaf=1, min_samples_split=5;, score=0.801 total time=   5.3s\n",
      "[CV 3/3] END bootstrap=False, max_depth=16, max_features=sqrt, min_samples_leaf=1, min_samples_split=5;, score=0.820 total time=   5.1s\n",
      "[CV 1/3] END bootstrap=False, max_depth=16, max_features=sqrt, min_samples_leaf=1, min_samples_split=10;, score=0.695 total time=   4.2s\n",
      "[CV 2/3] END bootstrap=False, max_depth=16, max_features=sqrt, min_samples_leaf=1, min_samples_split=10;, score=0.801 total time=   5.2s\n",
      "[CV 3/3] END bootstrap=False, max_depth=16, max_features=sqrt, min_samples_leaf=1, min_samples_split=10;, score=0.814 total time=   4.9s\n",
      "[CV 1/3] END bootstrap=False, max_depth=16, max_features=sqrt, min_samples_leaf=2, min_samples_split=2;, score=0.684 total time=   3.9s\n",
      "[CV 2/3] END bootstrap=False, max_depth=16, max_features=sqrt, min_samples_leaf=2, min_samples_split=2;, score=0.775 total time=   4.9s\n",
      "[CV 3/3] END bootstrap=False, max_depth=16, max_features=sqrt, min_samples_leaf=2, min_samples_split=2;, score=0.809 total time=   4.6s\n",
      "[CV 1/3] END bootstrap=False, max_depth=16, max_features=sqrt, min_samples_leaf=2, min_samples_split=5;, score=0.669 total time=   3.9s\n",
      "[CV 2/3] END bootstrap=False, max_depth=16, max_features=sqrt, min_samples_leaf=2, min_samples_split=5;, score=0.795 total time=   4.8s\n",
      "[CV 3/3] END bootstrap=False, max_depth=16, max_features=sqrt, min_samples_leaf=2, min_samples_split=5;, score=0.771 total time=   4.6s\n",
      "[CV 1/3] END bootstrap=False, max_depth=16, max_features=sqrt, min_samples_leaf=2, min_samples_split=10;, score=0.679 total time=   3.9s\n",
      "[CV 2/3] END bootstrap=False, max_depth=16, max_features=sqrt, min_samples_leaf=2, min_samples_split=10;, score=0.781 total time=   4.8s\n",
      "[CV 3/3] END bootstrap=False, max_depth=16, max_features=sqrt, min_samples_leaf=2, min_samples_split=10;, score=0.802 total time=   4.5s\n",
      "[CV 1/3] END bootstrap=False, max_depth=16, max_features=sqrt, min_samples_leaf=4, min_samples_split=2;, score=0.671 total time=   3.7s\n",
      "[CV 2/3] END bootstrap=False, max_depth=16, max_features=sqrt, min_samples_leaf=4, min_samples_split=2;, score=0.782 total time=   4.6s\n",
      "[CV 3/3] END bootstrap=False, max_depth=16, max_features=sqrt, min_samples_leaf=4, min_samples_split=2;, score=0.794 total time=   4.3s\n",
      "[CV 1/3] END bootstrap=False, max_depth=16, max_features=sqrt, min_samples_leaf=4, min_samples_split=5;, score=0.664 total time=   3.7s\n",
      "[CV 2/3] END bootstrap=False, max_depth=16, max_features=sqrt, min_samples_leaf=4, min_samples_split=5;, score=0.784 total time=   4.6s\n",
      "[CV 3/3] END bootstrap=False, max_depth=16, max_features=sqrt, min_samples_leaf=4, min_samples_split=5;, score=0.787 total time=   4.3s\n",
      "[CV 1/3] END bootstrap=False, max_depth=16, max_features=sqrt, min_samples_leaf=4, min_samples_split=10;, score=0.673 total time=   3.7s\n",
      "[CV 2/3] END bootstrap=False, max_depth=16, max_features=sqrt, min_samples_leaf=4, min_samples_split=10;, score=0.786 total time=   4.6s\n",
      "[CV 3/3] END bootstrap=False, max_depth=16, max_features=sqrt, min_samples_leaf=4, min_samples_split=10;, score=0.792 total time=   4.3s\n",
      "[CV 1/3] END bootstrap=False, max_depth=18, max_features=auto, min_samples_leaf=1, min_samples_split=2;, score=0.715 total time=   4.9s\n",
      "[CV 2/3] END bootstrap=False, max_depth=18, max_features=auto, min_samples_leaf=1, min_samples_split=2;, score=0.827 total time=   6.3s\n",
      "[CV 3/3] END bootstrap=False, max_depth=18, max_features=auto, min_samples_leaf=1, min_samples_split=2;, score=0.828 total time=   5.8s\n",
      "[CV 1/3] END bootstrap=False, max_depth=18, max_features=auto, min_samples_leaf=1, min_samples_split=5;, score=0.713 total time=   4.8s\n",
      "[CV 2/3] END bootstrap=False, max_depth=18, max_features=auto, min_samples_leaf=1, min_samples_split=5;, score=0.815 total time=   6.1s\n",
      "[CV 3/3] END bootstrap=False, max_depth=18, max_features=auto, min_samples_leaf=1, min_samples_split=5;, score=0.829 total time=   5.8s\n",
      "[CV 1/3] END bootstrap=False, max_depth=18, max_features=auto, min_samples_leaf=1, min_samples_split=10;, score=0.725 total time=   4.7s\n",
      "[CV 2/3] END bootstrap=False, max_depth=18, max_features=auto, min_samples_leaf=1, min_samples_split=10;, score=0.809 total time=   5.9s\n",
      "[CV 3/3] END bootstrap=False, max_depth=18, max_features=auto, min_samples_leaf=1, min_samples_split=10;, score=0.827 total time=   5.5s\n",
      "[CV 1/3] END bootstrap=False, max_depth=18, max_features=auto, min_samples_leaf=2, min_samples_split=2;, score=0.681 total time=   4.4s\n",
      "[CV 2/3] END bootstrap=False, max_depth=18, max_features=auto, min_samples_leaf=2, min_samples_split=2;, score=0.769 total time=   5.5s\n",
      "[CV 3/3] END bootstrap=False, max_depth=18, max_features=auto, min_samples_leaf=2, min_samples_split=2;, score=0.814 total time=   5.2s\n",
      "[CV 1/3] END bootstrap=False, max_depth=18, max_features=auto, min_samples_leaf=2, min_samples_split=5;, score=0.680 total time=   4.3s\n",
      "[CV 2/3] END bootstrap=False, max_depth=18, max_features=auto, min_samples_leaf=2, min_samples_split=5;, score=0.802 total time=   5.5s\n",
      "[CV 3/3] END bootstrap=False, max_depth=18, max_features=auto, min_samples_leaf=2, min_samples_split=5;, score=0.811 total time=   5.2s\n",
      "[CV 1/3] END bootstrap=False, max_depth=18, max_features=auto, min_samples_leaf=2, min_samples_split=10;, score=0.662 total time=   4.3s\n",
      "[CV 2/3] END bootstrap=False, max_depth=18, max_features=auto, min_samples_leaf=2, min_samples_split=10;, score=0.802 total time=   5.4s\n",
      "[CV 3/3] END bootstrap=False, max_depth=18, max_features=auto, min_samples_leaf=2, min_samples_split=10;, score=0.801 total time=   5.1s\n"
     ]
    },
    {
     "name": "stdout",
     "output_type": "stream",
     "text": [
      "[CV 1/3] END bootstrap=False, max_depth=18, max_features=auto, min_samples_leaf=4, min_samples_split=2;, score=0.674 total time=   4.2s\n",
      "[CV 2/3] END bootstrap=False, max_depth=18, max_features=auto, min_samples_leaf=4, min_samples_split=2;, score=0.794 total time=   5.1s\n",
      "[CV 3/3] END bootstrap=False, max_depth=18, max_features=auto, min_samples_leaf=4, min_samples_split=2;, score=0.794 total time=   4.9s\n",
      "[CV 1/3] END bootstrap=False, max_depth=18, max_features=auto, min_samples_leaf=4, min_samples_split=5;, score=0.679 total time=   4.2s\n",
      "[CV 2/3] END bootstrap=False, max_depth=18, max_features=auto, min_samples_leaf=4, min_samples_split=5;, score=0.784 total time=   5.1s\n",
      "[CV 3/3] END bootstrap=False, max_depth=18, max_features=auto, min_samples_leaf=4, min_samples_split=5;, score=0.797 total time=   4.8s\n",
      "[CV 1/3] END bootstrap=False, max_depth=18, max_features=auto, min_samples_leaf=4, min_samples_split=10;, score=0.637 total time=   4.2s\n",
      "[CV 2/3] END bootstrap=False, max_depth=18, max_features=auto, min_samples_leaf=4, min_samples_split=10;, score=0.783 total time=   5.1s\n",
      "[CV 3/3] END bootstrap=False, max_depth=18, max_features=auto, min_samples_leaf=4, min_samples_split=10;, score=0.765 total time=   4.8s\n",
      "[CV 1/3] END bootstrap=False, max_depth=18, max_features=sqrt, min_samples_leaf=1, min_samples_split=2;, score=0.718 total time=   4.8s\n",
      "[CV 2/3] END bootstrap=False, max_depth=18, max_features=sqrt, min_samples_leaf=1, min_samples_split=2;, score=0.820 total time=   6.2s\n",
      "[CV 3/3] END bootstrap=False, max_depth=18, max_features=sqrt, min_samples_leaf=1, min_samples_split=2;, score=0.827 total time=   6.0s\n",
      "[CV 1/3] END bootstrap=False, max_depth=18, max_features=sqrt, min_samples_leaf=1, min_samples_split=5;, score=0.710 total time=   4.9s\n",
      "[CV 2/3] END bootstrap=False, max_depth=18, max_features=sqrt, min_samples_leaf=1, min_samples_split=5;, score=0.826 total time=   6.2s\n",
      "[CV 3/3] END bootstrap=False, max_depth=18, max_features=sqrt, min_samples_leaf=1, min_samples_split=5;, score=0.824 total time=   5.9s\n",
      "[CV 1/3] END bootstrap=False, max_depth=18, max_features=sqrt, min_samples_leaf=1, min_samples_split=10;, score=0.712 total time=   4.7s\n",
      "[CV 2/3] END bootstrap=False, max_depth=18, max_features=sqrt, min_samples_leaf=1, min_samples_split=10;, score=0.819 total time=   5.9s\n",
      "[CV 3/3] END bootstrap=False, max_depth=18, max_features=sqrt, min_samples_leaf=1, min_samples_split=10;, score=0.826 total time=   5.6s\n",
      "[CV 1/3] END bootstrap=False, max_depth=18, max_features=sqrt, min_samples_leaf=2, min_samples_split=2;, score=0.682 total time=   4.4s\n",
      "[CV 2/3] END bootstrap=False, max_depth=18, max_features=sqrt, min_samples_leaf=2, min_samples_split=2;, score=0.807 total time=   5.5s\n",
      "[CV 3/3] END bootstrap=False, max_depth=18, max_features=sqrt, min_samples_leaf=2, min_samples_split=2;, score=0.806 total time=   5.2s\n",
      "[CV 1/3] END bootstrap=False, max_depth=18, max_features=sqrt, min_samples_leaf=2, min_samples_split=5;, score=0.686 total time=   4.3s\n",
      "[CV 2/3] END bootstrap=False, max_depth=18, max_features=sqrt, min_samples_leaf=2, min_samples_split=5;, score=0.800 total time=   5.5s\n",
      "[CV 3/3] END bootstrap=False, max_depth=18, max_features=sqrt, min_samples_leaf=2, min_samples_split=5;, score=0.810 total time=   5.2s\n",
      "[CV 1/3] END bootstrap=False, max_depth=18, max_features=sqrt, min_samples_leaf=2, min_samples_split=10;, score=0.687 total time=   4.3s\n",
      "[CV 2/3] END bootstrap=False, max_depth=18, max_features=sqrt, min_samples_leaf=2, min_samples_split=10;, score=0.805 total time=   5.5s\n",
      "[CV 3/3] END bootstrap=False, max_depth=18, max_features=sqrt, min_samples_leaf=2, min_samples_split=10;, score=0.809 total time=   5.1s\n",
      "[CV 1/3] END bootstrap=False, max_depth=18, max_features=sqrt, min_samples_leaf=4, min_samples_split=2;, score=0.642 total time=   4.2s\n",
      "[CV 2/3] END bootstrap=False, max_depth=18, max_features=sqrt, min_samples_leaf=4, min_samples_split=2;, score=0.783 total time=   5.2s\n",
      "[CV 3/3] END bootstrap=False, max_depth=18, max_features=sqrt, min_samples_leaf=4, min_samples_split=2;, score=0.757 total time=   4.9s\n",
      "[CV 1/3] END bootstrap=False, max_depth=18, max_features=sqrt, min_samples_leaf=4, min_samples_split=5;, score=0.630 total time=   4.2s\n",
      "[CV 2/3] END bootstrap=False, max_depth=18, max_features=sqrt, min_samples_leaf=4, min_samples_split=5;, score=0.792 total time=   5.2s\n",
      "[CV 3/3] END bootstrap=False, max_depth=18, max_features=sqrt, min_samples_leaf=4, min_samples_split=5;, score=0.797 total time=   4.8s\n",
      "[CV 1/3] END bootstrap=False, max_depth=18, max_features=sqrt, min_samples_leaf=4, min_samples_split=10;, score=0.644 total time=   4.2s\n",
      "[CV 2/3] END bootstrap=False, max_depth=18, max_features=sqrt, min_samples_leaf=4, min_samples_split=10;, score=0.782 total time=   5.2s\n",
      "[CV 3/3] END bootstrap=False, max_depth=18, max_features=sqrt, min_samples_leaf=4, min_samples_split=10;, score=0.783 total time=   4.8s\n",
      "[CV 1/3] END bootstrap=False, max_depth=20, max_features=auto, min_samples_leaf=1, min_samples_split=2;, score=0.738 total time=   5.4s\n",
      "[CV 2/3] END bootstrap=False, max_depth=20, max_features=auto, min_samples_leaf=1, min_samples_split=2;, score=0.814 total time=   7.1s\n",
      "[CV 3/3] END bootstrap=False, max_depth=20, max_features=auto, min_samples_leaf=1, min_samples_split=2;, score=0.826 total time=   6.8s\n",
      "[CV 1/3] END bootstrap=False, max_depth=20, max_features=auto, min_samples_leaf=1, min_samples_split=5;, score=0.724 total time=   5.4s\n",
      "[CV 2/3] END bootstrap=False, max_depth=20, max_features=auto, min_samples_leaf=1, min_samples_split=5;, score=0.820 total time=   6.9s\n",
      "[CV 3/3] END bootstrap=False, max_depth=20, max_features=auto, min_samples_leaf=1, min_samples_split=5;, score=0.833 total time=   6.4s\n",
      "[CV 1/3] END bootstrap=False, max_depth=20, max_features=auto, min_samples_leaf=1, min_samples_split=10;, score=0.688 total time=   5.3s\n",
      "[CV 2/3] END bootstrap=False, max_depth=20, max_features=auto, min_samples_leaf=1, min_samples_split=10;, score=0.831 total time=   6.6s\n",
      "[CV 3/3] END bootstrap=False, max_depth=20, max_features=auto, min_samples_leaf=1, min_samples_split=10;, score=0.836 total time=   6.6s\n",
      "[CV 1/3] END bootstrap=False, max_depth=20, max_features=auto, min_samples_leaf=2, min_samples_split=2;, score=0.677 total time=   4.8s\n",
      "[CV 2/3] END bootstrap=False, max_depth=20, max_features=auto, min_samples_leaf=2, min_samples_split=2;, score=0.813 total time=   6.1s\n",
      "[CV 3/3] END bootstrap=False, max_depth=20, max_features=auto, min_samples_leaf=2, min_samples_split=2;, score=0.795 total time=   5.7s\n",
      "[CV 1/3] END bootstrap=False, max_depth=20, max_features=auto, min_samples_leaf=2, min_samples_split=5;, score=0.689 total time=   4.8s\n",
      "[CV 2/3] END bootstrap=False, max_depth=20, max_features=auto, min_samples_leaf=2, min_samples_split=5;, score=0.800 total time=   6.1s\n",
      "[CV 3/3] END bootstrap=False, max_depth=20, max_features=auto, min_samples_leaf=2, min_samples_split=5;, score=0.814 total time=   5.8s\n",
      "[CV 1/3] END bootstrap=False, max_depth=20, max_features=auto, min_samples_leaf=2, min_samples_split=10;, score=0.685 total time=   4.8s\n",
      "[CV 2/3] END bootstrap=False, max_depth=20, max_features=auto, min_samples_leaf=2, min_samples_split=10;, score=0.808 total time=   6.0s\n",
      "[CV 3/3] END bootstrap=False, max_depth=20, max_features=auto, min_samples_leaf=2, min_samples_split=10;, score=0.806 total time=   5.6s\n",
      "[CV 1/3] END bootstrap=False, max_depth=20, max_features=auto, min_samples_leaf=4, min_samples_split=2;, score=0.660 total time=   4.6s\n",
      "[CV 2/3] END bootstrap=False, max_depth=20, max_features=auto, min_samples_leaf=4, min_samples_split=2;, score=0.792 total time=   5.7s\n",
      "[CV 3/3] END bootstrap=False, max_depth=20, max_features=auto, min_samples_leaf=4, min_samples_split=2;, score=0.805 total time=   5.4s\n",
      "[CV 1/3] END bootstrap=False, max_depth=20, max_features=auto, min_samples_leaf=4, min_samples_split=5;, score=0.637 total time=   4.6s\n",
      "[CV 2/3] END bootstrap=False, max_depth=20, max_features=auto, min_samples_leaf=4, min_samples_split=5;, score=0.780 total time=   5.7s\n",
      "[CV 3/3] END bootstrap=False, max_depth=20, max_features=auto, min_samples_leaf=4, min_samples_split=5;, score=0.800 total time=   5.3s\n",
      "[CV 1/3] END bootstrap=False, max_depth=20, max_features=auto, min_samples_leaf=4, min_samples_split=10;, score=0.668 total time=   4.6s\n"
     ]
    },
    {
     "name": "stdout",
     "output_type": "stream",
     "text": [
      "[CV 2/3] END bootstrap=False, max_depth=20, max_features=auto, min_samples_leaf=4, min_samples_split=10;, score=0.782 total time=   5.7s\n",
      "[CV 3/3] END bootstrap=False, max_depth=20, max_features=auto, min_samples_leaf=4, min_samples_split=10;, score=0.798 total time=   5.3s\n",
      "[CV 1/3] END bootstrap=False, max_depth=20, max_features=sqrt, min_samples_leaf=1, min_samples_split=2;, score=0.720 total time=   5.5s\n",
      "[CV 2/3] END bootstrap=False, max_depth=20, max_features=sqrt, min_samples_leaf=1, min_samples_split=2;, score=0.823 total time=   7.1s\n",
      "[CV 3/3] END bootstrap=False, max_depth=20, max_features=sqrt, min_samples_leaf=1, min_samples_split=2;, score=0.821 total time=   6.8s\n",
      "[CV 1/3] END bootstrap=False, max_depth=20, max_features=sqrt, min_samples_leaf=1, min_samples_split=5;, score=0.716 total time=   5.3s\n",
      "[CV 2/3] END bootstrap=False, max_depth=20, max_features=sqrt, min_samples_leaf=1, min_samples_split=5;, score=0.828 total time=   6.9s\n",
      "[CV 3/3] END bootstrap=False, max_depth=20, max_features=sqrt, min_samples_leaf=1, min_samples_split=5;, score=0.837 total time=   6.4s\n",
      "[CV 1/3] END bootstrap=False, max_depth=20, max_features=sqrt, min_samples_leaf=1, min_samples_split=10;, score=0.713 total time=   5.3s\n",
      "[CV 2/3] END bootstrap=False, max_depth=20, max_features=sqrt, min_samples_leaf=1, min_samples_split=10;, score=0.819 total time=   6.7s\n",
      "[CV 3/3] END bootstrap=False, max_depth=20, max_features=sqrt, min_samples_leaf=1, min_samples_split=10;, score=0.824 total time=   6.3s\n",
      "[CV 1/3] END bootstrap=False, max_depth=20, max_features=sqrt, min_samples_leaf=2, min_samples_split=2;, score=0.674 total time=   4.8s\n",
      "[CV 2/3] END bootstrap=False, max_depth=20, max_features=sqrt, min_samples_leaf=2, min_samples_split=2;, score=0.805 total time=   6.2s\n",
      "[CV 3/3] END bootstrap=False, max_depth=20, max_features=sqrt, min_samples_leaf=2, min_samples_split=2;, score=0.805 total time=   5.7s\n",
      "[CV 1/3] END bootstrap=False, max_depth=20, max_features=sqrt, min_samples_leaf=2, min_samples_split=5;, score=0.693 total time=   4.8s\n",
      "[CV 2/3] END bootstrap=False, max_depth=20, max_features=sqrt, min_samples_leaf=2, min_samples_split=5;, score=0.804 total time=   6.1s\n",
      "[CV 3/3] END bootstrap=False, max_depth=20, max_features=sqrt, min_samples_leaf=2, min_samples_split=5;, score=0.820 total time=   5.7s\n",
      "[CV 1/3] END bootstrap=False, max_depth=20, max_features=sqrt, min_samples_leaf=2, min_samples_split=10;, score=0.680 total time=   4.8s\n",
      "[CV 2/3] END bootstrap=False, max_depth=20, max_features=sqrt, min_samples_leaf=2, min_samples_split=10;, score=0.803 total time=   6.1s\n",
      "[CV 3/3] END bootstrap=False, max_depth=20, max_features=sqrt, min_samples_leaf=2, min_samples_split=10;, score=0.811 total time=   5.6s\n",
      "[CV 1/3] END bootstrap=False, max_depth=20, max_features=sqrt, min_samples_leaf=4, min_samples_split=2;, score=0.665 total time=   4.6s\n",
      "[CV 2/3] END bootstrap=False, max_depth=20, max_features=sqrt, min_samples_leaf=4, min_samples_split=2;, score=0.782 total time=   5.7s\n",
      "[CV 3/3] END bootstrap=False, max_depth=20, max_features=sqrt, min_samples_leaf=4, min_samples_split=2;, score=0.798 total time=   5.3s\n",
      "[CV 1/3] END bootstrap=False, max_depth=20, max_features=sqrt, min_samples_leaf=4, min_samples_split=5;, score=0.666 total time=   4.6s\n",
      "[CV 2/3] END bootstrap=False, max_depth=20, max_features=sqrt, min_samples_leaf=4, min_samples_split=5;, score=0.797 total time=   5.7s\n",
      "[CV 3/3] END bootstrap=False, max_depth=20, max_features=sqrt, min_samples_leaf=4, min_samples_split=5;, score=0.797 total time=   5.4s\n",
      "[CV 1/3] END bootstrap=False, max_depth=20, max_features=sqrt, min_samples_leaf=4, min_samples_split=10;, score=0.671 total time=   4.6s\n",
      "[CV 2/3] END bootstrap=False, max_depth=20, max_features=sqrt, min_samples_leaf=4, min_samples_split=10;, score=0.793 total time=   5.7s\n",
      "[CV 3/3] END bootstrap=False, max_depth=20, max_features=sqrt, min_samples_leaf=4, min_samples_split=10;, score=0.801 total time=   5.4s\n",
      "[CV 1/3] END bootstrap=False, max_depth=22, max_features=auto, min_samples_leaf=1, min_samples_split=2;, score=0.723 total time=   6.1s\n",
      "[CV 2/3] END bootstrap=False, max_depth=22, max_features=auto, min_samples_leaf=1, min_samples_split=2;, score=0.824 total time=   8.1s\n",
      "[CV 3/3] END bootstrap=False, max_depth=22, max_features=auto, min_samples_leaf=1, min_samples_split=2;, score=0.833 total time=   7.7s\n",
      "[CV 1/3] END bootstrap=False, max_depth=22, max_features=auto, min_samples_leaf=1, min_samples_split=5;, score=0.722 total time=   6.0s\n",
      "[CV 2/3] END bootstrap=False, max_depth=22, max_features=auto, min_samples_leaf=1, min_samples_split=5;, score=0.813 total time=   7.6s\n",
      "[CV 3/3] END bootstrap=False, max_depth=22, max_features=auto, min_samples_leaf=1, min_samples_split=5;, score=0.825 total time=   7.4s\n",
      "[CV 1/3] END bootstrap=False, max_depth=22, max_features=auto, min_samples_leaf=1, min_samples_split=10;, score=0.728 total time=   5.9s\n",
      "[CV 2/3] END bootstrap=False, max_depth=22, max_features=auto, min_samples_leaf=1, min_samples_split=10;, score=0.826 total time=   7.3s\n",
      "[CV 3/3] END bootstrap=False, max_depth=22, max_features=auto, min_samples_leaf=1, min_samples_split=10;, score=0.825 total time=   6.9s\n",
      "[CV 1/3] END bootstrap=False, max_depth=22, max_features=auto, min_samples_leaf=2, min_samples_split=2;, score=0.694 total time=   5.3s\n",
      "[CV 2/3] END bootstrap=False, max_depth=22, max_features=auto, min_samples_leaf=2, min_samples_split=2;, score=0.816 total time=   6.8s\n",
      "[CV 3/3] END bootstrap=False, max_depth=22, max_features=auto, min_samples_leaf=2, min_samples_split=2;, score=0.817 total time=   6.4s\n",
      "[CV 1/3] END bootstrap=False, max_depth=22, max_features=auto, min_samples_leaf=2, min_samples_split=5;, score=0.675 total time=   5.3s\n",
      "[CV 2/3] END bootstrap=False, max_depth=22, max_features=auto, min_samples_leaf=2, min_samples_split=5;, score=0.807 total time=   6.7s\n",
      "[CV 3/3] END bootstrap=False, max_depth=22, max_features=auto, min_samples_leaf=2, min_samples_split=5;, score=0.816 total time=   6.2s\n",
      "[CV 1/3] END bootstrap=False, max_depth=22, max_features=auto, min_samples_leaf=2, min_samples_split=10;, score=0.684 total time=   5.3s\n",
      "[CV 2/3] END bootstrap=False, max_depth=22, max_features=auto, min_samples_leaf=2, min_samples_split=10;, score=0.801 total time=   6.6s\n",
      "[CV 3/3] END bootstrap=False, max_depth=22, max_features=auto, min_samples_leaf=2, min_samples_split=10;, score=0.825 total time=   6.2s\n",
      "[CV 1/3] END bootstrap=False, max_depth=22, max_features=auto, min_samples_leaf=4, min_samples_split=2;, score=0.672 total time=   5.0s\n",
      "[CV 2/3] END bootstrap=False, max_depth=22, max_features=auto, min_samples_leaf=4, min_samples_split=2;, score=0.794 total time=   6.2s\n",
      "[CV 3/3] END bootstrap=False, max_depth=22, max_features=auto, min_samples_leaf=4, min_samples_split=2;, score=0.791 total time=   5.8s\n",
      "[CV 1/3] END bootstrap=False, max_depth=22, max_features=auto, min_samples_leaf=4, min_samples_split=5;, score=0.662 total time=   5.0s\n",
      "[CV 2/3] END bootstrap=False, max_depth=22, max_features=auto, min_samples_leaf=4, min_samples_split=5;, score=0.796 total time=   6.2s\n",
      "[CV 3/3] END bootstrap=False, max_depth=22, max_features=auto, min_samples_leaf=4, min_samples_split=5;, score=0.792 total time=   5.8s\n",
      "[CV 1/3] END bootstrap=False, max_depth=22, max_features=auto, min_samples_leaf=4, min_samples_split=10;, score=0.683 total time=   5.0s\n",
      "[CV 2/3] END bootstrap=False, max_depth=22, max_features=auto, min_samples_leaf=4, min_samples_split=10;, score=0.789 total time=   6.3s\n",
      "[CV 3/3] END bootstrap=False, max_depth=22, max_features=auto, min_samples_leaf=4, min_samples_split=10;, score=0.800 total time=   5.8s\n",
      "[CV 1/3] END bootstrap=False, max_depth=22, max_features=sqrt, min_samples_leaf=1, min_samples_split=2;, score=0.731 total time=   6.3s\n",
      "[CV 2/3] END bootstrap=False, max_depth=22, max_features=sqrt, min_samples_leaf=1, min_samples_split=2;, score=0.827 total time=   8.0s\n",
      "[CV 3/3] END bootstrap=False, max_depth=22, max_features=sqrt, min_samples_leaf=1, min_samples_split=2;, score=0.839 total time=   7.7s\n",
      "[CV 1/3] END bootstrap=False, max_depth=22, max_features=sqrt, min_samples_leaf=1, min_samples_split=5;, score=0.720 total time=   6.1s\n",
      "[CV 2/3] END bootstrap=False, max_depth=22, max_features=sqrt, min_samples_leaf=1, min_samples_split=5;, score=0.827 total time=   7.7s\n"
     ]
    },
    {
     "name": "stdout",
     "output_type": "stream",
     "text": [
      "[CV 3/3] END bootstrap=False, max_depth=22, max_features=sqrt, min_samples_leaf=1, min_samples_split=5;, score=0.832 total time=   7.1s\n",
      "[CV 1/3] END bootstrap=False, max_depth=22, max_features=sqrt, min_samples_leaf=1, min_samples_split=10;, score=0.731 total time=   5.9s\n",
      "[CV 2/3] END bootstrap=False, max_depth=22, max_features=sqrt, min_samples_leaf=1, min_samples_split=10;, score=0.825 total time=   7.4s\n",
      "[CV 3/3] END bootstrap=False, max_depth=22, max_features=sqrt, min_samples_leaf=1, min_samples_split=10;, score=0.841 total time=   6.9s\n",
      "[CV 1/3] END bootstrap=False, max_depth=22, max_features=sqrt, min_samples_leaf=2, min_samples_split=2;, score=0.689 total time=   5.3s\n",
      "[CV 2/3] END bootstrap=False, max_depth=22, max_features=sqrt, min_samples_leaf=2, min_samples_split=2;, score=0.801 total time=   6.7s\n",
      "[CV 3/3] END bootstrap=False, max_depth=22, max_features=sqrt, min_samples_leaf=2, min_samples_split=2;, score=0.814 total time=   6.4s\n",
      "[CV 1/3] END bootstrap=False, max_depth=22, max_features=sqrt, min_samples_leaf=2, min_samples_split=5;, score=0.681 total time=   5.3s\n",
      "[CV 2/3] END bootstrap=False, max_depth=22, max_features=sqrt, min_samples_leaf=2, min_samples_split=5;, score=0.807 total time=   6.7s\n",
      "[CV 3/3] END bootstrap=False, max_depth=22, max_features=sqrt, min_samples_leaf=2, min_samples_split=5;, score=0.805 total time=   6.3s\n",
      "[CV 1/3] END bootstrap=False, max_depth=22, max_features=sqrt, min_samples_leaf=2, min_samples_split=10;, score=0.655 total time=   5.2s\n",
      "[CV 2/3] END bootstrap=False, max_depth=22, max_features=sqrt, min_samples_leaf=2, min_samples_split=10;, score=0.814 total time=   6.6s\n",
      "[CV 3/3] END bootstrap=False, max_depth=22, max_features=sqrt, min_samples_leaf=2, min_samples_split=10;, score=0.814 total time=   6.2s\n",
      "[CV 1/3] END bootstrap=False, max_depth=22, max_features=sqrt, min_samples_leaf=4, min_samples_split=2;, score=0.665 total time=   5.1s\n",
      "[CV 2/3] END bootstrap=False, max_depth=22, max_features=sqrt, min_samples_leaf=4, min_samples_split=2;, score=0.793 total time=   6.3s\n",
      "[CV 3/3] END bootstrap=False, max_depth=22, max_features=sqrt, min_samples_leaf=4, min_samples_split=2;, score=0.797 total time=   5.8s\n",
      "[CV 1/3] END bootstrap=False, max_depth=22, max_features=sqrt, min_samples_leaf=4, min_samples_split=5;, score=0.670 total time=   5.1s\n",
      "[CV 2/3] END bootstrap=False, max_depth=22, max_features=sqrt, min_samples_leaf=4, min_samples_split=5;, score=0.791 total time=   6.3s\n",
      "[CV 3/3] END bootstrap=False, max_depth=22, max_features=sqrt, min_samples_leaf=4, min_samples_split=5;, score=0.801 total time=   5.8s\n",
      "[CV 1/3] END bootstrap=False, max_depth=22, max_features=sqrt, min_samples_leaf=4, min_samples_split=10;, score=0.651 total time=   5.1s\n",
      "[CV 2/3] END bootstrap=False, max_depth=22, max_features=sqrt, min_samples_leaf=4, min_samples_split=10;, score=0.790 total time=   6.2s\n",
      "[CV 3/3] END bootstrap=False, max_depth=22, max_features=sqrt, min_samples_leaf=4, min_samples_split=10;, score=0.796 total time=   5.9s\n",
      "[CV 1/3] END bootstrap=False, max_depth=24, max_features=auto, min_samples_leaf=1, min_samples_split=2;, score=0.731 total time=   6.7s\n",
      "[CV 2/3] END bootstrap=False, max_depth=24, max_features=auto, min_samples_leaf=1, min_samples_split=2;, score=0.844 total time=   8.8s\n",
      "[CV 3/3] END bootstrap=False, max_depth=24, max_features=auto, min_samples_leaf=1, min_samples_split=2;, score=0.838 total time=   8.3s\n",
      "[CV 1/3] END bootstrap=False, max_depth=24, max_features=auto, min_samples_leaf=1, min_samples_split=5;, score=0.729 total time=   6.5s\n",
      "[CV 2/3] END bootstrap=False, max_depth=24, max_features=auto, min_samples_leaf=1, min_samples_split=5;, score=0.835 total time=   8.4s\n",
      "[CV 3/3] END bootstrap=False, max_depth=24, max_features=auto, min_samples_leaf=1, min_samples_split=5;, score=0.845 total time=   8.0s\n",
      "[CV 1/3] END bootstrap=False, max_depth=24, max_features=auto, min_samples_leaf=1, min_samples_split=10;, score=0.727 total time=   6.4s\n",
      "[CV 2/3] END bootstrap=False, max_depth=24, max_features=auto, min_samples_leaf=1, min_samples_split=10;, score=0.838 total time=   8.1s\n",
      "[CV 3/3] END bootstrap=False, max_depth=24, max_features=auto, min_samples_leaf=1, min_samples_split=10;, score=0.841 total time=   7.6s\n",
      "[CV 1/3] END bootstrap=False, max_depth=24, max_features=auto, min_samples_leaf=2, min_samples_split=2;, score=0.688 total time=   5.7s\n",
      "[CV 2/3] END bootstrap=False, max_depth=24, max_features=auto, min_samples_leaf=2, min_samples_split=2;, score=0.806 total time=   7.3s\n",
      "[CV 3/3] END bootstrap=False, max_depth=24, max_features=auto, min_samples_leaf=2, min_samples_split=2;, score=0.820 total time=   6.9s\n",
      "[CV 1/3] END bootstrap=False, max_depth=24, max_features=auto, min_samples_leaf=2, min_samples_split=5;, score=0.687 total time=   5.7s\n",
      "[CV 2/3] END bootstrap=False, max_depth=24, max_features=auto, min_samples_leaf=2, min_samples_split=5;, score=0.814 total time=   7.2s\n",
      "[CV 3/3] END bootstrap=False, max_depth=24, max_features=auto, min_samples_leaf=2, min_samples_split=5;, score=0.813 total time=   6.8s\n",
      "[CV 1/3] END bootstrap=False, max_depth=24, max_features=auto, min_samples_leaf=2, min_samples_split=10;, score=0.688 total time=   5.7s\n",
      "[CV 2/3] END bootstrap=False, max_depth=24, max_features=auto, min_samples_leaf=2, min_samples_split=10;, score=0.809 total time=   7.3s\n",
      "[CV 3/3] END bootstrap=False, max_depth=24, max_features=auto, min_samples_leaf=2, min_samples_split=10;, score=0.814 total time=   6.7s\n",
      "[CV 1/3] END bootstrap=False, max_depth=24, max_features=auto, min_samples_leaf=4, min_samples_split=2;, score=0.665 total time=   5.5s\n",
      "[CV 2/3] END bootstrap=False, max_depth=24, max_features=auto, min_samples_leaf=4, min_samples_split=2;, score=0.765 total time=   6.7s\n",
      "[CV 3/3] END bootstrap=False, max_depth=24, max_features=auto, min_samples_leaf=4, min_samples_split=2;, score=0.801 total time=   6.3s\n",
      "[CV 1/3] END bootstrap=False, max_depth=24, max_features=auto, min_samples_leaf=4, min_samples_split=5;, score=0.670 total time=   5.5s\n",
      "[CV 2/3] END bootstrap=False, max_depth=24, max_features=auto, min_samples_leaf=4, min_samples_split=5;, score=0.793 total time=   6.8s\n",
      "[CV 3/3] END bootstrap=False, max_depth=24, max_features=auto, min_samples_leaf=4, min_samples_split=5;, score=0.803 total time=   6.3s\n",
      "[CV 1/3] END bootstrap=False, max_depth=24, max_features=auto, min_samples_leaf=4, min_samples_split=10;, score=0.665 total time=   5.4s\n",
      "[CV 2/3] END bootstrap=False, max_depth=24, max_features=auto, min_samples_leaf=4, min_samples_split=10;, score=0.801 total time=   6.7s\n",
      "[CV 3/3] END bootstrap=False, max_depth=24, max_features=auto, min_samples_leaf=4, min_samples_split=10;, score=0.795 total time=   6.3s\n",
      "[CV 1/3] END bootstrap=False, max_depth=24, max_features=sqrt, min_samples_leaf=1, min_samples_split=2;, score=0.740 total time=   6.7s\n",
      "[CV 2/3] END bootstrap=False, max_depth=24, max_features=sqrt, min_samples_leaf=1, min_samples_split=2;, score=0.849 total time=   8.8s\n",
      "[CV 3/3] END bootstrap=False, max_depth=24, max_features=sqrt, min_samples_leaf=1, min_samples_split=2;, score=0.818 total time=   8.4s\n",
      "[CV 1/3] END bootstrap=False, max_depth=24, max_features=sqrt, min_samples_leaf=1, min_samples_split=5;, score=0.738 total time=   7.4s\n",
      "[CV 2/3] END bootstrap=False, max_depth=24, max_features=sqrt, min_samples_leaf=1, min_samples_split=5;, score=0.842 total time=   8.9s\n",
      "[CV 3/3] END bootstrap=False, max_depth=24, max_features=sqrt, min_samples_leaf=1, min_samples_split=5;, score=0.836 total time=   8.0s\n",
      "[CV 1/3] END bootstrap=False, max_depth=24, max_features=sqrt, min_samples_leaf=1, min_samples_split=10;, score=0.731 total time=   6.7s\n",
      "[CV 2/3] END bootstrap=False, max_depth=24, max_features=sqrt, min_samples_leaf=1, min_samples_split=10;, score=0.841 total time=   8.7s\n",
      "[CV 3/3] END bootstrap=False, max_depth=24, max_features=sqrt, min_samples_leaf=1, min_samples_split=10;, score=0.838 total time=   8.1s\n",
      "[CV 1/3] END bootstrap=False, max_depth=24, max_features=sqrt, min_samples_leaf=2, min_samples_split=2;, score=0.685 total time=   5.8s\n",
      "[CV 2/3] END bootstrap=False, max_depth=24, max_features=sqrt, min_samples_leaf=2, min_samples_split=2;, score=0.811 total time=   7.5s\n",
      "[CV 3/3] END bootstrap=False, max_depth=24, max_features=sqrt, min_samples_leaf=2, min_samples_split=2;, score=0.814 total time=   7.0s\n"
     ]
    },
    {
     "name": "stdout",
     "output_type": "stream",
     "text": [
      "[CV 1/3] END bootstrap=False, max_depth=24, max_features=sqrt, min_samples_leaf=2, min_samples_split=5;, score=0.693 total time=   5.7s\n",
      "[CV 2/3] END bootstrap=False, max_depth=24, max_features=sqrt, min_samples_leaf=2, min_samples_split=5;, score=0.799 total time=   7.3s\n",
      "[CV 3/3] END bootstrap=False, max_depth=24, max_features=sqrt, min_samples_leaf=2, min_samples_split=5;, score=0.816 total time=   6.8s\n",
      "[CV 1/3] END bootstrap=False, max_depth=24, max_features=sqrt, min_samples_leaf=2, min_samples_split=10;, score=0.694 total time=   5.7s\n",
      "[CV 2/3] END bootstrap=False, max_depth=24, max_features=sqrt, min_samples_leaf=2, min_samples_split=10;, score=0.803 total time=   7.1s\n",
      "[CV 3/3] END bootstrap=False, max_depth=24, max_features=sqrt, min_samples_leaf=2, min_samples_split=10;, score=0.821 total time=   6.7s\n",
      "[CV 1/3] END bootstrap=False, max_depth=24, max_features=sqrt, min_samples_leaf=4, min_samples_split=2;, score=0.667 total time=   5.4s\n",
      "[CV 2/3] END bootstrap=False, max_depth=24, max_features=sqrt, min_samples_leaf=4, min_samples_split=2;, score=0.796 total time=   6.8s\n",
      "[CV 3/3] END bootstrap=False, max_depth=24, max_features=sqrt, min_samples_leaf=4, min_samples_split=2;, score=0.795 total time=   6.4s\n",
      "[CV 1/3] END bootstrap=False, max_depth=24, max_features=sqrt, min_samples_leaf=4, min_samples_split=5;, score=0.669 total time=   5.5s\n",
      "[CV 2/3] END bootstrap=False, max_depth=24, max_features=sqrt, min_samples_leaf=4, min_samples_split=5;, score=0.790 total time=   6.7s\n",
      "[CV 3/3] END bootstrap=False, max_depth=24, max_features=sqrt, min_samples_leaf=4, min_samples_split=5;, score=0.788 total time=   6.3s\n",
      "[CV 1/3] END bootstrap=False, max_depth=24, max_features=sqrt, min_samples_leaf=4, min_samples_split=10;, score=0.670 total time=   5.5s\n",
      "[CV 2/3] END bootstrap=False, max_depth=24, max_features=sqrt, min_samples_leaf=4, min_samples_split=10;, score=0.795 total time=   6.7s\n",
      "[CV 3/3] END bootstrap=False, max_depth=24, max_features=sqrt, min_samples_leaf=4, min_samples_split=10;, score=0.791 total time=   6.3s\n",
      "[CV 1/3] END bootstrap=False, max_depth=26, max_features=auto, min_samples_leaf=1, min_samples_split=2;, score=0.746 total time=   7.4s\n",
      "[CV 2/3] END bootstrap=False, max_depth=26, max_features=auto, min_samples_leaf=1, min_samples_split=2;, score=0.840 total time=   9.8s\n",
      "[CV 3/3] END bootstrap=False, max_depth=26, max_features=auto, min_samples_leaf=1, min_samples_split=2;, score=0.842 total time=   9.1s\n",
      "[CV 1/3] END bootstrap=False, max_depth=26, max_features=auto, min_samples_leaf=1, min_samples_split=5;, score=0.739 total time=   7.2s\n",
      "[CV 2/3] END bootstrap=False, max_depth=26, max_features=auto, min_samples_leaf=1, min_samples_split=5;, score=0.839 total time=   9.2s\n",
      "[CV 3/3] END bootstrap=False, max_depth=26, max_features=auto, min_samples_leaf=1, min_samples_split=5;, score=0.833 total time=   8.8s\n",
      "[CV 1/3] END bootstrap=False, max_depth=26, max_features=auto, min_samples_leaf=1, min_samples_split=10;, score=0.718 total time=   7.1s\n",
      "[CV 2/3] END bootstrap=False, max_depth=26, max_features=auto, min_samples_leaf=1, min_samples_split=10;, score=0.831 total time=   9.0s\n",
      "[CV 3/3] END bootstrap=False, max_depth=26, max_features=auto, min_samples_leaf=1, min_samples_split=10;, score=0.847 total time=   8.4s\n",
      "[CV 1/3] END bootstrap=False, max_depth=26, max_features=auto, min_samples_leaf=2, min_samples_split=2;, score=0.692 total time=   6.2s\n",
      "[CV 2/3] END bootstrap=False, max_depth=26, max_features=auto, min_samples_leaf=2, min_samples_split=2;, score=0.821 total time=   7.8s\n",
      "[CV 3/3] END bootstrap=False, max_depth=26, max_features=auto, min_samples_leaf=2, min_samples_split=2;, score=0.814 total time=   7.3s\n",
      "[CV 1/3] END bootstrap=False, max_depth=26, max_features=auto, min_samples_leaf=2, min_samples_split=5;, score=0.689 total time=   6.2s\n",
      "[CV 2/3] END bootstrap=False, max_depth=26, max_features=auto, min_samples_leaf=2, min_samples_split=5;, score=0.804 total time=   7.8s\n",
      "[CV 3/3] END bootstrap=False, max_depth=26, max_features=auto, min_samples_leaf=2, min_samples_split=5;, score=0.822 total time=   7.3s\n",
      "[CV 1/3] END bootstrap=False, max_depth=26, max_features=auto, min_samples_leaf=2, min_samples_split=10;, score=0.683 total time=   6.1s\n",
      "[CV 2/3] END bootstrap=False, max_depth=26, max_features=auto, min_samples_leaf=2, min_samples_split=10;, score=0.806 total time=   7.7s\n",
      "[CV 3/3] END bootstrap=False, max_depth=26, max_features=auto, min_samples_leaf=2, min_samples_split=10;, score=0.814 total time=   7.2s\n",
      "[CV 1/3] END bootstrap=False, max_depth=26, max_features=auto, min_samples_leaf=4, min_samples_split=2;, score=0.680 total time=   6.2s\n",
      "[CV 2/3] END bootstrap=False, max_depth=26, max_features=auto, min_samples_leaf=4, min_samples_split=2;, score=0.797 total time=   7.5s\n",
      "[CV 3/3] END bootstrap=False, max_depth=26, max_features=auto, min_samples_leaf=4, min_samples_split=2;, score=0.806 total time=   7.1s\n",
      "[CV 1/3] END bootstrap=False, max_depth=26, max_features=auto, min_samples_leaf=4, min_samples_split=5;, score=0.671 total time=   5.9s\n",
      "[CV 2/3] END bootstrap=False, max_depth=26, max_features=auto, min_samples_leaf=4, min_samples_split=5;, score=0.799 total time=   7.3s\n",
      "[CV 3/3] END bootstrap=False, max_depth=26, max_features=auto, min_samples_leaf=4, min_samples_split=5;, score=0.800 total time=   6.8s\n",
      "[CV 1/3] END bootstrap=False, max_depth=26, max_features=auto, min_samples_leaf=4, min_samples_split=10;, score=0.668 total time=   5.9s\n",
      "[CV 2/3] END bootstrap=False, max_depth=26, max_features=auto, min_samples_leaf=4, min_samples_split=10;, score=0.788 total time=   7.2s\n",
      "[CV 3/3] END bootstrap=False, max_depth=26, max_features=auto, min_samples_leaf=4, min_samples_split=10;, score=0.798 total time=   6.9s\n",
      "[CV 1/3] END bootstrap=False, max_depth=26, max_features=sqrt, min_samples_leaf=1, min_samples_split=2;, score=0.727 total time=   7.4s\n",
      "[CV 2/3] END bootstrap=False, max_depth=26, max_features=sqrt, min_samples_leaf=1, min_samples_split=2;, score=0.845 total time=   9.6s\n",
      "[CV 3/3] END bootstrap=False, max_depth=26, max_features=sqrt, min_samples_leaf=1, min_samples_split=2;, score=0.847 total time=   9.1s\n",
      "[CV 1/3] END bootstrap=False, max_depth=26, max_features=sqrt, min_samples_leaf=1, min_samples_split=5;, score=0.741 total time=   7.2s\n",
      "[CV 2/3] END bootstrap=False, max_depth=26, max_features=sqrt, min_samples_leaf=1, min_samples_split=5;, score=0.847 total time=   9.1s\n",
      "[CV 3/3] END bootstrap=False, max_depth=26, max_features=sqrt, min_samples_leaf=1, min_samples_split=5;, score=0.847 total time=   8.7s\n",
      "[CV 1/3] END bootstrap=False, max_depth=26, max_features=sqrt, min_samples_leaf=1, min_samples_split=10;, score=0.737 total time=   7.0s\n",
      "[CV 2/3] END bootstrap=False, max_depth=26, max_features=sqrt, min_samples_leaf=1, min_samples_split=10;, score=0.838 total time=   8.9s\n",
      "[CV 3/3] END bootstrap=False, max_depth=26, max_features=sqrt, min_samples_leaf=1, min_samples_split=10;, score=0.846 total time=   8.3s\n",
      "[CV 1/3] END bootstrap=False, max_depth=26, max_features=sqrt, min_samples_leaf=2, min_samples_split=2;, score=0.689 total time=   6.2s\n",
      "[CV 2/3] END bootstrap=False, max_depth=26, max_features=sqrt, min_samples_leaf=2, min_samples_split=2;, score=0.813 total time=   7.9s\n",
      "[CV 3/3] END bootstrap=False, max_depth=26, max_features=sqrt, min_samples_leaf=2, min_samples_split=2;, score=0.817 total time=   7.4s\n",
      "[CV 1/3] END bootstrap=False, max_depth=26, max_features=sqrt, min_samples_leaf=2, min_samples_split=5;, score=0.697 total time=   6.2s\n",
      "[CV 2/3] END bootstrap=False, max_depth=26, max_features=sqrt, min_samples_leaf=2, min_samples_split=5;, score=0.804 total time=   7.8s\n",
      "[CV 3/3] END bootstrap=False, max_depth=26, max_features=sqrt, min_samples_leaf=2, min_samples_split=5;, score=0.820 total time=   7.4s\n",
      "[CV 1/3] END bootstrap=False, max_depth=26, max_features=sqrt, min_samples_leaf=2, min_samples_split=10;, score=0.687 total time=   6.2s\n",
      "[CV 2/3] END bootstrap=False, max_depth=26, max_features=sqrt, min_samples_leaf=2, min_samples_split=10;, score=0.804 total time=   7.7s\n",
      "[CV 3/3] END bootstrap=False, max_depth=26, max_features=sqrt, min_samples_leaf=2, min_samples_split=10;, score=0.813 total time=   7.3s\n",
      "[CV 1/3] END bootstrap=False, max_depth=26, max_features=sqrt, min_samples_leaf=4, min_samples_split=2;, score=0.664 total time=   5.9s\n"
     ]
    },
    {
     "name": "stdout",
     "output_type": "stream",
     "text": [
      "[CV 2/3] END bootstrap=False, max_depth=26, max_features=sqrt, min_samples_leaf=4, min_samples_split=2;, score=0.795 total time=   7.4s\n",
      "[CV 3/3] END bootstrap=False, max_depth=26, max_features=sqrt, min_samples_leaf=4, min_samples_split=2;, score=0.801 total time=   6.8s\n",
      "[CV 1/3] END bootstrap=False, max_depth=26, max_features=sqrt, min_samples_leaf=4, min_samples_split=5;, score=0.686 total time=   5.9s\n",
      "[CV 2/3] END bootstrap=False, max_depth=26, max_features=sqrt, min_samples_leaf=4, min_samples_split=5;, score=0.792 total time=   7.3s\n",
      "[CV 3/3] END bootstrap=False, max_depth=26, max_features=sqrt, min_samples_leaf=4, min_samples_split=5;, score=0.794 total time=   6.8s\n",
      "[CV 1/3] END bootstrap=False, max_depth=26, max_features=sqrt, min_samples_leaf=4, min_samples_split=10;, score=0.666 total time=   5.9s\n",
      "[CV 2/3] END bootstrap=False, max_depth=26, max_features=sqrt, min_samples_leaf=4, min_samples_split=10;, score=0.799 total time=   7.3s\n",
      "[CV 3/3] END bootstrap=False, max_depth=26, max_features=sqrt, min_samples_leaf=4, min_samples_split=10;, score=0.801 total time=   6.8s\n",
      "[CV 1/3] END bootstrap=False, max_depth=28, max_features=auto, min_samples_leaf=1, min_samples_split=2;, score=0.754 total time=   8.0s\n",
      "[CV 2/3] END bootstrap=False, max_depth=28, max_features=auto, min_samples_leaf=1, min_samples_split=2;, score=0.843 total time=  10.7s\n",
      "[CV 3/3] END bootstrap=False, max_depth=28, max_features=auto, min_samples_leaf=1, min_samples_split=2;, score=0.850 total time=  10.1s\n",
      "[CV 1/3] END bootstrap=False, max_depth=28, max_features=auto, min_samples_leaf=1, min_samples_split=5;, score=0.739 total time=   7.8s\n",
      "[CV 2/3] END bootstrap=False, max_depth=28, max_features=auto, min_samples_leaf=1, min_samples_split=5;, score=0.841 total time=  10.1s\n",
      "[CV 3/3] END bootstrap=False, max_depth=28, max_features=auto, min_samples_leaf=1, min_samples_split=5;, score=0.841 total time=   9.6s\n",
      "[CV 1/3] END bootstrap=False, max_depth=28, max_features=auto, min_samples_leaf=1, min_samples_split=10;, score=0.736 total time=   7.6s\n",
      "[CV 2/3] END bootstrap=False, max_depth=28, max_features=auto, min_samples_leaf=1, min_samples_split=10;, score=0.844 total time=   9.5s\n",
      "[CV 3/3] END bootstrap=False, max_depth=28, max_features=auto, min_samples_leaf=1, min_samples_split=10;, score=0.846 total time=   9.0s\n",
      "[CV 1/3] END bootstrap=False, max_depth=28, max_features=auto, min_samples_leaf=2, min_samples_split=2;, score=0.688 total time=   6.6s\n",
      "[CV 2/3] END bootstrap=False, max_depth=28, max_features=auto, min_samples_leaf=2, min_samples_split=2;, score=0.815 total time=   8.5s\n",
      "[CV 3/3] END bootstrap=False, max_depth=28, max_features=auto, min_samples_leaf=2, min_samples_split=2;, score=0.829 total time=   7.9s\n",
      "[CV 1/3] END bootstrap=False, max_depth=28, max_features=auto, min_samples_leaf=2, min_samples_split=5;, score=0.694 total time=   6.6s\n",
      "[CV 2/3] END bootstrap=False, max_depth=28, max_features=auto, min_samples_leaf=2, min_samples_split=5;, score=0.801 total time=   8.5s\n",
      "[CV 3/3] END bootstrap=False, max_depth=28, max_features=auto, min_samples_leaf=2, min_samples_split=5;, score=0.828 total time=   7.9s\n",
      "[CV 1/3] END bootstrap=False, max_depth=28, max_features=auto, min_samples_leaf=2, min_samples_split=10;, score=0.690 total time=   6.6s\n",
      "[CV 2/3] END bootstrap=False, max_depth=28, max_features=auto, min_samples_leaf=2, min_samples_split=10;, score=0.811 total time=   8.3s\n",
      "[CV 3/3] END bootstrap=False, max_depth=28, max_features=auto, min_samples_leaf=2, min_samples_split=10;, score=0.818 total time=   7.7s\n",
      "[CV 1/3] END bootstrap=False, max_depth=28, max_features=auto, min_samples_leaf=4, min_samples_split=2;, score=0.667 total time=   6.3s\n",
      "[CV 2/3] END bootstrap=False, max_depth=28, max_features=auto, min_samples_leaf=4, min_samples_split=2;, score=0.800 total time=   7.7s\n",
      "[CV 3/3] END bootstrap=False, max_depth=28, max_features=auto, min_samples_leaf=4, min_samples_split=2;, score=0.796 total time=   7.3s\n",
      "[CV 1/3] END bootstrap=False, max_depth=28, max_features=auto, min_samples_leaf=4, min_samples_split=5;, score=0.679 total time=   6.3s\n",
      "[CV 2/3] END bootstrap=False, max_depth=28, max_features=auto, min_samples_leaf=4, min_samples_split=5;, score=0.796 total time=   7.7s\n",
      "[CV 3/3] END bootstrap=False, max_depth=28, max_features=auto, min_samples_leaf=4, min_samples_split=5;, score=0.804 total time=   7.2s\n",
      "[CV 1/3] END bootstrap=False, max_depth=28, max_features=auto, min_samples_leaf=4, min_samples_split=10;, score=0.667 total time=   6.3s\n",
      "[CV 2/3] END bootstrap=False, max_depth=28, max_features=auto, min_samples_leaf=4, min_samples_split=10;, score=0.795 total time=   7.8s\n",
      "[CV 3/3] END bootstrap=False, max_depth=28, max_features=auto, min_samples_leaf=4, min_samples_split=10;, score=0.806 total time=   7.3s\n",
      "[CV 1/3] END bootstrap=False, max_depth=28, max_features=sqrt, min_samples_leaf=1, min_samples_split=2;, score=0.741 total time=   8.0s\n",
      "[CV 2/3] END bootstrap=False, max_depth=28, max_features=sqrt, min_samples_leaf=1, min_samples_split=2;, score=0.841 total time=  10.6s\n",
      "[CV 3/3] END bootstrap=False, max_depth=28, max_features=sqrt, min_samples_leaf=1, min_samples_split=2;, score=0.850 total time=  10.0s\n",
      "[CV 1/3] END bootstrap=False, max_depth=28, max_features=sqrt, min_samples_leaf=1, min_samples_split=5;, score=0.737 total time=   7.8s\n",
      "[CV 2/3] END bootstrap=False, max_depth=28, max_features=sqrt, min_samples_leaf=1, min_samples_split=5;, score=0.838 total time=  10.0s\n",
      "[CV 3/3] END bootstrap=False, max_depth=28, max_features=sqrt, min_samples_leaf=1, min_samples_split=5;, score=0.852 total time=   9.5s\n",
      "[CV 1/3] END bootstrap=False, max_depth=28, max_features=sqrt, min_samples_leaf=1, min_samples_split=10;, score=0.746 total time=   7.6s\n",
      "[CV 2/3] END bootstrap=False, max_depth=28, max_features=sqrt, min_samples_leaf=1, min_samples_split=10;, score=0.834 total time=   9.5s\n",
      "[CV 3/3] END bootstrap=False, max_depth=28, max_features=sqrt, min_samples_leaf=1, min_samples_split=10;, score=0.848 total time=   9.0s\n",
      "[CV 1/3] END bootstrap=False, max_depth=28, max_features=sqrt, min_samples_leaf=2, min_samples_split=2;, score=0.664 total time=   6.6s\n",
      "[CV 2/3] END bootstrap=False, max_depth=28, max_features=sqrt, min_samples_leaf=2, min_samples_split=2;, score=0.814 total time=   8.4s\n",
      "[CV 3/3] END bootstrap=False, max_depth=28, max_features=sqrt, min_samples_leaf=2, min_samples_split=2;, score=0.825 total time=   8.0s\n",
      "[CV 1/3] END bootstrap=False, max_depth=28, max_features=sqrt, min_samples_leaf=2, min_samples_split=5;, score=0.688 total time=   6.6s\n",
      "[CV 2/3] END bootstrap=False, max_depth=28, max_features=sqrt, min_samples_leaf=2, min_samples_split=5;, score=0.814 total time=   8.4s\n",
      "[CV 3/3] END bootstrap=False, max_depth=28, max_features=sqrt, min_samples_leaf=2, min_samples_split=5;, score=0.818 total time=   7.8s\n",
      "[CV 1/3] END bootstrap=False, max_depth=28, max_features=sqrt, min_samples_leaf=2, min_samples_split=10;, score=0.688 total time=   6.6s\n",
      "[CV 2/3] END bootstrap=False, max_depth=28, max_features=sqrt, min_samples_leaf=2, min_samples_split=10;, score=0.809 total time=   8.3s\n",
      "[CV 3/3] END bootstrap=False, max_depth=28, max_features=sqrt, min_samples_leaf=2, min_samples_split=10;, score=0.817 total time=   7.7s\n",
      "[CV 1/3] END bootstrap=False, max_depth=28, max_features=sqrt, min_samples_leaf=4, min_samples_split=2;, score=0.676 total time=   6.3s\n",
      "[CV 2/3] END bootstrap=False, max_depth=28, max_features=sqrt, min_samples_leaf=4, min_samples_split=2;, score=0.795 total time=   7.7s\n",
      "[CV 3/3] END bootstrap=False, max_depth=28, max_features=sqrt, min_samples_leaf=4, min_samples_split=2;, score=0.797 total time=   7.3s\n",
      "[CV 1/3] END bootstrap=False, max_depth=28, max_features=sqrt, min_samples_leaf=4, min_samples_split=5;, score=0.675 total time=   6.3s\n",
      "[CV 2/3] END bootstrap=False, max_depth=28, max_features=sqrt, min_samples_leaf=4, min_samples_split=5;, score=0.796 total time=   7.8s\n",
      "[CV 3/3] END bootstrap=False, max_depth=28, max_features=sqrt, min_samples_leaf=4, min_samples_split=5;, score=0.800 total time=   7.3s\n",
      "[CV 1/3] END bootstrap=False, max_depth=28, max_features=sqrt, min_samples_leaf=4, min_samples_split=10;, score=0.675 total time=   6.3s\n",
      "[CV 2/3] END bootstrap=False, max_depth=28, max_features=sqrt, min_samples_leaf=4, min_samples_split=10;, score=0.796 total time=   7.8s\n"
     ]
    },
    {
     "name": "stdout",
     "output_type": "stream",
     "text": [
      "[CV 3/3] END bootstrap=False, max_depth=28, max_features=sqrt, min_samples_leaf=4, min_samples_split=10;, score=0.797 total time=   7.3s\n",
      "[CV 1/3] END bootstrap=False, max_depth=30, max_features=auto, min_samples_leaf=1, min_samples_split=2;, score=0.742 total time=   8.6s\n",
      "[CV 2/3] END bootstrap=False, max_depth=30, max_features=auto, min_samples_leaf=1, min_samples_split=2;, score=0.851 total time=  11.3s\n",
      "[CV 3/3] END bootstrap=False, max_depth=30, max_features=auto, min_samples_leaf=1, min_samples_split=2;, score=0.864 total time=  10.8s\n",
      "[CV 1/3] END bootstrap=False, max_depth=30, max_features=auto, min_samples_leaf=1, min_samples_split=5;, score=0.747 total time=   8.4s\n",
      "[CV 2/3] END bootstrap=False, max_depth=30, max_features=auto, min_samples_leaf=1, min_samples_split=5;, score=0.840 total time=  10.9s\n",
      "[CV 3/3] END bootstrap=False, max_depth=30, max_features=auto, min_samples_leaf=1, min_samples_split=5;, score=0.853 total time=  10.3s\n",
      "[CV 1/3] END bootstrap=False, max_depth=30, max_features=auto, min_samples_leaf=1, min_samples_split=10;, score=0.729 total time=   8.2s\n",
      "[CV 2/3] END bootstrap=False, max_depth=30, max_features=auto, min_samples_leaf=1, min_samples_split=10;, score=0.848 total time=  10.3s\n",
      "[CV 3/3] END bootstrap=False, max_depth=30, max_features=auto, min_samples_leaf=1, min_samples_split=10;, score=0.845 total time=   9.7s\n",
      "[CV 1/3] END bootstrap=False, max_depth=30, max_features=auto, min_samples_leaf=2, min_samples_split=2;, score=0.685 total time=   7.1s\n",
      "[CV 2/3] END bootstrap=False, max_depth=30, max_features=auto, min_samples_leaf=2, min_samples_split=2;, score=0.815 total time=   9.2s\n",
      "[CV 3/3] END bootstrap=False, max_depth=30, max_features=auto, min_samples_leaf=2, min_samples_split=2;, score=0.817 total time=   8.5s\n",
      "[CV 1/3] END bootstrap=False, max_depth=30, max_features=auto, min_samples_leaf=2, min_samples_split=5;, score=0.692 total time=   7.1s\n",
      "[CV 2/3] END bootstrap=False, max_depth=30, max_features=auto, min_samples_leaf=2, min_samples_split=5;, score=0.813 total time=   9.0s\n",
      "[CV 3/3] END bootstrap=False, max_depth=30, max_features=auto, min_samples_leaf=2, min_samples_split=5;, score=0.826 total time=   8.4s\n",
      "[CV 1/3] END bootstrap=False, max_depth=30, max_features=auto, min_samples_leaf=2, min_samples_split=10;, score=0.666 total time=   7.1s\n",
      "[CV 2/3] END bootstrap=False, max_depth=30, max_features=auto, min_samples_leaf=2, min_samples_split=10;, score=0.813 total time=   8.9s\n",
      "[CV 3/3] END bootstrap=False, max_depth=30, max_features=auto, min_samples_leaf=2, min_samples_split=10;, score=0.822 total time=   8.2s\n",
      "[CV 1/3] END bootstrap=False, max_depth=30, max_features=auto, min_samples_leaf=4, min_samples_split=2;, score=0.679 total time=   6.7s\n",
      "[CV 2/3] END bootstrap=False, max_depth=30, max_features=auto, min_samples_leaf=4, min_samples_split=2;, score=0.789 total time=   8.2s\n",
      "[CV 3/3] END bootstrap=False, max_depth=30, max_features=auto, min_samples_leaf=4, min_samples_split=2;, score=0.805 total time=   7.7s\n",
      "[CV 1/3] END bootstrap=False, max_depth=30, max_features=auto, min_samples_leaf=4, min_samples_split=5;, score=0.667 total time=   6.7s\n",
      "[CV 2/3] END bootstrap=False, max_depth=30, max_features=auto, min_samples_leaf=4, min_samples_split=5;, score=0.790 total time=   8.2s\n",
      "[CV 3/3] END bootstrap=False, max_depth=30, max_features=auto, min_samples_leaf=4, min_samples_split=5;, score=0.807 total time=   7.7s\n",
      "[CV 1/3] END bootstrap=False, max_depth=30, max_features=auto, min_samples_leaf=4, min_samples_split=10;, score=0.662 total time=   6.6s\n",
      "[CV 2/3] END bootstrap=False, max_depth=30, max_features=auto, min_samples_leaf=4, min_samples_split=10;, score=0.799 total time=   8.2s\n",
      "[CV 3/3] END bootstrap=False, max_depth=30, max_features=auto, min_samples_leaf=4, min_samples_split=10;, score=0.806 total time=   7.8s\n",
      "[CV 1/3] END bootstrap=False, max_depth=30, max_features=sqrt, min_samples_leaf=1, min_samples_split=2;, score=0.746 total time=   8.7s\n",
      "[CV 2/3] END bootstrap=False, max_depth=30, max_features=sqrt, min_samples_leaf=1, min_samples_split=2;, score=0.855 total time=  11.5s\n",
      "[CV 3/3] END bootstrap=False, max_depth=30, max_features=sqrt, min_samples_leaf=1, min_samples_split=2;, score=0.852 total time=  10.9s\n",
      "[CV 1/3] END bootstrap=False, max_depth=30, max_features=sqrt, min_samples_leaf=1, min_samples_split=5;, score=0.740 total time=   8.3s\n",
      "[CV 2/3] END bootstrap=False, max_depth=30, max_features=sqrt, min_samples_leaf=1, min_samples_split=5;, score=0.843 total time=  10.9s\n",
      "[CV 3/3] END bootstrap=False, max_depth=30, max_features=sqrt, min_samples_leaf=1, min_samples_split=5;, score=0.845 total time=  10.2s\n",
      "[CV 1/3] END bootstrap=False, max_depth=30, max_features=sqrt, min_samples_leaf=1, min_samples_split=10;, score=0.755 total time=   8.1s\n",
      "[CV 2/3] END bootstrap=False, max_depth=30, max_features=sqrt, min_samples_leaf=1, min_samples_split=10;, score=0.840 total time=  10.3s\n",
      "[CV 3/3] END bootstrap=False, max_depth=30, max_features=sqrt, min_samples_leaf=1, min_samples_split=10;, score=0.853 total time=   9.8s\n",
      "[CV 1/3] END bootstrap=False, max_depth=30, max_features=sqrt, min_samples_leaf=2, min_samples_split=2;, score=0.695 total time=   7.0s\n",
      "[CV 2/3] END bootstrap=False, max_depth=30, max_features=sqrt, min_samples_leaf=2, min_samples_split=2;, score=0.812 total time=   9.0s\n",
      "[CV 3/3] END bootstrap=False, max_depth=30, max_features=sqrt, min_samples_leaf=2, min_samples_split=2;, score=0.827 total time=   8.5s\n",
      "[CV 1/3] END bootstrap=False, max_depth=30, max_features=sqrt, min_samples_leaf=2, min_samples_split=5;, score=0.697 total time=   7.0s\n",
      "[CV 2/3] END bootstrap=False, max_depth=30, max_features=sqrt, min_samples_leaf=2, min_samples_split=5;, score=0.809 total time=   9.0s\n",
      "[CV 3/3] END bootstrap=False, max_depth=30, max_features=sqrt, min_samples_leaf=2, min_samples_split=5;, score=0.823 total time=   8.4s\n",
      "[CV 1/3] END bootstrap=False, max_depth=30, max_features=sqrt, min_samples_leaf=2, min_samples_split=10;, score=0.674 total time=   7.0s\n",
      "[CV 2/3] END bootstrap=False, max_depth=30, max_features=sqrt, min_samples_leaf=2, min_samples_split=10;, score=0.820 total time=   8.7s\n",
      "[CV 3/3] END bootstrap=False, max_depth=30, max_features=sqrt, min_samples_leaf=2, min_samples_split=10;, score=0.822 total time=   8.2s\n",
      "[CV 1/3] END bootstrap=False, max_depth=30, max_features=sqrt, min_samples_leaf=4, min_samples_split=2;, score=0.673 total time=   6.7s\n",
      "[CV 2/3] END bootstrap=False, max_depth=30, max_features=sqrt, min_samples_leaf=4, min_samples_split=2;, score=0.796 total time=   8.3s\n",
      "[CV 3/3] END bootstrap=False, max_depth=30, max_features=sqrt, min_samples_leaf=4, min_samples_split=2;, score=0.802 total time=   7.9s\n",
      "[CV 1/3] END bootstrap=False, max_depth=30, max_features=sqrt, min_samples_leaf=4, min_samples_split=5;, score=0.681 total time=   6.8s\n",
      "[CV 2/3] END bootstrap=False, max_depth=30, max_features=sqrt, min_samples_leaf=4, min_samples_split=5;, score=0.790 total time=   8.3s\n",
      "[CV 3/3] END bootstrap=False, max_depth=30, max_features=sqrt, min_samples_leaf=4, min_samples_split=5;, score=0.800 total time=   7.9s\n",
      "[CV 1/3] END bootstrap=False, max_depth=30, max_features=sqrt, min_samples_leaf=4, min_samples_split=10;, score=0.670 total time=   6.8s\n",
      "[CV 2/3] END bootstrap=False, max_depth=30, max_features=sqrt, min_samples_leaf=4, min_samples_split=10;, score=0.796 total time=   8.2s\n",
      "[CV 3/3] END bootstrap=False, max_depth=30, max_features=sqrt, min_samples_leaf=4, min_samples_split=10;, score=0.806 total time=   7.8s\n",
      "[CV 1/3] END bootstrap=False, max_depth=32, max_features=auto, min_samples_leaf=1, min_samples_split=2;, score=0.758 total time=   9.3s\n",
      "[CV 2/3] END bootstrap=False, max_depth=32, max_features=auto, min_samples_leaf=1, min_samples_split=2;, score=0.848 total time=  12.4s\n",
      "[CV 3/3] END bootstrap=False, max_depth=32, max_features=auto, min_samples_leaf=1, min_samples_split=2;, score=0.848 total time=  11.6s\n",
      "[CV 1/3] END bootstrap=False, max_depth=32, max_features=auto, min_samples_leaf=1, min_samples_split=5;, score=0.741 total time=   9.0s\n",
      "[CV 2/3] END bootstrap=False, max_depth=32, max_features=auto, min_samples_leaf=1, min_samples_split=5;, score=0.851 total time=  11.5s\n",
      "[CV 3/3] END bootstrap=False, max_depth=32, max_features=auto, min_samples_leaf=1, min_samples_split=5;, score=0.852 total time=  11.0s\n"
     ]
    },
    {
     "name": "stdout",
     "output_type": "stream",
     "text": [
      "[CV 1/3] END bootstrap=False, max_depth=32, max_features=auto, min_samples_leaf=1, min_samples_split=10;, score=0.757 total time=   8.7s\n",
      "[CV 2/3] END bootstrap=False, max_depth=32, max_features=auto, min_samples_leaf=1, min_samples_split=10;, score=0.840 total time=  11.1s\n",
      "[CV 3/3] END bootstrap=False, max_depth=32, max_features=auto, min_samples_leaf=1, min_samples_split=10;, score=0.855 total time=  10.4s\n",
      "[CV 1/3] END bootstrap=False, max_depth=32, max_features=auto, min_samples_leaf=2, min_samples_split=2;, score=0.692 total time=   7.5s\n",
      "[CV 2/3] END bootstrap=False, max_depth=32, max_features=auto, min_samples_leaf=2, min_samples_split=2;, score=0.828 total time=   9.6s\n",
      "[CV 3/3] END bootstrap=False, max_depth=32, max_features=auto, min_samples_leaf=2, min_samples_split=2;, score=0.817 total time=   9.0s\n",
      "[CV 1/3] END bootstrap=False, max_depth=32, max_features=auto, min_samples_leaf=2, min_samples_split=5;, score=0.694 total time=   7.5s\n",
      "[CV 2/3] END bootstrap=False, max_depth=32, max_features=auto, min_samples_leaf=2, min_samples_split=5;, score=0.820 total time=   9.6s\n",
      "[CV 3/3] END bootstrap=False, max_depth=32, max_features=auto, min_samples_leaf=2, min_samples_split=5;, score=0.826 total time=   8.9s\n",
      "[CV 1/3] END bootstrap=False, max_depth=32, max_features=auto, min_samples_leaf=2, min_samples_split=10;, score=0.688 total time=   7.5s\n",
      "[CV 2/3] END bootstrap=False, max_depth=32, max_features=auto, min_samples_leaf=2, min_samples_split=10;, score=0.816 total time=   9.3s\n",
      "[CV 3/3] END bootstrap=False, max_depth=32, max_features=auto, min_samples_leaf=2, min_samples_split=10;, score=0.821 total time=   8.7s\n",
      "[CV 1/3] END bootstrap=False, max_depth=32, max_features=auto, min_samples_leaf=4, min_samples_split=2;, score=0.675 total time=   7.0s\n",
      "[CV 2/3] END bootstrap=False, max_depth=32, max_features=auto, min_samples_leaf=4, min_samples_split=2;, score=0.794 total time=   8.7s\n",
      "[CV 3/3] END bootstrap=False, max_depth=32, max_features=auto, min_samples_leaf=4, min_samples_split=2;, score=0.800 total time=   8.2s\n",
      "[CV 1/3] END bootstrap=False, max_depth=32, max_features=auto, min_samples_leaf=4, min_samples_split=5;, score=0.678 total time=   7.1s\n",
      "[CV 2/3] END bootstrap=False, max_depth=32, max_features=auto, min_samples_leaf=4, min_samples_split=5;, score=0.802 total time=   8.8s\n",
      "[CV 3/3] END bootstrap=False, max_depth=32, max_features=auto, min_samples_leaf=4, min_samples_split=5;, score=0.804 total time=   8.2s\n",
      "[CV 1/3] END bootstrap=False, max_depth=32, max_features=auto, min_samples_leaf=4, min_samples_split=10;, score=0.671 total time=   7.0s\n",
      "[CV 2/3] END bootstrap=False, max_depth=32, max_features=auto, min_samples_leaf=4, min_samples_split=10;, score=0.792 total time=   8.7s\n",
      "[CV 3/3] END bootstrap=False, max_depth=32, max_features=auto, min_samples_leaf=4, min_samples_split=10;, score=0.803 total time=   8.1s\n",
      "[CV 1/3] END bootstrap=False, max_depth=32, max_features=sqrt, min_samples_leaf=1, min_samples_split=2;, score=0.754 total time=   9.3s\n",
      "[CV 2/3] END bootstrap=False, max_depth=32, max_features=sqrt, min_samples_leaf=1, min_samples_split=2;, score=0.843 total time=  12.4s\n",
      "[CV 3/3] END bootstrap=False, max_depth=32, max_features=sqrt, min_samples_leaf=1, min_samples_split=2;, score=0.862 total time=  11.7s\n",
      "[CV 1/3] END bootstrap=False, max_depth=32, max_features=sqrt, min_samples_leaf=1, min_samples_split=5;, score=0.756 total time=   9.0s\n",
      "[CV 2/3] END bootstrap=False, max_depth=32, max_features=sqrt, min_samples_leaf=1, min_samples_split=5;, score=0.848 total time=  11.6s\n",
      "[CV 3/3] END bootstrap=False, max_depth=32, max_features=sqrt, min_samples_leaf=1, min_samples_split=5;, score=0.853 total time=  11.0s\n",
      "[CV 1/3] END bootstrap=False, max_depth=32, max_features=sqrt, min_samples_leaf=1, min_samples_split=10;, score=0.740 total time=   8.8s\n",
      "[CV 2/3] END bootstrap=False, max_depth=32, max_features=sqrt, min_samples_leaf=1, min_samples_split=10;, score=0.852 total time=  11.1s\n",
      "[CV 3/3] END bootstrap=False, max_depth=32, max_features=sqrt, min_samples_leaf=1, min_samples_split=10;, score=0.851 total time=  10.4s\n",
      "[CV 1/3] END bootstrap=False, max_depth=32, max_features=sqrt, min_samples_leaf=2, min_samples_split=2;, score=0.688 total time=   7.5s\n",
      "[CV 2/3] END bootstrap=False, max_depth=32, max_features=sqrt, min_samples_leaf=2, min_samples_split=2;, score=0.816 total time=   9.6s\n",
      "[CV 3/3] END bootstrap=False, max_depth=32, max_features=sqrt, min_samples_leaf=2, min_samples_split=2;, score=0.825 total time=   9.0s\n",
      "[CV 1/3] END bootstrap=False, max_depth=32, max_features=sqrt, min_samples_leaf=2, min_samples_split=5;, score=0.695 total time=   7.5s\n",
      "[CV 2/3] END bootstrap=False, max_depth=32, max_features=sqrt, min_samples_leaf=2, min_samples_split=5;, score=0.807 total time=   9.4s\n",
      "[CV 3/3] END bootstrap=False, max_depth=32, max_features=sqrt, min_samples_leaf=2, min_samples_split=5;, score=0.820 total time=   9.0s\n",
      "[CV 1/3] END bootstrap=False, max_depth=32, max_features=sqrt, min_samples_leaf=2, min_samples_split=10;, score=0.692 total time=   7.5s\n",
      "[CV 2/3] END bootstrap=False, max_depth=32, max_features=sqrt, min_samples_leaf=2, min_samples_split=10;, score=0.812 total time=   9.4s\n",
      "[CV 3/3] END bootstrap=False, max_depth=32, max_features=sqrt, min_samples_leaf=2, min_samples_split=10;, score=0.824 total time=   8.9s\n",
      "[CV 1/3] END bootstrap=False, max_depth=32, max_features=sqrt, min_samples_leaf=4, min_samples_split=2;, score=0.675 total time=   7.1s\n",
      "[CV 2/3] END bootstrap=False, max_depth=32, max_features=sqrt, min_samples_leaf=4, min_samples_split=2;, score=0.804 total time=   8.8s\n",
      "[CV 3/3] END bootstrap=False, max_depth=32, max_features=sqrt, min_samples_leaf=4, min_samples_split=2;, score=0.805 total time=   8.2s\n",
      "[CV 1/3] END bootstrap=False, max_depth=32, max_features=sqrt, min_samples_leaf=4, min_samples_split=5;, score=0.676 total time=   7.2s\n",
      "[CV 2/3] END bootstrap=False, max_depth=32, max_features=sqrt, min_samples_leaf=4, min_samples_split=5;, score=0.797 total time=   8.7s\n",
      "[CV 3/3] END bootstrap=False, max_depth=32, max_features=sqrt, min_samples_leaf=4, min_samples_split=5;, score=0.805 total time=   8.2s\n",
      "[CV 1/3] END bootstrap=False, max_depth=32, max_features=sqrt, min_samples_leaf=4, min_samples_split=10;, score=0.674 total time=   7.1s\n",
      "[CV 2/3] END bootstrap=False, max_depth=32, max_features=sqrt, min_samples_leaf=4, min_samples_split=10;, score=0.803 total time=   8.7s\n",
      "[CV 3/3] END bootstrap=False, max_depth=32, max_features=sqrt, min_samples_leaf=4, min_samples_split=10;, score=0.808 total time=   8.2s\n"
     ]
    },
    {
     "data": {
      "text/plain": [
       "GridSearchCV(cv=3, estimator=RandomForestClassifier(), n_jobs=1,\n",
       "             param_grid={'bootstrap': [True, False],\n",
       "                         'max_depth': [6, 8, 10, 12, 14, 16, 18, 20, 22, 24, 26,\n",
       "                                       28, 30, 32],\n",
       "                         'max_features': ['auto', 'sqrt'],\n",
       "                         'min_samples_leaf': [1, 2, 4],\n",
       "                         'min_samples_split': [2, 5, 10]},\n",
       "             verbose=3)"
      ]
     },
     "execution_count": 69,
     "metadata": {},
     "output_type": "execute_result"
    }
   ],
   "source": [
    "rf_model_grid = RandomForestClassifier(n_estimators = 100)\n",
    "\n",
    "\n",
    "grid_model = GridSearchCV(rf_model_grid, param_grid = random_grid, cv = 3, verbose=3, n_jobs=1)\n",
    "\n",
    "# Fit on data\n",
    "\n",
    "grid_model.fit(X_train_res, y_train_res)"
   ]
  },
  {
   "cell_type": "code",
   "execution_count": 70,
   "id": "9ad50f64",
   "metadata": {},
   "outputs": [
    {
     "data": {
      "text/plain": [
       "{'bootstrap': False,\n",
       " 'max_depth': 32,\n",
       " 'max_features': 'sqrt',\n",
       " 'min_samples_leaf': 1,\n",
       " 'min_samples_split': 2}"
      ]
     },
     "execution_count": 70,
     "metadata": {},
     "output_type": "execute_result"
    }
   ],
   "source": [
    "grid_model.best_params_"
   ]
  },
  {
   "cell_type": "code",
   "execution_count": 71,
   "id": "beb10b78",
   "metadata": {},
   "outputs": [
    {
     "data": {
      "text/plain": [
       "0.8197016808616105"
      ]
     },
     "execution_count": 71,
     "metadata": {},
     "output_type": "execute_result"
    }
   ],
   "source": [
    "grid_model.best_score_"
   ]
  },
  {
   "cell_type": "code",
   "execution_count": 76,
   "id": "b52d0eff",
   "metadata": {},
   "outputs": [],
   "source": [
    "rf_model_1 = RandomForestClassifier(n_estimators=100, bootstrap=False, max_depth=32,\n",
    "                            max_features='sqrt',min_samples_leaf=1,min_samples_split=2)\n",
    "\n",
    "rf_model.fit(X_train_res, y_train_res)\n",
    "y_pred_train = rf_model.predict(X_train_res)"
   ]
  },
  {
   "cell_type": "code",
   "execution_count": 77,
   "id": "e2d409e3",
   "metadata": {},
   "outputs": [
    {
     "name": "stdout",
     "output_type": "stream",
     "text": [
      "              precision    recall  f1-score   support\n",
      "\n",
      "    negative       0.86      0.80      0.83      7397\n",
      "     neutral       0.72      0.83      0.77      7397\n",
      "    positive       0.88      0.81      0.84      7397\n",
      "\n",
      "    accuracy                           0.81     22191\n",
      "   macro avg       0.82      0.81      0.81     22191\n",
      "weighted avg       0.82      0.81      0.81     22191\n",
      "\n"
     ]
    }
   ],
   "source": [
    "print(classification_report(y_train_res,y_pred_train, zero_division=0))"
   ]
  },
  {
   "cell_type": "code",
   "execution_count": 78,
   "id": "b6bf358a",
   "metadata": {
    "scrolled": true
   },
   "outputs": [
    {
     "name": "stdout",
     "output_type": "stream",
     "text": [
      "              precision    recall  f1-score   support\n",
      "\n",
      "    negative       0.84      0.78      0.81      1781\n",
      "     neutral       0.52      0.62      0.57       680\n",
      "    positive       0.64      0.61      0.63       467\n",
      "\n",
      "    accuracy                           0.72      2928\n",
      "   macro avg       0.67      0.67      0.67      2928\n",
      "weighted avg       0.73      0.72      0.72      2928\n",
      "\n"
     ]
    }
   ],
   "source": [
    "y_pred_test = rf_model.predict(X_test_text_vectorised)\n",
    "\n",
    "rf_classification_report = classification_report(y_test,y_pred_test, output_dict=True)\n",
    "\n",
    "print(classification_report(y_test,y_pred_test))"
   ]
  },
  {
   "cell_type": "code",
   "execution_count": null,
   "id": "a23cfd2c",
   "metadata": {},
   "outputs": [],
   "source": []
  }
 ],
 "metadata": {
  "kernelspec": {
   "display_name": "Python 3",
   "language": "python",
   "name": "python3"
  },
  "language_info": {
   "codemirror_mode": {
    "name": "ipython",
    "version": 3
   },
   "file_extension": ".py",
   "mimetype": "text/x-python",
   "name": "python",
   "nbconvert_exporter": "python",
   "pygments_lexer": "ipython3",
   "version": "3.8.8"
  }
 },
 "nbformat": 4,
 "nbformat_minor": 5
}
